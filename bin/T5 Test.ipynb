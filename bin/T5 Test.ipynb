{
 "cells": [
  {
   "cell_type": "code",
   "execution_count": 10,
   "id": "0958db0a-312c-497a-ba84-9ce63a8ebe61",
   "metadata": {},
   "outputs": [],
   "source": [
    "import datetime\n",
    "import os\n",
    "import random\n",
    "import pandas as pd\n",
    "import numpy as np\n",
    "import operator\n",
    "import random\n",
    "from tqdm import tqdm\n",
    "\n",
    "try:\n",
    "    import binutil  # required to import from dreamcoder modules\n",
    "except ModuleNotFoundError:\n",
    "    import bin.binutil  # alt import if called as module\n",
    "\n",
    "from dreamcoder.task import Task\n",
    "from dreamcoder.dreamcoder import *\n",
    "from dreamcoder.domains.arc.primitives import basePrimitives, tmap, taction, idx_to_action, tdirection\n",
    "from dreamcoder.grammar import Grammar\n",
    "from dreamcoder.utilities import testTrainSplit, eprint\n",
    "from dreamcoder.type import arrow\n",
    "from dreamcoder.domains.minigrid.nn_model_maze import *\n",
    "from dreamcoder.dreamcoder import commandlineArguments\n",
    "from dreamcoder.utilities import numberOfCPUs\n"
   ]
  },
  {
   "cell_type": "code",
   "execution_count": 6,
   "id": "367f0bac-2ab5-40d4-ad4a-7804005cc09d",
   "metadata": {},
   "outputs": [
    {
     "name": "stdout",
     "output_type": "stream",
     "text": [
      "/usr/bin/bash: /opt/miniconda3/lib/libtinfo.so.6: no version information available (required by /usr/bin/bash)\n",
      "Sun Feb  5 17:29:10 2023       \n",
      "+-----------------------------------------------------------------------------+\n",
      "| NVIDIA-SMI 460.91.03    Driver Version: 460.91.03    CUDA Version: 11.2     |\n",
      "|-------------------------------+----------------------+----------------------+\n",
      "| GPU  Name        Persistence-M| Bus-Id        Disp.A | Volatile Uncorr. ECC |\n",
      "| Fan  Temp  Perf  Pwr:Usage/Cap|         Memory-Usage | GPU-Util  Compute M. |\n",
      "|                               |                      |               MIG M. |\n",
      "|===============================+======================+======================|\n",
      "|   0  RTX A6000           On   | 00000000:0A:00.0 Off |                  Off |\n",
      "| 53%   82C    P2   272W / 300W |  48682MiB / 48685MiB |    100%      Default |\n",
      "|                               |                      |                  N/A |\n",
      "+-------------------------------+----------------------+----------------------+\n",
      "                                                                               \n",
      "+-----------------------------------------------------------------------------+\n",
      "| Processes:                                                                  |\n",
      "|  GPU   GI   CI        PID   Type   Process name                  GPU Memory |\n",
      "|        ID   ID                                                   Usage      |\n",
      "|=============================================================================|\n",
      "|    0   N/A  N/A   2970076      C   ...3/envs/jupyter/bin/python    48679MiB |\n",
      "+-----------------------------------------------------------------------------+\n"
     ]
    }
   ],
   "source": [
    "!nvidia-smi"
   ]
  },
  {
   "cell_type": "code",
   "execution_count": 5,
   "id": "1d2ed01c-4a8e-4989-ad49-6ead00270e62",
   "metadata": {},
   "outputs": [],
   "source": [
    "from transformers import RobertaTokenizer, T5ForConditionalGeneration, AutoTokenizer, TrainingArguments, Seq2SeqTrainer\n",
    "\n",
    "target_tokenizer = AutoTokenizer.from_pretrained('google/byt5-base')\n",
    "tokenizer = RobertaTokenizer.from_pretrained('Salesforce/codet5-base')\n",
    "model = T5ForConditionalGeneration.from_pretrained('Salesforce/codet5-small')\n",
    "#model = T5ForConditionalGeneration.from_pretrained('google/byt5-base')"
   ]
  },
  {
   "cell_type": "code",
   "execution_count": 6,
   "id": "c588d3c2-db15-4af7-a464-f859803c9892",
   "metadata": {},
   "outputs": [],
   "source": [
    "def get_out_string(out):\n",
    "    if out == 0:\n",
    "        return 'zero'\n",
    "    elif out == 1:\n",
    "        return 'one'\n",
    "    elif out == 2:\n",
    "        return 'two'\n",
    "    elif out == 3:\n",
    "        return 'three'\n",
    "    elif out == 4:\n",
    "        return 'four'\n",
    "    elif out == 5:\n",
    "        return 'five'\n",
    "    elif out == 6:\n",
    "        return 'six'\n",
    "    elif out == 7:\n",
    "        return 'seven'\n",
    "    elif out == 8:\n",
    "        return 'eight'\n",
    "    elif out == 9:\n",
    "        return 'nine'\n",
    "        \n",
    "def all_equal(lst):\n",
    "    return not lst or lst.count(lst[0]) == len(lst)\n",
    "\n",
    "\n",
    "def parseData(taskData, groupby='run_id', verbose=False):\n",
    "    columns = ['process', 'obs', 'obs direction', \n",
    "               'action', 'reward', 'done', 'run_id']\n",
    "\n",
    "    df = pd.DataFrame(taskData, columns=columns)\n",
    "    df = df.drop(['process'], axis=1)\n",
    "    df.action = df.action.apply(lambda x: x[0])\n",
    "    df.insert(0, 'run_id', df.pop('run_id'))\n",
    "\n",
    "    group = df.groupby('run_id')\n",
    "\n",
    "    groups_to_consider = []\n",
    "\n",
    "    for key in group.groups.keys():\n",
    "        g = group.get_group(key)\n",
    "        if verbose:\n",
    "            print(f'group {key}')\n",
    "        if not g[g.reward > 0.0].count().all():\n",
    "            if verbose:\n",
    "                print(f'no reward..')\n",
    "        else:\n",
    "            reward = g[g.reward > 0.0].reward.iloc[0]\n",
    "            if reward < 0.9:\n",
    "                if verbose:\n",
    "                    print(f'skip {key} because reward is to small')\n",
    "                continue\n",
    "            if verbose:\n",
    "                print(f'needed {g.shape[0]} steps. Reward: {reward}')\n",
    "            groups_to_consider.append(key)\n",
    "    group = group.filter(lambda x: x.run_id.mean() in groups_to_consider)\n",
    "    print(group.shape)\n",
    "    return group.groupby(groupby)\n",
    "\n",
    "\n",
    "def makeTasks(data):\n",
    "    keys = data.groups.keys()\n",
    "    print('keys:', len(keys))\n",
    "    tasks = []\n",
    "    for key in keys:\n",
    "        to_imitate = data.get_group(key)\n",
    "        chunkSize = random.randint(5, 25)\n",
    "        examples = []\n",
    "        part = 0\n",
    "        for _, row in to_imitate.iterrows():\n",
    "            input_ex = ((row.obs[0] * 10).astype(int).tolist(), int(row['obs direction'],))\n",
    "            output_ex = int(row.action)\n",
    "            examples.append((input_ex, output_ex))\n",
    "\n",
    "            if chunkSize > 0 and chunkSize <= len(examples):\n",
    "                # we check that the chosen actions are not all the same\n",
    "                # otherwise it is too easy to find a program if all actions/output examples are the same\n",
    "                # this results in programs such as (lambda (lambda forward-action))\n",
    "                all_chosen_actions = list(zip(*examples))[1]\n",
    "                if not all_equal(all_chosen_actions):\n",
    "                    tasks.append(Task(f'perfect maze {key} size {chunkSize} part {part}', arrow(tmap, tdirection, taction), examples))\n",
    "                    part += 1\n",
    "                    # we reset examples and add new chunkSize taskss\n",
    "                    examples = []\n",
    "                    chunkSize = random.randint(5, 20)\n",
    "                    \n",
    "        if len(examples) > 3:\n",
    "            all_chosen_actions = list(zip(*examples))[1]\n",
    "            if not all_equal(all_chosen_actions):\n",
    "                tasks.append(Task(f'perfect maze {key} size {chunkSize} part {part}', arrow(tmap, tdirection, taction), examples))\n",
    "\n",
    "    # select random obs and actions to test\n",
    "    for key in keys:\n",
    "        chunkSize = random.randint(5, 25)\n",
    "        to_imitate = data.get_group(key)\n",
    "        examples = []\n",
    "        part = 0\n",
    "        already_sampled = []\n",
    "        while len(to_imitate.index) - len(already_sampled) > chunkSize:\n",
    "            curr_sample = random.sample([x for x in to_imitate.index if x not in already_sampled], chunkSize)\n",
    "            for i in curr_sample:\n",
    "                row = to_imitate.loc[i]\n",
    "                input_ex = ((row.obs[0] * 10).astype(int).tolist(), int(row['obs direction'],))\n",
    "                output_ex = int(row.action)\n",
    "                examples.append((input_ex, output_ex))\n",
    "\n",
    "                if chunkSize > 0 and chunkSize == len(examples):\n",
    "                    # we check that the chosen actions are not all the same\n",
    "                    # otherwise it is too easy to find a program if all actions/output examples are the same\n",
    "                    # this results in programs such as (lambda (lambda forward-action))\n",
    "                    all_chosen_actions = list(zip(*examples))[1]\n",
    "                    if not all_equal(all_chosen_actions):\n",
    "                        tasks.append(Task(f'perfect maze {key} size {chunkSize} random {part}', arrow(tmap, tdirection, taction), examples))\n",
    "                        part += 1\n",
    "                        # we reset examples and add new chunkSize taskss\n",
    "                        examples = []\n",
    "\n",
    "            already_sampled += curr_sample\n",
    "\n",
    "    print(f'Created {len(tasks)} tasks with random chunkSize')\n",
    "    return tasks\n",
    "\n",
    "\n",
    "def run_dreamcoder(arguments, taskData, outputDirectory, chunkSize, resumeIteration=None, iterations=None):\n",
    "    random.seed(42)\n",
    "    tasks = makeTasks(taskData, chunkSize=chunkSize)\n",
    "    # return tasks\n",
    "    eprint(\"Got %d tasks...\" % len(tasks))\n",
    "\n",
    "    if len(tasks) == 0:\n",
    "        return None\n",
    "\n",
    "    arguments.pop('primitives', None)\n",
    "    arguments.pop('resume', None)\n",
    "    arguments.pop('iterations', None)\n",
    "    # Create grammar\n",
    "    grammar = Grammar.uniform(basePrimitives())\n",
    "\n",
    "    # EC iterate\n",
    "    generator = ecIteratorT5(grammar,\n",
    "                           tasks,\n",
    "                           outputPrefix=\"%s/maze\" % outputDirectory,\n",
    "                           resume=resumeIteration,\n",
    "                           iterations=iterations,\n",
    "                           **arguments)\n",
    "    for i, _ in enumerate(generator):\n",
    "        pass\n",
    "        #print('ecIterator count {}'.format(i))\n",
    "\n",
    "    if resumeIteration is None:\n",
    "        return 1\n",
    "\n",
    "    return int(resumeIteration) + 1\n"
   ]
  },
  {
   "cell_type": "code",
   "execution_count": 11,
   "id": "2007d20a-b43b-46ba-be53-25207440cf2f",
   "metadata": {},
   "outputs": [],
   "source": [
    "class DatasetCreator():\n",
    "    def __init__(self, featureExtractor, grammar):\n",
    "        super().__init__()\n",
    "        self.id = id\n",
    "        self.featureExtractor = featureExtractor\n",
    "        self.generativeModel = grammar\n",
    "\n",
    "    def taskEmbeddings(self, tasks):\n",
    "        return {task: self.featureExtractor.featuresOfTask(task).data.cpu().numpy()\n",
    "                for task in tasks}\n",
    "\n",
    "\n",
    "    def replaceProgramsWithLikelihoodSummaries(self, frontier):\n",
    "        return Frontier(\n",
    "            [FrontierEntry(\n",
    "                program=self.grammar.closedLikelihoodSummary(frontier.task.request, e.program),\n",
    "                logLikelihood=e.logLikelihood,\n",
    "                logPrior=e.logPrior) for e in frontier],\n",
    "            task=frontier.task)\n",
    "\n",
    "    def sampleHelmholtz(self, requests, statusUpdate=None, seed=None):\n",
    "        if seed is not None:\n",
    "            random.seed(seed)\n",
    "        request = random.choice(requests)\n",
    "\n",
    "        program = self.generativeModel.sample(request, maximumDepth=6, maxAttempts=100)\n",
    "        if program is None:\n",
    "            return None\n",
    "        task = self.featureExtractor.taskOfProgram(program, request)\n",
    "\n",
    "        if statusUpdate is not None:\n",
    "            flushEverything()\n",
    "        if task is None:\n",
    "            return None\n",
    "\n",
    "        if hasattr(self.featureExtractor, 'lexicon'):\n",
    "            if self.featureExtractor.tokenize(task.examples) is None:\n",
    "                return None\n",
    "\n",
    "        ll = self.generativeModel.logLikelihood(request, program)\n",
    "        frontier = Frontier([FrontierEntry(program=program,\n",
    "                                           logLikelihood=0., logPrior=ll)],\n",
    "                            task=task)\n",
    "        return frontier\n",
    "    \n",
    "    def sampleProgramWithTask(self, requests, statusUpdate=None, seed=None):\n",
    "        if seed is not None:\n",
    "            random.seed(seed)\n",
    "        request = random.choice(requests)\n",
    "\n",
    "        program = self.generativeModel.sample(request, maximumDepth=6, maxAttempts=100)\n",
    "        if program is None:\n",
    "            return None\n",
    "        task = self.featureExtractor.taskOfProgram(program, request)\n",
    "\n",
    "        if statusUpdate is not None:\n",
    "            flushEverything()\n",
    "        if task is None:\n",
    "            return None, None\n",
    "\n",
    "        return task, program\n",
    "    \n",
    "    def sampleManyProgramsWithTasks(self, tasks, N):\n",
    "        eprint(\"Sampling %d programs from the prior...\" % N)\n",
    "        flushEverything()\n",
    "        requests = list({t.request for t in tasks})\n",
    "\n",
    "        frequency = N / 50\n",
    "        startingSeed = random.random()\n",
    "\n",
    "        # Sequentially for ensemble training.\n",
    "        data = [self.sampleProgramWithTask(requests,\n",
    "                                        statusUpdate='.' if n % frequency == 0 else None,\n",
    "                                        seed=startingSeed + n) for n in tqdm(range(N))]\n",
    "\n",
    "\n",
    "        flushEverything()\n",
    "        data = [z for z in data if not any(x is None for x in z)]\n",
    "        eprint()\n",
    "        eprint(\"Got %d/%d valid datapoints.\" % (len(data), N))\n",
    "        flushEverything()\n",
    "        \n",
    "        return data\n",
    "    \n",
    "\n",
    "    def sampleManyFrontiers(self, tasks, N):\n",
    "        eprint(\"Sampling %d programs from the prior...\" % N)\n",
    "        flushEverything()\n",
    "        requests = list({t.request for t in tasks})\n",
    "\n",
    "        frequency = N / 50\n",
    "        startingSeed = random.random()\n",
    "\n",
    "        # Sequentially for ensemble training.\n",
    "        frontiers = [self.sampleHelmholtz(requests,\n",
    "                                        statusUpdate='.' if n % frequency == 0 else None,\n",
    "                                        seed=startingSeed + n) for n in range(N)]\n",
    "\n",
    "        eprint()\n",
    "        flushEverything()\n",
    "        frontiers = [z for z in frontiers if z is not None]\n",
    "        eprint()\n",
    "        eprint(\"Got %d/%d valid frontiers.\" % (len(frontiers), N))\n",
    "        flushEverything()\n",
    "        \n",
    "        return frontiers\n",
    "    \n",
    "    def createDataset(self, tasks, N, with_tasks=False):\n",
    "        dataset = []\n",
    "        data = self.sampleManyProgramsWithTasks(tasks, N)\n",
    "        for task, program in data:\n",
    "            inp_prompt = ''\n",
    "            for examples in task.examples:\n",
    "                inp = str(examples[0])\n",
    "                out = examples[1]\n",
    "                inp_string = inp.replace(',', '').replace('[', '').replace(']', '').replace('(', '').replace(')', '')\n",
    "                out_string = get_out_string(out)\n",
    "                inp_prompt += f'{inp_string} {out_string} '\n",
    "                \n",
    "            if with_tasks:\n",
    "                dataset.append((inp_prompt.strip(), str(program), task))\n",
    "            else:\n",
    "                dataset.append((inp_prompt.strip(), str(program)))\n",
    "            \n",
    "        return dataset\n",
    "        \n",
    "class Collator:\n",
    "    def __init__(self, tokenizer):\n",
    "        self.tokenizer = tokenizer\n",
    "\n",
    "    def __call__(self, batch):\n",
    "        # entry[1] is the spec, need to call repr to turn it into a string. entry[0] is the prog_str already\n",
    "        ret = {\"input_ids\": self.tokenizer([entry[0] for entry in batch], padding=True, return_tensors='pt').input_ids, \n",
    "            \"labels\": self.tokenizer([entry[1] for entry in batch], padding=True, return_tensors='pt').input_ids}\n",
    "        return ret              "
   ]
  },
  {
   "cell_type": "code",
   "execution_count": 15,
   "id": "0d61a210-ba5b-40a9-b3be-80d1ac003d5e",
   "metadata": {},
   "outputs": [
    {
     "name": "stdout",
     "output_type": "stream",
     "text": [
      "(775, 6)\n",
      "keys: 11\n",
      "Created 109 tasks with random chunkSize\n",
      "x input dim 5 y input dim 5 channel input dim 1\n"
     ]
    },
    {
     "name": "stderr",
     "output_type": "stream",
     "text": [
      "Sampling 50000 programs from the prior...\n",
      "100%|██████████████████████████████████████████████████████████████████████████████████████████████████████████████████████████████████████████████████████████████████████████████████████████████████████████████| 50000/50000 [10:14<00:00, 81.36it/s]\n",
      "\n",
      "Got 50000/50000 valid datapoints.\n"
     ]
    }
   ],
   "source": [
    "data_file = \"/home/ma/e/eberhardinger/workspaces/ec/dreamcoder/domains/perfect-maze-minigrid/collected_data/2022-12-10T15:32:12.354349.npy\"\n",
    "data = np.load(data_file, allow_pickle=True)\n",
    "parsed_data = parseData(data)\n",
    "tasks = makeTasks(parsed_data)\n",
    "\n",
    "dataset_creator = DatasetCreator(MinigridMazeFeatureExtractor(tasks), Grammar.uniform(basePrimitives()))\n",
    "dataset = dataset_creator.createDataset(tasks, 50000)\n",
    "np.save('gen_data_50000.npy', np.array(dataset))"
   ]
  },
  {
   "cell_type": "code",
   "execution_count": 20,
   "id": "039e8ac3-9acd-4824-a7fa-1ca856d9101e",
   "metadata": {},
   "outputs": [
    {
     "name": "stderr",
     "output_type": "stream",
     "text": [
      "PyTorch: setting up devices\n",
      "The default value for the training argument `--report_to` will change in v5 (from all installed integrations to none). In v5, you will need to use `--report_to all` to get the same behavior as now. You should start updating your code and make this info disappear :-).\n"
     ]
    }
   ],
   "source": [
    "training_args = TrainingArguments(per_device_train_batch_size=16, \n",
    "                                  gradient_accumulation_steps=1,\n",
    "                                  save_steps = 10000,\n",
    "                                  num_train_epochs=20,\n",
    "                                  output_dir = './t5-checkpoints/')\n",
    "\n",
    "from torch.utils.data import Dataset, DataLoader\n",
    "\n",
    "class FactoringDataset(Dataset):\n",
    "    def __init__(self, dataset_itself):\n",
    "        self.data = dataset_itself\n",
    "        \n",
    "    def __getitem__(self, idx):\n",
    "        return self.data[idx]\n",
    "    \n",
    "    def __len__(self):\n",
    "        return len(self.data)\n",
    "\n",
    "dataset = FactoringDataset(np.load('gen_data_50000.npy'))"
   ]
  },
  {
   "cell_type": "code",
   "execution_count": 21,
   "id": "2fa45985-a0b0-4d0b-a1b7-4efb0bf4149c",
   "metadata": {
    "tags": []
   },
   "outputs": [
    {
     "name": "stderr",
     "output_type": "stream",
     "text": [
      "***** Running training *****\n",
      "  Num examples = 50000\n",
      "  Num Epochs = 20\n",
      "  Instantaneous batch size per device = 16\n",
      "  Total train batch size (w. parallel, distributed & accumulation) = 16\n",
      "  Gradient Accumulation steps = 1\n",
      "  Total optimization steps = 62500\n",
      "  Number of trainable parameters = 60492288\n"
     ]
    },
    {
     "data": {
      "text/html": [
       "\n",
       "    <div>\n",
       "      \n",
       "      <progress value='62500' max='62500' style='width:300px; height:20px; vertical-align: middle;'></progress>\n",
       "      [62500/62500 3:55:11, Epoch 20/20]\n",
       "    </div>\n",
       "    <table border=\"1\" class=\"dataframe\">\n",
       "  <thead>\n",
       " <tr style=\"text-align: left;\">\n",
       "      <th>Step</th>\n",
       "      <th>Training Loss</th>\n",
       "    </tr>\n",
       "  </thead>\n",
       "  <tbody>\n",
       "    <tr>\n",
       "      <td>500</td>\n",
       "      <td>0.298100</td>\n",
       "    </tr>\n",
       "    <tr>\n",
       "      <td>1000</td>\n",
       "      <td>0.174800</td>\n",
       "    </tr>\n",
       "    <tr>\n",
       "      <td>1500</td>\n",
       "      <td>0.166400</td>\n",
       "    </tr>\n",
       "    <tr>\n",
       "      <td>2000</td>\n",
       "      <td>0.160700</td>\n",
       "    </tr>\n",
       "    <tr>\n",
       "      <td>2500</td>\n",
       "      <td>0.159400</td>\n",
       "    </tr>\n",
       "    <tr>\n",
       "      <td>3000</td>\n",
       "      <td>0.156600</td>\n",
       "    </tr>\n",
       "    <tr>\n",
       "      <td>3500</td>\n",
       "      <td>0.152000</td>\n",
       "    </tr>\n",
       "    <tr>\n",
       "      <td>4000</td>\n",
       "      <td>0.151700</td>\n",
       "    </tr>\n",
       "    <tr>\n",
       "      <td>4500</td>\n",
       "      <td>0.151200</td>\n",
       "    </tr>\n",
       "    <tr>\n",
       "      <td>5000</td>\n",
       "      <td>0.150700</td>\n",
       "    </tr>\n",
       "    <tr>\n",
       "      <td>5500</td>\n",
       "      <td>0.150800</td>\n",
       "    </tr>\n",
       "    <tr>\n",
       "      <td>6000</td>\n",
       "      <td>0.147000</td>\n",
       "    </tr>\n",
       "    <tr>\n",
       "      <td>6500</td>\n",
       "      <td>0.146500</td>\n",
       "    </tr>\n",
       "    <tr>\n",
       "      <td>7000</td>\n",
       "      <td>0.145000</td>\n",
       "    </tr>\n",
       "    <tr>\n",
       "      <td>7500</td>\n",
       "      <td>0.145800</td>\n",
       "    </tr>\n",
       "    <tr>\n",
       "      <td>8000</td>\n",
       "      <td>0.145000</td>\n",
       "    </tr>\n",
       "    <tr>\n",
       "      <td>8500</td>\n",
       "      <td>0.143200</td>\n",
       "    </tr>\n",
       "    <tr>\n",
       "      <td>9000</td>\n",
       "      <td>0.141900</td>\n",
       "    </tr>\n",
       "    <tr>\n",
       "      <td>9500</td>\n",
       "      <td>0.141600</td>\n",
       "    </tr>\n",
       "    <tr>\n",
       "      <td>10000</td>\n",
       "      <td>0.140300</td>\n",
       "    </tr>\n",
       "    <tr>\n",
       "      <td>10500</td>\n",
       "      <td>0.142900</td>\n",
       "    </tr>\n",
       "    <tr>\n",
       "      <td>11000</td>\n",
       "      <td>0.141600</td>\n",
       "    </tr>\n",
       "    <tr>\n",
       "      <td>11500</td>\n",
       "      <td>0.141300</td>\n",
       "    </tr>\n",
       "    <tr>\n",
       "      <td>12000</td>\n",
       "      <td>0.139700</td>\n",
       "    </tr>\n",
       "    <tr>\n",
       "      <td>12500</td>\n",
       "      <td>0.141100</td>\n",
       "    </tr>\n",
       "    <tr>\n",
       "      <td>13000</td>\n",
       "      <td>0.140500</td>\n",
       "    </tr>\n",
       "    <tr>\n",
       "      <td>13500</td>\n",
       "      <td>0.139600</td>\n",
       "    </tr>\n",
       "    <tr>\n",
       "      <td>14000</td>\n",
       "      <td>0.139900</td>\n",
       "    </tr>\n",
       "    <tr>\n",
       "      <td>14500</td>\n",
       "      <td>0.139000</td>\n",
       "    </tr>\n",
       "    <tr>\n",
       "      <td>15000</td>\n",
       "      <td>0.138600</td>\n",
       "    </tr>\n",
       "    <tr>\n",
       "      <td>15500</td>\n",
       "      <td>0.139300</td>\n",
       "    </tr>\n",
       "    <tr>\n",
       "      <td>16000</td>\n",
       "      <td>0.136600</td>\n",
       "    </tr>\n",
       "    <tr>\n",
       "      <td>16500</td>\n",
       "      <td>0.137900</td>\n",
       "    </tr>\n",
       "    <tr>\n",
       "      <td>17000</td>\n",
       "      <td>0.139800</td>\n",
       "    </tr>\n",
       "    <tr>\n",
       "      <td>17500</td>\n",
       "      <td>0.137400</td>\n",
       "    </tr>\n",
       "    <tr>\n",
       "      <td>18000</td>\n",
       "      <td>0.139100</td>\n",
       "    </tr>\n",
       "    <tr>\n",
       "      <td>18500</td>\n",
       "      <td>0.136500</td>\n",
       "    </tr>\n",
       "    <tr>\n",
       "      <td>19000</td>\n",
       "      <td>0.138300</td>\n",
       "    </tr>\n",
       "    <tr>\n",
       "      <td>19500</td>\n",
       "      <td>0.137500</td>\n",
       "    </tr>\n",
       "    <tr>\n",
       "      <td>20000</td>\n",
       "      <td>0.136700</td>\n",
       "    </tr>\n",
       "    <tr>\n",
       "      <td>20500</td>\n",
       "      <td>0.138200</td>\n",
       "    </tr>\n",
       "    <tr>\n",
       "      <td>21000</td>\n",
       "      <td>0.137100</td>\n",
       "    </tr>\n",
       "    <tr>\n",
       "      <td>21500</td>\n",
       "      <td>0.137400</td>\n",
       "    </tr>\n",
       "    <tr>\n",
       "      <td>22000</td>\n",
       "      <td>0.138900</td>\n",
       "    </tr>\n",
       "    <tr>\n",
       "      <td>22500</td>\n",
       "      <td>0.138100</td>\n",
       "    </tr>\n",
       "    <tr>\n",
       "      <td>23000</td>\n",
       "      <td>0.136500</td>\n",
       "    </tr>\n",
       "    <tr>\n",
       "      <td>23500</td>\n",
       "      <td>0.136600</td>\n",
       "    </tr>\n",
       "    <tr>\n",
       "      <td>24000</td>\n",
       "      <td>0.137200</td>\n",
       "    </tr>\n",
       "    <tr>\n",
       "      <td>24500</td>\n",
       "      <td>0.135800</td>\n",
       "    </tr>\n",
       "    <tr>\n",
       "      <td>25000</td>\n",
       "      <td>0.135800</td>\n",
       "    </tr>\n",
       "    <tr>\n",
       "      <td>25500</td>\n",
       "      <td>0.134700</td>\n",
       "    </tr>\n",
       "    <tr>\n",
       "      <td>26000</td>\n",
       "      <td>0.135500</td>\n",
       "    </tr>\n",
       "    <tr>\n",
       "      <td>26500</td>\n",
       "      <td>0.135900</td>\n",
       "    </tr>\n",
       "    <tr>\n",
       "      <td>27000</td>\n",
       "      <td>0.139200</td>\n",
       "    </tr>\n",
       "    <tr>\n",
       "      <td>27500</td>\n",
       "      <td>0.136200</td>\n",
       "    </tr>\n",
       "    <tr>\n",
       "      <td>28000</td>\n",
       "      <td>0.138000</td>\n",
       "    </tr>\n",
       "    <tr>\n",
       "      <td>28500</td>\n",
       "      <td>0.134800</td>\n",
       "    </tr>\n",
       "    <tr>\n",
       "      <td>29000</td>\n",
       "      <td>0.137600</td>\n",
       "    </tr>\n",
       "    <tr>\n",
       "      <td>29500</td>\n",
       "      <td>0.136800</td>\n",
       "    </tr>\n",
       "    <tr>\n",
       "      <td>30000</td>\n",
       "      <td>0.135500</td>\n",
       "    </tr>\n",
       "    <tr>\n",
       "      <td>30500</td>\n",
       "      <td>0.135600</td>\n",
       "    </tr>\n",
       "    <tr>\n",
       "      <td>31000</td>\n",
       "      <td>0.136300</td>\n",
       "    </tr>\n",
       "    <tr>\n",
       "      <td>31500</td>\n",
       "      <td>0.136800</td>\n",
       "    </tr>\n",
       "    <tr>\n",
       "      <td>32000</td>\n",
       "      <td>0.134900</td>\n",
       "    </tr>\n",
       "    <tr>\n",
       "      <td>32500</td>\n",
       "      <td>0.134300</td>\n",
       "    </tr>\n",
       "    <tr>\n",
       "      <td>33000</td>\n",
       "      <td>0.134600</td>\n",
       "    </tr>\n",
       "    <tr>\n",
       "      <td>33500</td>\n",
       "      <td>0.136000</td>\n",
       "    </tr>\n",
       "    <tr>\n",
       "      <td>34000</td>\n",
       "      <td>0.136800</td>\n",
       "    </tr>\n",
       "    <tr>\n",
       "      <td>34500</td>\n",
       "      <td>0.136200</td>\n",
       "    </tr>\n",
       "    <tr>\n",
       "      <td>35000</td>\n",
       "      <td>0.135100</td>\n",
       "    </tr>\n",
       "    <tr>\n",
       "      <td>35500</td>\n",
       "      <td>0.134800</td>\n",
       "    </tr>\n",
       "    <tr>\n",
       "      <td>36000</td>\n",
       "      <td>0.136400</td>\n",
       "    </tr>\n",
       "    <tr>\n",
       "      <td>36500</td>\n",
       "      <td>0.135500</td>\n",
       "    </tr>\n",
       "    <tr>\n",
       "      <td>37000</td>\n",
       "      <td>0.135800</td>\n",
       "    </tr>\n",
       "    <tr>\n",
       "      <td>37500</td>\n",
       "      <td>0.134500</td>\n",
       "    </tr>\n",
       "    <tr>\n",
       "      <td>38000</td>\n",
       "      <td>0.135600</td>\n",
       "    </tr>\n",
       "    <tr>\n",
       "      <td>38500</td>\n",
       "      <td>0.136100</td>\n",
       "    </tr>\n",
       "    <tr>\n",
       "      <td>39000</td>\n",
       "      <td>0.135500</td>\n",
       "    </tr>\n",
       "    <tr>\n",
       "      <td>39500</td>\n",
       "      <td>0.133800</td>\n",
       "    </tr>\n",
       "    <tr>\n",
       "      <td>40000</td>\n",
       "      <td>0.133900</td>\n",
       "    </tr>\n",
       "    <tr>\n",
       "      <td>40500</td>\n",
       "      <td>0.134700</td>\n",
       "    </tr>\n",
       "    <tr>\n",
       "      <td>41000</td>\n",
       "      <td>0.136100</td>\n",
       "    </tr>\n",
       "    <tr>\n",
       "      <td>41500</td>\n",
       "      <td>0.134200</td>\n",
       "    </tr>\n",
       "    <tr>\n",
       "      <td>42000</td>\n",
       "      <td>0.133700</td>\n",
       "    </tr>\n",
       "    <tr>\n",
       "      <td>42500</td>\n",
       "      <td>0.133300</td>\n",
       "    </tr>\n",
       "    <tr>\n",
       "      <td>43000</td>\n",
       "      <td>0.135600</td>\n",
       "    </tr>\n",
       "    <tr>\n",
       "      <td>43500</td>\n",
       "      <td>0.135700</td>\n",
       "    </tr>\n",
       "    <tr>\n",
       "      <td>44000</td>\n",
       "      <td>0.134000</td>\n",
       "    </tr>\n",
       "    <tr>\n",
       "      <td>44500</td>\n",
       "      <td>0.134200</td>\n",
       "    </tr>\n",
       "    <tr>\n",
       "      <td>45000</td>\n",
       "      <td>0.134500</td>\n",
       "    </tr>\n",
       "    <tr>\n",
       "      <td>45500</td>\n",
       "      <td>0.134400</td>\n",
       "    </tr>\n",
       "    <tr>\n",
       "      <td>46000</td>\n",
       "      <td>0.134800</td>\n",
       "    </tr>\n",
       "    <tr>\n",
       "      <td>46500</td>\n",
       "      <td>0.135800</td>\n",
       "    </tr>\n",
       "    <tr>\n",
       "      <td>47000</td>\n",
       "      <td>0.134700</td>\n",
       "    </tr>\n",
       "    <tr>\n",
       "      <td>47500</td>\n",
       "      <td>0.134100</td>\n",
       "    </tr>\n",
       "    <tr>\n",
       "      <td>48000</td>\n",
       "      <td>0.133800</td>\n",
       "    </tr>\n",
       "    <tr>\n",
       "      <td>48500</td>\n",
       "      <td>0.133600</td>\n",
       "    </tr>\n",
       "    <tr>\n",
       "      <td>49000</td>\n",
       "      <td>0.135100</td>\n",
       "    </tr>\n",
       "    <tr>\n",
       "      <td>49500</td>\n",
       "      <td>0.135400</td>\n",
       "    </tr>\n",
       "    <tr>\n",
       "      <td>50000</td>\n",
       "      <td>0.133900</td>\n",
       "    </tr>\n",
       "    <tr>\n",
       "      <td>50500</td>\n",
       "      <td>0.133400</td>\n",
       "    </tr>\n",
       "    <tr>\n",
       "      <td>51000</td>\n",
       "      <td>0.134300</td>\n",
       "    </tr>\n",
       "    <tr>\n",
       "      <td>51500</td>\n",
       "      <td>0.133600</td>\n",
       "    </tr>\n",
       "    <tr>\n",
       "      <td>52000</td>\n",
       "      <td>0.132700</td>\n",
       "    </tr>\n",
       "    <tr>\n",
       "      <td>52500</td>\n",
       "      <td>0.134700</td>\n",
       "    </tr>\n",
       "    <tr>\n",
       "      <td>53000</td>\n",
       "      <td>0.135500</td>\n",
       "    </tr>\n",
       "    <tr>\n",
       "      <td>53500</td>\n",
       "      <td>0.134500</td>\n",
       "    </tr>\n",
       "    <tr>\n",
       "      <td>54000</td>\n",
       "      <td>0.133800</td>\n",
       "    </tr>\n",
       "    <tr>\n",
       "      <td>54500</td>\n",
       "      <td>0.133100</td>\n",
       "    </tr>\n",
       "    <tr>\n",
       "      <td>55000</td>\n",
       "      <td>0.134600</td>\n",
       "    </tr>\n",
       "    <tr>\n",
       "      <td>55500</td>\n",
       "      <td>0.133500</td>\n",
       "    </tr>\n",
       "    <tr>\n",
       "      <td>56000</td>\n",
       "      <td>0.134900</td>\n",
       "    </tr>\n",
       "    <tr>\n",
       "      <td>56500</td>\n",
       "      <td>0.133900</td>\n",
       "    </tr>\n",
       "    <tr>\n",
       "      <td>57000</td>\n",
       "      <td>0.133600</td>\n",
       "    </tr>\n",
       "    <tr>\n",
       "      <td>57500</td>\n",
       "      <td>0.133800</td>\n",
       "    </tr>\n",
       "    <tr>\n",
       "      <td>58000</td>\n",
       "      <td>0.135400</td>\n",
       "    </tr>\n",
       "    <tr>\n",
       "      <td>58500</td>\n",
       "      <td>0.132200</td>\n",
       "    </tr>\n",
       "    <tr>\n",
       "      <td>59000</td>\n",
       "      <td>0.135300</td>\n",
       "    </tr>\n",
       "    <tr>\n",
       "      <td>59500</td>\n",
       "      <td>0.133100</td>\n",
       "    </tr>\n",
       "    <tr>\n",
       "      <td>60000</td>\n",
       "      <td>0.134600</td>\n",
       "    </tr>\n",
       "    <tr>\n",
       "      <td>60500</td>\n",
       "      <td>0.134300</td>\n",
       "    </tr>\n",
       "    <tr>\n",
       "      <td>61000</td>\n",
       "      <td>0.132400</td>\n",
       "    </tr>\n",
       "    <tr>\n",
       "      <td>61500</td>\n",
       "      <td>0.133100</td>\n",
       "    </tr>\n",
       "    <tr>\n",
       "      <td>62000</td>\n",
       "      <td>0.134600</td>\n",
       "    </tr>\n",
       "    <tr>\n",
       "      <td>62500</td>\n",
       "      <td>0.133800</td>\n",
       "    </tr>\n",
       "  </tbody>\n",
       "</table><p>"
      ],
      "text/plain": [
       "<IPython.core.display.HTML object>"
      ]
     },
     "metadata": {},
     "output_type": "display_data"
    },
    {
     "name": "stderr",
     "output_type": "stream",
     "text": [
      "Saving model checkpoint to ./t5-checkpoints/checkpoint-10000\n",
      "Configuration saved in ./t5-checkpoints/checkpoint-10000/config.json\n",
      "Configuration saved in ./t5-checkpoints/checkpoint-10000/generation_config.json\n",
      "Model weights saved in ./t5-checkpoints/checkpoint-10000/pytorch_model.bin\n",
      "tokenizer config file saved in ./t5-checkpoints/checkpoint-10000/tokenizer_config.json\n",
      "Special tokens file saved in ./t5-checkpoints/checkpoint-10000/special_tokens_map.json\n",
      "IOPub message rate exceeded.\n",
      "The Jupyter server will temporarily stop sending output\n",
      "to the client in order to avoid crashing it.\n",
      "To change this limit, set the config variable\n",
      "`--ServerApp.iopub_msg_rate_limit`.\n",
      "\n",
      "Current values:\n",
      "ServerApp.iopub_msg_rate_limit=1000.0 (msgs/sec)\n",
      "ServerApp.rate_limit_window=3.0 (secs)\n",
      "\n",
      "IOPub message rate exceeded.\n",
      "The Jupyter server will temporarily stop sending output\n",
      "to the client in order to avoid crashing it.\n",
      "To change this limit, set the config variable\n",
      "`--ServerApp.iopub_msg_rate_limit`.\n",
      "\n",
      "Current values:\n",
      "ServerApp.iopub_msg_rate_limit=1000.0 (msgs/sec)\n",
      "ServerApp.rate_limit_window=3.0 (secs)\n",
      "\n",
      "Saving model checkpoint to ./t5-checkpoints/checkpoint-60000\n",
      "Configuration saved in ./t5-checkpoints/checkpoint-60000/config.json\n",
      "Configuration saved in ./t5-checkpoints/checkpoint-60000/generation_config.json\n",
      "Model weights saved in ./t5-checkpoints/checkpoint-60000/pytorch_model.bin\n",
      "tokenizer config file saved in ./t5-checkpoints/checkpoint-60000/tokenizer_config.json\n",
      "Special tokens file saved in ./t5-checkpoints/checkpoint-60000/special_tokens_map.json\n",
      "IOPub message rate exceeded.\n",
      "The Jupyter server will temporarily stop sending output\n",
      "to the client in order to avoid crashing it.\n",
      "To change this limit, set the config variable\n",
      "`--ServerApp.iopub_msg_rate_limit`.\n",
      "\n",
      "Current values:\n",
      "ServerApp.iopub_msg_rate_limit=1000.0 (msgs/sec)\n",
      "ServerApp.rate_limit_window=3.0 (secs)\n",
      "\n",
      "\n",
      "\n",
      "Training completed. Do not forget to share your model on huggingface.co/models =)\n",
      "\n",
      "\n"
     ]
    },
    {
     "data": {
      "text/plain": [
       "TrainOutput(global_step=62500, training_loss=0.13949431921386718, metrics={'train_runtime': 14112.566, 'train_samples_per_second': 70.859, 'train_steps_per_second': 4.429, 'total_flos': 1.0497030185916826e+17, 'train_loss': 0.13949431921386718, 'epoch': 20.0})"
      ]
     },
     "execution_count": 21,
     "metadata": {},
     "output_type": "execute_result"
    }
   ],
   "source": [
    "trainer = Seq2SeqTrainer(model=model, args=training_args, train_dataset=dataset, tokenizer=tokenizer, compute_metrics=None, data_collator=Collator(tokenizer))\n",
    "trainer.train()"
   ]
  },
  {
   "cell_type": "raw",
   "id": "33f304b9-b805-4217-a59e-68c31cdf3c34",
   "metadata": {},
   "source": [
    "data_file = \"/home/ma/e/eberhardinger/workspaces/ec/dreamcoder/domains/perfect-maze-minigrid/collected_data/2022-12-10T15:32:12.354349.npy\"\n",
    "data = np.load(data_file, allow_pickle=True)\n",
    "parsed_data = parseData(data)\n",
    "tasks = makeTasks(parsed_data, chunkSize=5)\n",
    "feature_extractor = MinigridMazeFeatureExtractor(tasks)\n",
    "dataset_creator = DatasetCreator(feature_extractor, Grammar.uniform(basePrimitives()))\n",
    "test = dataset_creator.createDataset(tasks, 100, with_tasks=True)"
   ]
  },
  {
   "cell_type": "code",
   "execution_count": 22,
   "id": "bf6b11d8-55d9-4601-8f81-7ba566b56ffd",
   "metadata": {
    "tags": []
   },
   "outputs": [],
   "source": [
    "def createTestDataFromTasks(tasks, with_tasks=False):\n",
    "    dataset = []\n",
    "    for task in tasks:\n",
    "        inp_prompt = ''\n",
    "        for examples in task.examples:\n",
    "            inp = str(examples[0])\n",
    "            out = examples[1]\n",
    "            inp_string = inp.replace(',', '').replace('[', '').replace(']', '').replace('(', '').replace(')', '')\n",
    "            out_string = get_out_string(out)\n",
    "            inp_prompt += f'{inp_string} {out_string} '\n",
    "\n",
    "        if with_tasks:\n",
    "            dataset.append((inp_prompt.strip(), task))\n",
    "        else:\n",
    "            dataset.append((inp_prompt.strip()))\n",
    "\n",
    "    return dataset\n",
    "\n",
    "# generate n samples with t temperature\n",
    "def generate_samples_with_temp(txt, n_samples, temp):\n",
    "    to_tokenizer = [txt for i in range(n_samples)]\n",
    "    outputs = model.generate(tokenizer(to_tokenizer, return_tensors='pt', padding=True).input_ids.to('cuda'), do_sample=True, max_length=128, temperature = temp)\n",
    "    results = tokenizer.batch_decode(outputs, skip_special_tokens=True)\n",
    "    return results"
   ]
  },
  {
   "cell_type": "code",
   "execution_count": 23,
   "id": "729990c1-6989-4932-9f26-0016a86455db",
   "metadata": {},
   "outputs": [],
   "source": [
    "testTasks = createTestDataFromTasks(tasks, True)"
   ]
  },
  {
   "cell_type": "code",
   "execution_count": 24,
   "id": "70302aab-7421-403d-9f21-951070d38f60",
   "metadata": {},
   "outputs": [
    {
     "name": "stderr",
     "output_type": "stream",
     "text": [
      "Token indices sequence length is longer than the specified maximum sequence length for this model (677 > 512). Running this sequence through the model will result in indexing errors\n",
      "Generate config GenerationConfig {\n",
      "  \"bos_token_id\": 1,\n",
      "  \"decoder_start_token_id\": 0,\n",
      "  \"eos_token_id\": 2,\n",
      "  \"pad_token_id\": 0,\n",
      "  \"transformers_version\": \"4.26.0\"\n",
      "}\n",
      "\n"
     ]
    },
    {
     "data": {
      "text/plain": [
       "['(lambda (lambda (if (and (and (not (eq-obj? wall-obj empty-obj)) (eq-obj? empty-obj wall-obj)) (eq-obj? (get $1 3 2) (get $1 3 0))) forward-action left-action)))',\n",
       " '(lambda (lambda (if (eq-obj? (get $1 0 3) empty-obj) left-action forward-action)))',\n",
       " '(lambda (lambda (if (eq-obj? empty-obj (get $1 3 2)) forward-action left-action)))',\n",
       " '(lambda (lambda (if (eq-direction? $0 direction-0) left-action forward-action)))',\n",
       " '(lambda (lambda (if (not (eq-obj? (get $1 2 3) empty-obj)) left-action forward-action)))']"
      ]
     },
     "execution_count": 24,
     "metadata": {},
     "output_type": "execute_result"
    }
   ],
   "source": [
    "generate_samples_with_temp(testTasks[0][0], 5, 1.0)"
   ]
  },
  {
   "cell_type": "code",
   "execution_count": 25,
   "id": "d9cdf839-6cd7-47a6-9acc-4f8b5db3b9be",
   "metadata": {},
   "outputs": [
    {
     "data": {
      "text/plain": [
       "Task(name=perfect maze 10 size 25 part 0, request=array(array(tobj)) -> tdirection -> taction, examples=[(([[2, 2, 2, 2, 2], [2, 2, 2, 2, 2], [1, 1, 1, 1, 1], [2, 2, 1, 2, 2], [1, 2, 1, 1, 1]], 0), 2), (([[2, 2, 2, 2, 2], [2, 2, 2, 2, 2], [2, 1, 1, 1, 1], [2, 2, 2, 1, 2], [2, 1, 2, 1, 1]], 0), 2), (([[2, 2, 2, 2, 2], [2, 2, 2, 2, 2], [1, 2, 1, 1, 1], [1, 2, 2, 2, 1], [1, 2, 1, 2, 1]], 0), 2), (([[2, 2, 2, 2, 2], [2, 2, 2, 2, 2], [1, 1, 2, 1, 1], [2, 1, 2, 2, 2], [2, 1, 2, 1, 2]], 0), 2), (([[2, 2, 2, 2, 2], [2, 2, 2, 2, 2], [1, 1, 1, 2, 1], [1, 2, 1, 2, 2], [1, 2, 1, 2, 1]], 0), 0), (([[2, 2, 2, 2, 1], [2, 2, 2, 2, 1], [2, 2, 2, 2, 1], [2, 2, 2, 2, 2], [2, 2, 2, 2, 1]], 3), 0), (([[1, 1, 1, 2, 1], [2, 2, 1, 2, 2], [1, 1, 1, 1, 1], [2, 2, 2, 2, 2], [2, 2, 2, 2, 2]], 2), 2), (([[2, 1, 1, 1, 2], [2, 2, 2, 1, 2], [2, 1, 1, 1, 1], [2, 2, 2, 2, 2], [2, 2, 2, 2, 2]], 2), 2), (([[2, 2, 1, 1, 1], [2, 2, 2, 2, 1], [2, 2, 1, 1, 1], [2, 2, 2, 2, 2], [2, 2, 2, 2, 2]], 2), 0), (([[1, 1, 1, 2, 1], [1, 2, 2, 2, 1], [1, 1, 1, 1, 1], [1, 2, 1, 2, 1], [1, 2, 1, 2, 1]], 1), 2), (([[1, 1, 1, 1, 2], [2, 1, 2, 2, 2], [2, 1, 1, 1, 1], [2, 1, 2, 1, 2], [2, 1, 2, 1, 2]], 1), 2), (([[1, 1, 1, 1, 1], [2, 2, 1, 2, 2], [1, 2, 1, 1, 1], [1, 2, 1, 2, 1], [1, 2, 1, 2, 1]], 1), 2), (([[2, 1, 1, 1, 1], [2, 2, 2, 1, 2], [1, 1, 2, 1, 1], [2, 1, 2, 1, 2], [2, 1, 2, 1, 2]], 1), 2), (([[1, 2, 1, 1, 1], [2, 2, 2, 2, 1], [1, 1, 1, 2, 1], [1, 2, 1, 2, 1], [1, 2, 1, 2, 1]], 1), 0), (([[1, 2, 1, 2, 1], [2, 2, 1, 2, 1], [1, 2, 1, 1, 1], [1, 2, 1, 2, 2], [1, 1, 1, 2, 1]], 0), 2), (([[2, 1, 2, 1, 2], [2, 2, 2, 1, 2], [1, 1, 2, 1, 1], [2, 1, 2, 1, 2], [2, 1, 1, 1, 2]], 0), 2), (([[1, 2, 1, 2, 1], [1, 2, 2, 2, 1], [1, 1, 1, 2, 1], [1, 2, 1, 2, 1], [1, 2, 1, 1, 1]], 0), 0), (([[1, 1, 1, 1, 1], [1, 2, 2, 2, 1], [1, 2, 1, 1, 1], [2, 2, 2, 2, 2], [1, 1, 1, 2, 1]], 3), 2), (([[2, 1, 1, 1, 1], [2, 1, 2, 2, 2], [2, 1, 2, 1, 1], [2, 2, 2, 2, 2], [2, 1, 1, 1, 2]], 3), 2), (([[2, 2, 1, 1, 1], [2, 2, 1, 2, 2], [2, 2, 1, 2, 1], [2, 2, 2, 2, 2], [2, 2, 1, 1, 1]], 3), 0), (([[1, 1, 1, 1, 1], [2, 2, 1, 2, 1], [1, 1, 1, 2, 1], [2, 2, 1, 2, 2], [1, 1, 1, 1, 1]], 2), 0), (([[1, 1, 1, 2, 1], [1, 2, 2, 2, 2], [1, 1, 1, 1, 1], [2, 2, 1, 2, 2], [1, 2, 1, 1, 1]], 1), 2), (([[1, 1, 1, 1, 2], [2, 1, 2, 2, 2], [2, 1, 1, 1, 1], [2, 2, 2, 1, 2], [1, 1, 2, 1, 1]], 1), 2), (([[1, 1, 1, 1, 1], [1, 2, 1, 2, 2], [1, 2, 1, 1, 1], [2, 2, 2, 2, 1], [1, 1, 1, 2, 1]], 1), 2), (([[1, 1, 1, 1, 1], [2, 1, 2, 1, 2], [2, 1, 2, 1, 1], [2, 2, 2, 2, 2], [1, 1, 1, 1, 2]], 1), 2)]"
      ]
     },
     "execution_count": 25,
     "metadata": {},
     "output_type": "execute_result"
    }
   ],
   "source": [
    "testTasks[0][1]"
   ]
  },
  {
   "cell_type": "code",
   "execution_count": 27,
   "id": "192c6199-1161-4d44-a722-4d6705371fed",
   "metadata": {},
   "outputs": [
    {
     "data": {
      "text/plain": [
       "(lambda (lambda (if (eq-obj? (get $1 3 0) wall-obj) left-action right-action)))"
      ]
     },
     "execution_count": 27,
     "metadata": {},
     "output_type": "execute_result"
    }
   ],
   "source": [
    "from dreamcoder.program import Program\n",
    "\n",
    "p = Program.parse('(lambda (lambda (if (eq-obj? (get $1 3 0) wall-obj) left-action right-action)))')\n",
    "#feature_extractor.run_program_on_env(p)\n",
    "p"
   ]
  },
  {
   "cell_type": "code",
   "execution_count": 28,
   "id": "9da42075-3a67-439f-91f1-1228b6e28d5d",
   "metadata": {},
   "outputs": [],
   "source": [
    "def run_on_input_examples(task, program, verbose=False):\n",
    "    for inp, out in task.examples:\n",
    "        # output ex is the action\n",
    "        pred = runWithTimeout(lambda: program.runWithArguments(inp), None)\n",
    "        if verbose:\n",
    "            print('Input:', inp, 'Out:', out, 'Pred:', pred)\n",
    "        if out != pred:\n",
    "            return False\n",
    "    return True\n",
    "        \n",
    "def test_programs_on_task(task, n=5, temp=1.0, verbose=False):\n",
    "    progs = generate_samples_with_temp(task[0], n, temp)\n",
    "    for i, prog in enumerate(progs):\n",
    "        if verbose:\n",
    "            print(prog)\n",
    "        try:\n",
    "            p = Program.parse(prog)\n",
    "            \n",
    "            if run_on_input_examples(task[1], p, verbose=verbose):\n",
    "                return p, i\n",
    "            \n",
    "        except Exception as e: \n",
    "            if verbose:\n",
    "                print(e)\n",
    "            continue\n",
    "            \n",
    "    return None, n"
   ]
  },
  {
   "cell_type": "code",
   "execution_count": 30,
   "id": "28ee1a95-695e-4841-9099-f7b91bc9c8b6",
   "metadata": {
    "tags": []
   },
   "outputs": [
    {
     "name": "stderr",
     "output_type": "stream",
     "text": [
      "  1%|█▉                                                                                                                                                                                                                  | 1/109 [00:05<10:25,  5.79s/it]"
     ]
    },
    {
     "name": "stdout",
     "output_type": "stream",
     "text": [
      "(lambda (lambda (if (eq-obj? empty-obj (if (and (eq-direction? direction-1 direction-2)) (eq-obj? empty-obj wall-obj)) (get $1 0 3) empty-obj)) forward-action left-action)))\n",
      "(lambda (lambda (if (eq-obj? (if (and (eq-obj? empty-obj wall-obj) (eq-obj? wall-obj empty-obj)) (get $1 0 3) wall-obj) (if (eq-obj? wall-obj empty-obj) (get $1 1 0) empty-obj))) left-action forward-action)))\n"
     ]
    },
    {
     "name": "stderr",
     "output_type": "stream",
     "text": [
      "  2%|███▉                                                                                                                                                                                                                | 2/109 [00:09<08:01,  4.50s/it]"
     ]
    },
    {
     "name": "stdout",
     "output_type": "stream",
     "text": [
      "(lambda (lambda (if (eq-direction? $0 direction-3) (if (eq-direction? $0 $0) empty-obj) forward-action left-action) left-action)))\n"
     ]
    },
    {
     "name": "stderr",
     "output_type": "stream",
     "text": [
      "  3%|█████▊                                                                                                                                                                                                              | 3/109 [00:12<07:04,  4.01s/it]"
     ]
    },
    {
     "name": "stdout",
     "output_type": "stream",
     "text": [
      "string index out of range\n"
     ]
    },
    {
     "name": "stderr",
     "output_type": "stream",
     "text": [
      "  6%|█████████████▌                                                                                                                                                                                                      | 7/109 [00:27<06:23,  3.76s/it]"
     ]
    },
    {
     "name": "stdout",
     "output_type": "stream",
     "text": [
      "(lambda (lambda (if (eq-obj? (if (if (eq-direction? $0 direction-0) (eq-obj? empty-obj wall-obj) (eq-direction? $0 direction-3)) empty-obj (get $1 3 2)) (if (eq-obj? (get $1 0 0) wall-obj) (get $1 3 0) wall-obj)) right-action (if (eq-obj? empty-obj wall-obj) left-action forward-action)))))\n"
     ]
    },
    {
     "name": "stderr",
     "output_type": "stream",
     "text": [
      "  7%|███████████████▌                                                                                                                                                                                                    | 8/109 [00:31<06:34,  3.90s/it]"
     ]
    },
    {
     "name": "stdout",
     "output_type": "stream",
     "text": [
      "string index out of range\n",
      "'int' object is not callable\n"
     ]
    },
    {
     "name": "stderr",
     "output_type": "stream",
     "text": [
      "  8%|█████████████████▌                                                                                                                                                                                                  | 9/109 [00:36<06:54,  4.15s/it]"
     ]
    },
    {
     "name": "stdout",
     "output_type": "stream",
     "text": [
      "string index out of range\n",
      "(lambda (lambda (if (or (or (eq-obj? empty-obj (get $1 0 3)) (not (eq-direction? direction-2 direction-3))) (not (eq-obj? (get $1 0 3) (get $1 1 1)))))) left-action forward-action)))\n",
      "string index out of range\n"
     ]
    },
    {
     "name": "stderr",
     "output_type": "stream",
     "text": [
      " 10%|█████████████████████▎                                                                                                                                                                                             | 11/109 [00:43<06:22,  3.90s/it]"
     ]
    },
    {
     "name": "stdout",
     "output_type": "stream",
     "text": [
      "'bool' object is not callable\n",
      "(lambda (lambda (if (eq-obj? (if (eq-obj? wall-obj (get $1 2 3)) (get $1 1 4) (if (eq-direction? $0 $0) (get $1 4 2) empty-obj)) (get (if (eq-direction? $0 direction-2) $1 $1) 3 0)) (get $1 0 1)) left-action forward-action)))\n"
     ]
    },
    {
     "name": "stderr",
     "output_type": "stream",
     "text": [
      " 16%|████████████████████████████████▉                                                                                                                                                                                  | 17/109 [01:05<05:31,  3.60s/it]"
     ]
    },
    {
     "name": "stdout",
     "output_type": "stream",
     "text": [
      "'bool' object is not callable\n",
      "string index out of range\n",
      "(lambda (lambda (if (eq-obj? empty-obj (get $1 4 2)) forward-action (if (not (eq-direction? direction-1 direction-0)) (if (eq-obj? (get $1 1 0) wall-obj) forward-action left-action) left-action) forward-action))))\n",
      "string index out of range\n"
     ]
    },
    {
     "name": "stderr",
     "output_type": "stream",
     "text": [
      " 17%|██████████████████████████████████▊                                                                                                                                                                                | 18/109 [01:09<05:37,  3.71s/it]"
     ]
    },
    {
     "name": "stdout",
     "output_type": "stream",
     "text": [
      "'bool' object is not callable\n"
     ]
    },
    {
     "name": "stderr",
     "output_type": "stream",
     "text": [
      " 17%|████████████████████████████████████▊                                                                                                                                                                              | 19/109 [01:12<05:25,  3.61s/it]"
     ]
    },
    {
     "name": "stdout",
     "output_type": "stream",
     "text": [
      "string index out of range\n",
      "(lambda (lambda (if (eq-obj? (get $1 0 4) wall-obj) (if (eq-obj? empty-obj empty-obj) (if (not (eq-direction? direction-3 $0)) left-action right-action) forward-action) forward-action) left-action)))\n"
     ]
    },
    {
     "name": "stderr",
     "output_type": "stream",
     "text": [
      " 18%|██████████████████████████████████████▋                                                                                                                                                                            | 20/109 [01:17<05:54,  3.98s/it]"
     ]
    },
    {
     "name": "stdout",
     "output_type": "stream",
     "text": [
      "(lambda (lambda (if (not (eq-obj? (get $1 1 4) (if (eq-direction? direction-2 direction-0) wall-obj (get $1 2 3)))) (if (eq-direction? direction-2 direction-0) (if (and (eq-direction? direction-2 direction-0) (eq-obj? empty-obj wall-obj)) forward-action (if (eq-obj? wall-obj empty-obj) left-action left-action)) right-action)) forward-action)))\n",
      "'bool' object is not callable\n"
     ]
    },
    {
     "name": "stderr",
     "output_type": "stream",
     "text": [
      " 19%|████████████████████████████████████████▋                                                                                                                                                                          | 21/109 [01:21<05:50,  3.99s/it]"
     ]
    },
    {
     "name": "stdout",
     "output_type": "stream",
     "text": [
      "string index out of range\n",
      "string index out of range\n"
     ]
    },
    {
     "name": "stderr",
     "output_type": "stream",
     "text": [
      " 22%|██████████████████████████████████████████████▍                                                                                                                                                                    | 24/109 [01:32<05:18,  3.75s/it]"
     ]
    },
    {
     "name": "stdout",
     "output_type": "stream",
     "text": [
      "(['lambda', ['lambda', ['if', ['or', ['eq-direction?', 'direction-3', 'direction-', ['if', ['eq-obj?', 'empty-obj', 'wall-obj'], 'direction-3', 'direction-1']], ['eq-direction?', 'direction-1', '$0']], 'forward-action', 'left-action']]], 'direction-')\n",
      "string index out of range\n"
     ]
    },
    {
     "name": "stderr",
     "output_type": "stream",
     "text": [
      " 24%|██████████████████████████████████████████████████▎                                                                                                                                                                | 26/109 [01:40<05:20,  3.86s/it]"
     ]
    },
    {
     "name": "stdout",
     "output_type": "stream",
     "text": [
      "(lambda (lambda (if (eq-obj? empty-obj (get $1 2 2) wall-obj)) (if (not (and (eq-direction? $0 $0) (eq-obj? empty-obj wall-obj))) left-action forward-action) left-action)))\n",
      "string index out of range\n",
      "string index out of range\n"
     ]
    },
    {
     "name": "stderr",
     "output_type": "stream",
     "text": [
      " 26%|██████████████████████████████████████████████████████▏                                                                                                                                                            | 28/109 [01:48<05:20,  3.96s/it]"
     ]
    },
    {
     "name": "stdout",
     "output_type": "stream",
     "text": [
      "(['lambda', ['lambda', ['if', ['eq-obj?', ['get', '$1', '2', '23'], 'wall-obj'], 'left-action', 'forward-action']]], '23')\n",
      "'int' object is not callable\n",
      "string index out of range\n",
      "string index out of range\n",
      "string index out of range\n",
      "(['lambda', ['lambda', ['if', ['not', ['eq-obj?', 'empty-obj', ['get', '$1', '10']]], ['if', ['and', ['not', ['eq-obj?', 'empty-obj', 'empty-obj']], ['eq-obj?', 'wall-obj', 'empty-obj']], 'right-action', 'forward-action'], 'left-action']]], '10')\n",
      "'int' object is not callable\n"
     ]
    },
    {
     "name": "stderr",
     "output_type": "stream",
     "text": [
      " 27%|████████████████████████████████████████████████████████▏                                                                                                                                                          | 29/109 [01:52<05:10,  3.88s/it]"
     ]
    },
    {
     "name": "stdout",
     "output_type": "stream",
     "text": [
      "(['lambda', ['lambda', ['if', ['or', ['eq-obj?', ['get', '$1', '3', '2'], ['get', '$1', '1', '1']], ['eq-direction?', 'direction-3', '$0']], ['if', ['eq-obj?', ['if', ['eq-obj?', 'wall-obj', 'empty-obj'], 'empty-obj?', 'empty-obj', ['get', '$1', '1', '3']], ['get', '$1', '2', '0']], 'left-action', 'forward-action'], 'forward-action']]], 'empty-obj?')\n",
      "(['lambda', ['lambda', ['if', ['eq-obj?', 'empty-obj', ['get', '$1', ['if', ['eq-obj?', 'empty-obj', 'empty-obj'], '2', '2if', ['eq-direction?', 'direction-3', 'direction-1'], '2', '3'], '4']], 'forward-action', ['if', ['eq-direction?', '$0', 'direction-3'], 'forward-action', 'left-action']]]], '2if')\n"
     ]
    },
    {
     "name": "stderr",
     "output_type": "stream",
     "text": [
      " 28%|██████████████████████████████████████████████████████████                                                                                                                                                         | 30/109 [01:55<05:02,  3.83s/it]"
     ]
    },
    {
     "name": "stdout",
     "output_type": "stream",
     "text": [
      "string index out of range\n",
      "(lambda (lambda (if (eq-obj? wall-obj (get $1 (if (eq-direction? direction-3 $0) 1 2) (if (eq-obj? wall-obj wall-obj) 3 1)) empty-obj)) (if (eq-direction? direction-1 direction-1) (if (eq-direction? direction-1 direction-3) forward-action left-action) forward-action) left-action)))\n"
     ]
    },
    {
     "name": "stderr",
     "output_type": "stream",
     "text": [
      " 28%|████████████████████████████████████████████████████████████                                                                                                                                                       | 31/109 [01:59<04:56,  3.80s/it]"
     ]
    },
    {
     "name": "stdout",
     "output_type": "stream",
     "text": [
      "(lambda (lambda (if (eq-direction? direction-0 $0) 1 0) left-action forward-action)))\n",
      "string index out of range\n"
     ]
    },
    {
     "name": "stderr",
     "output_type": "stream",
     "text": [
      " 29%|█████████████████████████████████████████████████████████████▉                                                                                                                                                     | 32/109 [02:02<04:42,  3.67s/it]"
     ]
    },
    {
     "name": "stdout",
     "output_type": "stream",
     "text": [
      "(lambda (lambda (if (eq-direction? (if (eq-direction? direction-0 $0) $0 (if (eq-obj? empty-obj empty-obj) direction-3 direction-3)) (if (eq-obj? wall-obj empty-obj) direction-2 direction-0)) (if (eq-obj? wall-obj (get $1 1 1)) forward-action right-action) left-action))))\n"
     ]
    },
    {
     "name": "stderr",
     "output_type": "stream",
     "text": [
      " 30%|███████████████████████████████████████████████████████████████▉                                                                                                                                                   | 33/109 [02:07<05:03,  3.99s/it]"
     ]
    },
    {
     "name": "stdout",
     "output_type": "stream",
     "text": [
      "'bool' object is not callable\n",
      "'int' object is not callable\n",
      "string index out of range\n",
      "string index out of range\n",
      "(lambda (lambda (if (eq-direction? direction-1 direction-1) (if (eq-direction? $0 direction-0) (if (not (eq-direction? direction-3 $0)) (if (eq-obj? wall-obj wall-obj) left-action forward-action) left-action) right-action) right-action) left-action)))\n"
     ]
    },
    {
     "name": "stderr",
     "output_type": "stream",
     "text": [
      " 31%|█████████████████████████████████████████████████████████████████▊                                                                                                                                                 | 34/109 [02:12<05:11,  4.16s/it]"
     ]
    },
    {
     "name": "stdout",
     "output_type": "stream",
     "text": [
      "string index out of range\n"
     ]
    },
    {
     "name": "stderr",
     "output_type": "stream",
     "text": [
      " 32%|███████████████████████████████████████████████████████████████████▊                                                                                                                                               | 35/109 [02:15<04:59,  4.04s/it]"
     ]
    },
    {
     "name": "stdout",
     "output_type": "stream",
     "text": [
      "'int' object is not callable\n",
      "'int' object is not callable\n"
     ]
    },
    {
     "name": "stderr",
     "output_type": "stream",
     "text": [
      " 34%|███████████████████████████████████████████████████████████████████████▌                                                                                                                                           | 37/109 [02:23<04:50,  4.03s/it]"
     ]
    },
    {
     "name": "stdout",
     "output_type": "stream",
     "text": [
      "string index out of range\n"
     ]
    },
    {
     "name": "stderr",
     "output_type": "stream",
     "text": [
      " 35%|█████████████████████████████████████████████████████████████████████████▌                                                                                                                                         | 38/109 [02:27<04:34,  3.87s/it]"
     ]
    },
    {
     "name": "stdout",
     "output_type": "stream",
     "text": [
      "(lambda (lambda (if (eq-obj? (get $1 4 0) (get $1 0 (if (eq-obj? wall-obj wall-obj) 4 3)) empty-obj)) left-action (if (eq-direction? direction-3 direction-0) (if (not (eq-direction? direction-1 direction-2)) forward-action right-action) forward-action))))\n",
      "(lambda (lambda (if (eq-obj? (if (not (eq-direction? $0 direction-0)) (if (eq-direction? direction-1 direction-0) (get $1 3 2) (get $1 1 0)) (get $1 4 1)) (get $1 1 4)) (get $1 4 2)) left-action forward-action)))\n"
     ]
    },
    {
     "name": "stderr",
     "output_type": "stream",
     "text": [
      " 37%|█████████████████████████████████████████████████████████████████████████████▍                                                                                                                                     | 40/109 [02:34<04:14,  3.69s/it]"
     ]
    },
    {
     "name": "stdout",
     "output_type": "stream",
     "text": [
      "string index out of range\n"
     ]
    },
    {
     "name": "stderr",
     "output_type": "stream",
     "text": [
      " 38%|███████████████████████████████████████████████████████████████████████████████▎                                                                                                                                   | 41/109 [02:38<04:13,  3.73s/it]"
     ]
    },
    {
     "name": "stdout",
     "output_type": "stream",
     "text": [
      "'bool' object is not callable\n",
      "(lambda (lambda (if (eq-direction? direction-1 direction-1) (if (eq-obj? (if (eq-obj? empty-obj empty-obj) (get $1 3 2) wall-obj) (get $1 1 3)) empty-obj) forward-action left-action) right-action)))\n",
      "string index out of range\n"
     ]
    },
    {
     "name": "stderr",
     "output_type": "stream",
     "text": [
      " 39%|█████████████████████████████████████████████████████████████████████████████████▎                                                                                                                                 | 42/109 [02:42<04:16,  3.82s/it]"
     ]
    },
    {
     "name": "stdout",
     "output_type": "stream",
     "text": [
      "'bool' object is not callable\n",
      "'bool' object is not callable\n",
      "string index out of range\n",
      "(['lambda', ['lambda', ['if', ['eq-direction?direction-0', '$0'], 'left-action', 'forward-action']]], 'eq-direction?direction-0')\n",
      "(['lambda', ['lambda', ['if', ['-direction?', 'direction-3', '$0'], ['if', ['eq-direction?', 'direction-1', 'direction-1'], 'forward-action', 'right-action'], 'left-action']]], '-direction?')\n"
     ]
    },
    {
     "name": "stderr",
     "output_type": "stream",
     "text": [
      " 39%|███████████████████████████████████████████████████████████████████████████████████▏                                                                                                                               | 43/109 [02:45<04:06,  3.74s/it]"
     ]
    },
    {
     "name": "stdout",
     "output_type": "stream",
     "text": [
      "string index out of range\n",
      "string index out of range\n",
      "'int' object is not callable\n"
     ]
    },
    {
     "name": "stderr",
     "output_type": "stream",
     "text": [
      " 42%|█████████████████████████████████████████████████████████████████████████████████████████                                                                                                                          | 46/109 [02:57<04:01,  3.83s/it]"
     ]
    },
    {
     "name": "stdout",
     "output_type": "stream",
     "text": [
      "string index out of range\n"
     ]
    },
    {
     "name": "stderr",
     "output_type": "stream",
     "text": [
      " 43%|██████████████████████████████████████████████████████████████████████████████████████████▉                                                                                                                        | 47/109 [03:00<03:43,  3.60s/it]"
     ]
    },
    {
     "name": "stdout",
     "output_type": "stream",
     "text": [
      "(lambda (lambda (if (and (eq-obj? (if (eq-direction? direction-3 $0) wall-obj empty-obj) (if (eq-direction? direction-0 direction-0) (get $1 0 3) wall-obj) (get $1 0 2))) (eq-direction? direction-0 $0)) left-action forward-action)))\n"
     ]
    },
    {
     "name": "stderr",
     "output_type": "stream",
     "text": [
      " 44%|████████████████████████████████████████████████████████████████████████████████████████████▉                                                                                                                      | 48/109 [03:04<03:39,  3.60s/it]"
     ]
    },
    {
     "name": "stdout",
     "output_type": "stream",
     "text": [
      "(lambda (lambda (if (eq-direction? $0 direction-3) forward-action $0) (if (eq-direction? $0 direction-3) forward-action left-action))))\n",
      "'int' object is not callable\n"
     ]
    },
    {
     "name": "stderr",
     "output_type": "stream",
     "text": [
      " 45%|██████████████████████████████████████████████████████████████████████████████████████████████▊                                                                                                                    | 49/109 [03:07<03:38,  3.63s/it]"
     ]
    },
    {
     "name": "stdout",
     "output_type": "stream",
     "text": [
      "string index out of range\n",
      "'bool' object is not callable\n"
     ]
    },
    {
     "name": "stderr",
     "output_type": "stream",
     "text": [
      " 46%|████████████████████████████████████████████████████████████████████████████████████████████████▊                                                                                                                  | 50/109 [03:11<03:38,  3.71s/it]"
     ]
    },
    {
     "name": "stdout",
     "output_type": "stream",
     "text": [
      "(lambda (lambda (if (eq-obj? (if (not (eq-obj? wall-obj empty-obj)) (if (eq-direction? direction-2 $0) (get $1 2 2) wall-obj) empty-obj) (get $1 0 3)) (get $1 1 2)) left-action forward-action)))\n",
      "string index out of range\n"
     ]
    },
    {
     "name": "stderr",
     "output_type": "stream",
     "text": [
      " 47%|██████████████████████████████████████████████████████████████████████████████████████████████████▋                                                                                                                | 51/109 [03:16<03:45,  3.90s/it]"
     ]
    },
    {
     "name": "stdout",
     "output_type": "stream",
     "text": [
      "string index out of range\n",
      "(lambda (lambda (if (and (if (eq-direction? direction-3 $0) (eq-obj? (get $1 1 3) (get $1 4 0)) (eq-obj? empty-obj wall-obj)) (eq-direction? direction-2 direction-1)) (if (eq-direction? direction-0 direction-0) forward-action right-action) (if (eq-direction? direction-3 direction-0) forward-action left-action)))))\n",
      "(lambda (lambda (if (eq-obj? wall-obj (get $1 2 2) wall-obj)) left-action forward-action)))\n"
     ]
    },
    {
     "name": "stderr",
     "output_type": "stream",
     "text": [
      " 49%|██████████████████████████████████████████████████████████████████████████████████████████████████████▌                                                                                                            | 53/109 [03:24<03:45,  4.03s/it]"
     ]
    },
    {
     "name": "stdout",
     "output_type": "stream",
     "text": [
      "(lambda (lambda (if (eq-direction? direction-0 (if (not (eq-direction? direction-3 direction-1)) (if (eq-direction? $0 direction-1) $0 direction-0) direction-1)) 10) forward-action left-action)))\n",
      "(lambda (lambda (if (or (eq-obj? wall-obj wall-obj) (or (and (eq-obj? wall-obj empty-obj) (eq-obj? empty-obj empty-obj)) (not (eq-obj? empty-obj wall-obj)))))) forward-action left-action)))\n",
      "(lambda (lambda (if (eq-obj? (get $1 (if (eq-direction? $0 direction-3) 3 4) 2) empty-obj)) left-action forward-action)))\n",
      "(lambda (lambda (if (eq-obj? (if (eq-direction? direction-1 $0) wall-obj wall-obj) (if (eq-direction? $0 direction-0) wall-obj wall-obj)) empty-obj) forward-action left-action)))\n"
     ]
    },
    {
     "name": "stderr",
     "output_type": "stream",
     "text": [
      " 50%|████████████████████████████████████████████████████████████████████████████████████████████████████████▌                                                                                                          | 54/109 [03:28<03:41,  4.02s/it]"
     ]
    },
    {
     "name": "stdout",
     "output_type": "stream",
     "text": [
      "'int' object is not callable\n"
     ]
    },
    {
     "name": "stderr",
     "output_type": "stream",
     "text": [
      " 51%|████████████████████████████████████████████████████████████████████████████████████████████████████████████▍                                                                                                      | 56/109 [03:36<03:31,  4.00s/it]"
     ]
    },
    {
     "name": "stdout",
     "output_type": "stream",
     "text": [
      "string index out of range\n",
      "(['lambda', ['lambda', ['if', ['eq-obj?', ['get', '$1', '2', '3'], ['if', ['eq-direction?', '$0', 'direction-3'], 'empty-obj', ['if', ['eq-direction?', 'direction-', '1', 'direction-0'], 'empty-obj', ['get', '$1', '2', '4']]]], 'left-action', 'forward-action']]], 'direction-')\n",
      "(['lambda', ['lambda', ['if', ['eq-obj?', 'empty-obj', ['get', '$1', ['if', ['eq-obj?', 'empty-obj', 'wall-obj'], '4', '3'], '2nd']], 'forward-action', 'left-action']]], '2nd')\n"
     ]
    },
    {
     "name": "stderr",
     "output_type": "stream",
     "text": [
      " 52%|██████████████████████████████████████████████████████████████████████████████████████████████████████████████▎                                                                                                    | 57/109 [03:40<03:28,  4.00s/it]"
     ]
    },
    {
     "name": "stdout",
     "output_type": "stream",
     "text": [
      "(['lambda', ['lambda', ['if', ['eq-obj?', 'wall-obj', ['get', '$1', ['if', ['eq-obj?', 'empty-obj', 'wall-obj'], '3', '2'], '2']], 'left-action', ['if', ['eq-obj?', 'zero-obj', ['get', '$1', '3', '2']], 'left-action', 'forward-action']]]], 'zero-obj')\n"
     ]
    },
    {
     "name": "stderr",
     "output_type": "stream",
     "text": [
      " 53%|████████████████████████████████████████████████████████████████████████████████████████████████████████████████▎                                                                                                  | 58/109 [03:43<03:19,  3.92s/it]"
     ]
    },
    {
     "name": "stdout",
     "output_type": "stream",
     "text": [
      "string index out of range\n",
      "string index out of range\n",
      "(lambda (lambda (if (if (eq-direction? direction-2 direction-1) (eq-obj? (if (eq-direction? direction-0 $0) (get $1 2 1) wall-obj) wall-obj) (not (eq-direction? direction-0 direction-1))) (eq-direction? $0 direction-3)) (if (eq-direction? $0 direction-2) forward-action left-action) forward-action)))\n"
     ]
    },
    {
     "name": "stderr",
     "output_type": "stream",
     "text": [
      " 58%|█████████████████████████████████████████████████████████████████████████████████████████████████████████████████████████▉                                                                                         | 63/109 [04:03<02:55,  3.81s/it]"
     ]
    },
    {
     "name": "stdout",
     "output_type": "stream",
     "text": [
      "'int' object is not subscriptable\n",
      "(['lambda', ['lambda', ['if', ['eq-obj?', ['get', '$1', '2', '22'], 'empty-obj'], 'forward-action', ['if', ['eq-obj?', ['get', '$1', '3', '3'], 'wall-obj'], 'left-action', 'forward-action']]]], '22')\n",
      "(['lambda', ['lambda', ['if', ['eq-obj?', ['get', '$1', '2', '20'], ['get', '$1', '3', '2']], 'left-action', 'forward-action']]], '20')\n"
     ]
    },
    {
     "name": "stderr",
     "output_type": "stream",
     "text": [
      " 61%|███████████████████████████████████████████████████████████████████████████████████████████████████████████████████████████████▊                                                                                   | 66/109 [04:16<02:59,  4.17s/it]"
     ]
    },
    {
     "name": "stdout",
     "output_type": "stream",
     "text": [
      "string index out of range\n",
      "string index out of range\n",
      "string index out of range\n",
      "'bool' object is not callable\n"
     ]
    },
    {
     "name": "stderr",
     "output_type": "stream",
     "text": [
      " 61%|█████████████████████████████████████████████████████████████████████████████████████████████████████████████████████████████████▋                                                                                 | 67/109 [04:21<03:01,  4.31s/it]"
     ]
    },
    {
     "name": "stdout",
     "output_type": "stream",
     "text": [
      "string index out of range\n",
      "string index out of range\n",
      "string index out of range\n",
      "'int' object is not callable\n"
     ]
    },
    {
     "name": "stderr",
     "output_type": "stream",
     "text": [
      " 62%|███████████████████████████████████████████████████████████████████████████████████████████████████████████████████████████████████▋                                                                               | 68/109 [04:26<03:09,  4.61s/it]"
     ]
    },
    {
     "name": "stdout",
     "output_type": "stream",
     "text": [
      "string index out of range\n",
      "'bool' object is not callable\n",
      "string index out of range\n"
     ]
    },
    {
     "name": "stderr",
     "output_type": "stream",
     "text": [
      " 63%|█████████████████████████████████████████████████████████████████████████████████████████████████████████████████████████████████████▌                                                                             | 69/109 [04:30<03:01,  4.54s/it]"
     ]
    },
    {
     "name": "stdout",
     "output_type": "stream",
     "text": [
      "string index out of range\n"
     ]
    },
    {
     "name": "stderr",
     "output_type": "stream",
     "text": [
      " 64%|███████████████████████████████████████████████████████████████████████████████████████████████████████████████████████████████████████▌                                                                           | 70/109 [04:34<02:50,  4.38s/it]"
     ]
    },
    {
     "name": "stdout",
     "output_type": "stream",
     "text": [
      "(['lambda', ['lambda', ['if', ['not', ['eq-obj?', 'empty-obj', ['get', '$1', '0', '3']]], ['if', ['or', ['eq-direction?', 'direction-0', 'direction-not', ['eq-obj?', 'wall-obj', 'empty-obj']], ['not', ['eq-direction?', 'direction-0', 'direction-1']]], 'forward-action', 'left-action'], 'forward-action']]], 'direction-not')\n"
     ]
    },
    {
     "name": "stderr",
     "output_type": "stream",
     "text": [
      " 66%|███████████████████████████████████████████████████████████████████████████████████████████████████████████████████████████████████████████▍                                                                       | 72/109 [04:43<02:44,  4.45s/it]"
     ]
    },
    {
     "name": "stdout",
     "output_type": "stream",
     "text": [
      "string index out of range\n",
      "'bool' object is not callable\n"
     ]
    },
    {
     "name": "stderr",
     "output_type": "stream",
     "text": [
      " 67%|█████████████████████████████████████████████████████████████████████████████████████████████████████████████████████████████████████████████▎                                                                     | 73/109 [04:48<02:39,  4.44s/it]"
     ]
    },
    {
     "name": "stdout",
     "output_type": "stream",
     "text": [
      "'int' object is not callable\n"
     ]
    },
    {
     "name": "stderr",
     "output_type": "stream",
     "text": [
      " 69%|█████████████████████████████████████████████████████████████████████████████████████████████████████████████████████████████████████████████████▏                                                                 | 75/109 [04:56<02:25,  4.27s/it]"
     ]
    },
    {
     "name": "stdout",
     "output_type": "stream",
     "text": [
      "string index out of range\n"
     ]
    },
    {
     "name": "stderr",
     "output_type": "stream",
     "text": [
      " 70%|███████████████████████████████████████████████████████████████████████████████████████████████████████████████████████████████████████████████████                                                                | 76/109 [05:00<02:20,  4.25s/it]"
     ]
    },
    {
     "name": "stdout",
     "output_type": "stream",
     "text": [
      "string index out of range\n",
      "string index out of range\n",
      "(['lambda', ['lambda', ['if', ['eq-obj?', ['get', '$1', '0', '3'], ['if', ['and', ['eq-direction?', '$0', 'direction-0'], ['eq-obj?', 'zero-obj', 'wall-obj']], 'wall-obj', ['get', '$1', '3', '0']]], 'left-action', ['if', ['and', ['eq-obj?', 'empty-obj', 'empty-obj'], ['eq-obj?', ['get', '$1', '3', '3'], ['get', '$1', '3', '3']]], 'left-action', 'forward-action']]]], 'zero-obj')\n"
     ]
    },
    {
     "name": "stderr",
     "output_type": "stream",
     "text": [
      " 71%|█████████████████████████████████████████████████████████████████████████████████████████████████████████████████████████████████████████████████████                                                              | 77/109 [05:04<02:09,  4.04s/it]"
     ]
    },
    {
     "name": "stdout",
     "output_type": "stream",
     "text": [
      "(lambda (lambda (if (eq-obj? (get $1 (if (eq-direction? direction-1 $0) 3 2) 4) empty-obj)1if (and (not (eq-direction? direction-2 direction-3)) (eq-direction? direction-2 direction-0)) (if (eq-direction? direction-1 direction-3) forward-action left-action) forward-action) left-action)))\n"
     ]
    },
    {
     "name": "stderr",
     "output_type": "stream",
     "text": [
      " 72%|██████████████████████████████████████████████████████████████████████████████████████████████████████████████████████████████████████████████████████▉                                                            | 78/109 [05:08<02:05,  4.06s/it]"
     ]
    },
    {
     "name": "stdout",
     "output_type": "stream",
     "text": [
      "'bool' object is not callable\n",
      "string index out of range\n"
     ]
    },
    {
     "name": "stderr",
     "output_type": "stream",
     "text": [
      " 72%|████████████████████████████████████████████████████████████████████████████████████████████████████████████████████████████████████████████████████████▉                                                          | 79/109 [05:12<02:01,  4.06s/it]"
     ]
    },
    {
     "name": "stdout",
     "output_type": "stream",
     "text": [
      "(lambda (lambda (if (eq-obj? (get $1 0 3) wall-obj)) left-action forward-action)))\n"
     ]
    },
    {
     "name": "stderr",
     "output_type": "stream",
     "text": [
      " 74%|████████████████████████████████████████████████████████████████████████████████████████████████████████████████████████████████████████████████████████████▊                                                      | 81/109 [05:20<01:50,  3.94s/it]"
     ]
    },
    {
     "name": "stdout",
     "output_type": "stream",
     "text": [
      "list indices must be integers or slices, not list\n",
      "string index out of range\n",
      "string index out of range\n",
      "string index out of range\n",
      "(lambda (lambda (if (or (eq-obj? empty-obj empty-obj) (not (eq-obj? empty-obj (get $1 0 3)))) $0) left-action forward-action)))\n",
      "list index out of range\n"
     ]
    },
    {
     "name": "stderr",
     "output_type": "stream",
     "text": [
      " 76%|████████████████████████████████████████████████████████████████████████████████████████████████████████████████████████████████████████████████████████████████▋                                                  | 83/109 [05:27<01:40,  3.85s/it]"
     ]
    },
    {
     "name": "stdout",
     "output_type": "stream",
     "text": [
      "'int' object is not callable\n"
     ]
    },
    {
     "name": "stderr",
     "output_type": "stream",
     "text": [
      " 78%|████████████████████████████████████████████████████████████████████████████████████████████████████████████████████████████████████████████████████████████████████▌                                              | 85/109 [05:35<01:32,  3.84s/it]"
     ]
    },
    {
     "name": "stdout",
     "output_type": "stream",
     "text": [
      "(['lambda', ['lambda', ['if', ['eq-obj?', 'wall-obj', ['get', '$1', '32']], 'left-action', 'forward-action']]], '32')\n"
     ]
    },
    {
     "name": "stderr",
     "output_type": "stream",
     "text": [
      " 79%|██████████████████████████████████████████████████████████████████████████████████████████████████████████████████████████████████████████████████████████████████████▍                                            | 86/109 [05:39<01:28,  3.83s/it]"
     ]
    },
    {
     "name": "stdout",
     "output_type": "stream",
     "text": [
      "(lambda (lambda (if (eq-obj? (get $1 (if (eq-obj? empty-obj empty-obj) 2 1) (if (eq-obj? empty-obj empty-obj) 4 2)) (get $1 1 1)) (get $1 1 2)) left-action (if (eq-direction? $0 direction-1) forward-action right-action))))\n",
      "Attempt to evaluate fragment variable\n",
      "(lambda (lambda (if (eq-obj? (if (not (eq-direction? direction-3 direction-2)) (if (eq-direction? direction-1 $0) (get $1 2 2) (get $1 0 3)) wall-obj) wall-obj) (if (eq-obj? wall-obj wall-obj) (get $1 1 1) wall-obj)) left-action forward-action) forward-action)))\n"
     ]
    },
    {
     "name": "stderr",
     "output_type": "stream",
     "text": [
      " 80%|████████████████████████████████████████████████████████████████████████████████████████████████████████████████████████████████████████████████████████████████████████▍                                          | 87/109 [05:42<01:21,  3.71s/it]"
     ]
    },
    {
     "name": "stdout",
     "output_type": "stream",
     "text": [
      "string index out of range\n",
      "(['lambda', ['lambda', ['if', ['eq-obj?', 'wall-obj', 'wall-obj'], ['if', ['eq-if?', ['eq-obj?', 'empty-obj', 'empty-obj'], ['eq-obj?', ['get', '$1', '1', '0'], ['get', '$1', '2', '1']], ['not', ['eq-direction?', 'direction-2', 'direction-3']]], 'left-action', 'forward-action'], 'forward-action']]], 'eq-if?')\n"
     ]
    },
    {
     "name": "stderr",
     "output_type": "stream",
     "text": [
      " 81%|██████████████████████████████████████████████████████████████████████████████████████████████████████████████████████████████████████████████████████████████████████████▎                                        | 88/109 [05:46<01:17,  3.71s/it]"
     ]
    },
    {
     "name": "stdout",
     "output_type": "stream",
     "text": [
      "string index out of range\n",
      "string index out of range\n",
      "(lambda (lambda (if (eq-obj? empty-obj (get $1 2 (if (eq-obj? empty-obj empty-obj) 2 3)) empty-obj)) left-action forward-action)))\n"
     ]
    },
    {
     "name": "stderr",
     "output_type": "stream",
     "text": [
      " 82%|████████████████████████████████████████████████████████████████████████████████████████████████████████████████████████████████████████████████████████████████████████████▎                                      | 89/109 [05:50<01:17,  3.89s/it]"
     ]
    },
    {
     "name": "stdout",
     "output_type": "stream",
     "text": [
      "string index out of range\n"
     ]
    },
    {
     "name": "stderr",
     "output_type": "stream",
     "text": [
      " 83%|██████████████████████████████████████████████████████████████████████████████████████████████████████████████████████████████████████████████████████████████████████████████▏                                    | 90/109 [05:54<01:11,  3.77s/it]"
     ]
    },
    {
     "name": "stdout",
     "output_type": "stream",
     "text": [
      "(lambda (lambda (if (not (eq-obj? wall-obj (get $1 4 4)))) (if (eq-direction? direction-3 direction-2) forward-action left-action) forward-action)))\n"
     ]
    },
    {
     "name": "stderr",
     "output_type": "stream",
     "text": [
      " 83%|████████████████████████████████████████████████████████████████████████████████████████████████████████████████████████████████████████████████████████████████████████████████▏                                  | 91/109 [05:58<01:10,  3.92s/it]"
     ]
    },
    {
     "name": "stdout",
     "output_type": "stream",
     "text": [
      "(['lambda', ['lambda', ['if', ['eq-obj?', ['get', ['if', ['eq-obj?', 'wall-obj', 'empty-obj'], '$1', '$1'], '23'], 'empty-obj'], 'left-action', 'forward-action']]], '23')\n"
     ]
    },
    {
     "name": "stderr",
     "output_type": "stream",
     "text": [
      " 84%|██████████████████████████████████████████████████████████████████████████████████████████████████████████████████████████████████████████████████████████████████████████████████                                 | 92/109 [06:02<01:06,  3.90s/it]"
     ]
    },
    {
     "name": "stdout",
     "output_type": "stream",
     "text": [
      "string index out of range\n"
     ]
    },
    {
     "name": "stderr",
     "output_type": "stream",
     "text": [
      " 85%|████████████████████████████████████████████████████████████████████████████████████████████████████████████████████████████████████████████████████████████████████████████████████                               | 93/109 [06:05<01:00,  3.80s/it]"
     ]
    },
    {
     "name": "stdout",
     "output_type": "stream",
     "text": [
      "list index out of range\n",
      "string index out of range\n",
      "(lambda (lambda (if (eq-obj? (if (eq-obj? wall-obj (get $1 1 2)) empty-obj wall-obj) (get $1 3 2)) (if (eq-direction? $0 direction-2) empty-obj empty-obj)) left-action forward-action)))\n"
     ]
    },
    {
     "name": "stderr",
     "output_type": "stream",
     "text": [
      " 87%|███████████████████████████████████████████████████████████████████████████████████████████████████████████████████████████████████████████████████████████████████████████████████████▉                           | 95/109 [06:12<00:52,  3.72s/it]"
     ]
    },
    {
     "name": "stdout",
     "output_type": "stream",
     "text": [
      "string index out of range\n",
      "string index out of range\n"
     ]
    },
    {
     "name": "stderr",
     "output_type": "stream",
     "text": [
      " 88%|█████████████████████████████████████████████████████████████████████████████████████████████████████████████████████████████████████████████████████████████████████████████████████████▊                         | 96/109 [06:16<00:46,  3.61s/it]"
     ]
    },
    {
     "name": "stdout",
     "output_type": "stream",
     "text": [
      "(['lambda', ['lambda', ['if', ['eq-obj?', ['get', '$1', ['if', ['eq-obj?', 'wall-obj', 'empty-obj'], '2', '2'], '2'], 'wall-obj'], 'left-action', ['if', ['eq-obj?', 'zero-obj', 'wall-obj'], 'forward-action', 'forward-action']]]], 'zero-obj')\n",
      "(['lambda', ['lambda', ['if', ['eq-obj?', 'wall-obj', ['get', '$1', ['if', ['eq-direction?', 'direction-3', 'direction-3'], '1', '2'], '2obj']], 'left-action', 'forward-action']]], '2obj')\n",
      "(['lambda', ['lambda', ['if', ['not', ['eq-obj?', 'empty-obj', '0-obj']], 'left-action', 'forward-action']]], '0-obj')\n"
     ]
    },
    {
     "name": "stderr",
     "output_type": "stream",
     "text": [
      " 90%|█████████████████████████████████████████████████████████████████████████████████████████████████████████████████████████████████████████████████████████████████████████████████████████████▋                     | 98/109 [06:23<00:41,  3.76s/it]"
     ]
    },
    {
     "name": "stdout",
     "output_type": "stream",
     "text": [
      "'int' object is not callable\n"
     ]
    },
    {
     "name": "stderr",
     "output_type": "stream",
     "text": [
      " 92%|████████████████████████████████████████████████████████████████████████████████████████████████████████████████████████████████████████████████████████████████████████████████████████████████▋                 | 100/109 [06:31<00:34,  3.80s/it]"
     ]
    },
    {
     "name": "stdout",
     "output_type": "stream",
     "text": [
      "string index out of range\n"
     ]
    },
    {
     "name": "stderr",
     "output_type": "stream",
     "text": [
      " 94%|████████████████████████████████████████████████████████████████████████████████████████████████████████████████████████████████████████████████████████████████████████████████████████████████████▌             | 102/109 [06:39<00:27,  3.91s/it]"
     ]
    },
    {
     "name": "stdout",
     "output_type": "stream",
     "text": [
      "(['lambda', ['lambda', ['if', ['and', ['eq-obj?', 'wall-obj', ['get', '$1', '3', '2']], ['and', ['eq-direction?', 'direction-0', '$0'], ['eq-obj?', 'wall-obj', 'empty-obj']]], 'right-action', '1-action']]], '1-action')\n",
      "list index out of range\n"
     ]
    },
    {
     "name": "stderr",
     "output_type": "stream",
     "text": [
      " 94%|██████████████████████████████████████████████████████████████████████████████████████████████████████████████████████████████████████████████████████████████████████████████████████████████████████▍           | 103/109 [06:43<00:23,  3.93s/it]"
     ]
    },
    {
     "name": "stdout",
     "output_type": "stream",
     "text": [
      "string index out of range\n",
      "(lambda (lambda (if (eq-obj? (get $1 (if (eq-direction? direction-1 direction-?) direction-3 $0) 4 3) 3) (if (eq-obj? empty-obj wall-obj) wall-obj empty-obj)) forward-action left-action)))\n",
      "string index out of range\n",
      "'int' object is not subscriptable\n"
     ]
    },
    {
     "name": "stderr",
     "output_type": "stream",
     "text": [
      " 95%|████████████████████████████████████████████████████████████████████████████████████████████████████████████████████████████████████████████████████████████████████████████████████████████████████████▎         | 104/109 [06:47<00:19,  3.87s/it]"
     ]
    },
    {
     "name": "stdout",
     "output_type": "stream",
     "text": [
      "'bool' object is not callable\n"
     ]
    },
    {
     "name": "stderr",
     "output_type": "stream",
     "text": [
      " 96%|██████████████████████████████████████████████████████████████████████████████████████████████████████████████████████████████████████████████████████████████████████████████████████████████████████████▎       | 105/109 [06:51<00:16,  4.13s/it]"
     ]
    },
    {
     "name": "stdout",
     "output_type": "stream",
     "text": [
      "string index out of range\n",
      "string index out of range\n",
      "(['lambda', ['lambda', ['if', ['eq-obj?', 'wall-obj', ['get', '$1', ['if', ['eq-direction?', 'direction-1', '$0'], '2', '3'], '2obj']], 'left-action', 'forward-action']]], '2obj')\n"
     ]
    },
    {
     "name": "stderr",
     "output_type": "stream",
     "text": [
      " 97%|████████████████████████████████████████████████████████████████████████████████████████████████████████████████████████████████████████████████████████████████████████████████████████████████████████████▏     | 106/109 [06:56<00:12,  4.20s/it]"
     ]
    },
    {
     "name": "stdout",
     "output_type": "stream",
     "text": [
      "'int' object is not callable\n",
      "string index out of range\n"
     ]
    },
    {
     "name": "stderr",
     "output_type": "stream",
     "text": [
      " 98%|██████████████████████████████████████████████████████████████████████████████████████████████████████████████████████████████████████████████████████████████████████████████████████████████████████████████▏   | 107/109 [07:00<00:08,  4.11s/it]"
     ]
    },
    {
     "name": "stdout",
     "output_type": "stream",
     "text": [
      "string index out of range\n",
      "'int' object is not callable\n",
      "(['lambda', ['lambda', ['if', ['eq-direction?', '$0', 'direction-', '0'], 'left-action', 'forward-action']]], 'direction-')\n",
      "string index out of range\n",
      "(lambda (lambda (if (eq-obj? empty-obj (get $1 2 2) empty-obj)) (if (eq-obj? (get (if (eq-direction? direction-1 direction-2) $1 $1) (if (eq-obj? wall-obj empty-obj) 3 1) 2) left-action) forward-action) left-action)))\n"
     ]
    },
    {
     "name": "stderr",
     "output_type": "stream",
     "text": [
      " 99%|████████████████████████████████████████████████████████████████████████████████████████████████████████████████████████████████████████████████████████████████████████████████████████████████████████████████  | 108/109 [07:04<00:04,  4.15s/it]"
     ]
    },
    {
     "name": "stdout",
     "output_type": "stream",
     "text": [
      "(lambda (lambda (if (eq-obj? (if (eq-obj? (get $1 0 2) (get $1 2 2)) (if (eq-direction? direction-3 $0) wall-obj (get $1 2 2)) (get $1 1 1))) wall-obj) left-action (if (eq-direction? direction-0 direction-2) forward-action left-action))))\n",
      "(lambda (lambda (if (eq-obj? (get $1 0 (if (eq-direction? $0 direction-1) 4 4)) (if (eq-obj? empty-obj wall-obj) (get $1 1 0) (get $1 2 2)) (get $1 3 4))) right-action forward-action)))\n",
      "list indices must be integers or slices, not list\n",
      "'int' object is not callable\n"
     ]
    },
    {
     "name": "stderr",
     "output_type": "stream",
     "text": [
      "100%|██████████████████████████████████████████████████████████████████████████████████████████████████████████████████████████████████████████████████████████████████████████████████████████████████████████████████| 109/109 [07:09<00:00,  3.94s/it]"
     ]
    },
    {
     "name": "stdout",
     "output_type": "stream",
     "text": [
      "string index out of range\n",
      "'int' object is not callable\n",
      "(lambda (lambda (if (not (eq-obj? wall-obj wall-obj)) right-action (if (eq-obj? (if (eq-obj? empty-obj wall-obj) (get $1 1 0) (get $1 1 2)) wall-obj) (if (eq-direction? direction-1 direction-0) (if (eq-direction? direction-1 direction-1) (get $1 0 2) (get $1 3 2))) forward-action forward-action) right-action))))\n"
     ]
    },
    {
     "name": "stderr",
     "output_type": "stream",
     "text": [
      "\n"
     ]
    }
   ],
   "source": [
    "from tqdm import tqdm\n",
    "import transformers\n",
    "transformers.logging.set_verbosity_error()\n",
    "stats = []\n",
    "for tt in tqdm(testTasks):       \n",
    "    p, n = test_programs_on_task(tt, n=100, verbose=False)\n",
    "    stats.append((p,n))"
   ]
  },
  {
   "cell_type": "code",
   "execution_count": 31,
   "id": "c0f7c5dd-c289-471e-a3f4-c5ff9c4ca155",
   "metadata": {},
   "outputs": [],
   "source": [
    "solved = [x for x in stats if x[0] is not None]"
   ]
  },
  {
   "cell_type": "code",
   "execution_count": 32,
   "id": "d0f680fb-5539-4ac9-8f2b-a40eff6bb72a",
   "metadata": {},
   "outputs": [
    {
     "name": "stdout",
     "output_type": "stream",
     "text": [
      "29/109\n"
     ]
    },
    {
     "data": {
      "text/plain": [
       "0.26605504587155965"
      ]
     },
     "execution_count": 32,
     "metadata": {},
     "output_type": "execute_result"
    }
   ],
   "source": [
    "print(f'{len(solved)}/{len(stats)}')\n",
    "len(solved)/len(stats)"
   ]
  },
  {
   "cell_type": "code",
   "execution_count": 33,
   "id": "76ecf554-bdc1-418b-8e5f-b25a83119af2",
   "metadata": {},
   "outputs": [
    {
     "data": {
      "text/plain": [
       "[((lambda (lambda (if (eq-obj? (get $1 2 3) empty-obj) forward-action left-action))),\n",
       "  41),\n",
       " ((lambda (lambda (if (eq-direction? direction-0 $0) forward-action left-action))),\n",
       "  16),\n",
       " ((lambda (lambda (if (not (not (eq-obj? (get $1 3 2) (get $1 3 3)))) left-action (if (eq-direction? direction-1 direction-2) forward-action forward-action)))),\n",
       "  73),\n",
       " ((lambda (lambda (if (eq-obj? wall-obj (if (eq-obj? wall-obj (get $1 1 4)) (get $1 2 3) wall-obj)) left-action forward-action))),\n",
       "  16),\n",
       " ((lambda (lambda (if (eq-obj? empty-obj (get $1 (if (eq-obj? empty-obj wall-obj) 3 2) 3)) forward-action (if (eq-direction? direction-0 direction-1) forward-action left-action)))),\n",
       "  32),\n",
       " ((lambda (lambda (if (not (eq-direction? direction-1 $0)) left-action forward-action))),\n",
       "  0),\n",
       " ((lambda (lambda (if (eq-direction? direction-1 $0) forward-action left-action))),\n",
       "  0),\n",
       " ((lambda (lambda (if (not (and (eq-obj? empty-obj (get $1 2 2)) (eq-obj? wall-obj wall-obj))) left-action forward-action))),\n",
       "  1),\n",
       " ((lambda (lambda (if (not (not (eq-obj? empty-obj (get $1 3 4)))) left-action forward-action))),\n",
       "  82),\n",
       " ((lambda (lambda (if (eq-direction? (if (eq-obj? empty-obj (get $1 1 4)) direction-0 direction-1) $0) left-action forward-action))),\n",
       "  8),\n",
       " ((lambda (lambda (if (eq-obj? wall-obj (get $1 2 3)) left-action forward-action))),\n",
       "  4),\n",
       " ((lambda (lambda (if (not (eq-obj? (get $1 1 0) (get $1 0 3))) forward-action left-action))),\n",
       "  17),\n",
       " ((lambda (lambda (if (eq-obj? (get $1 2 1) wall-obj) left-action forward-action))),\n",
       "  37),\n",
       " ((lambda (lambda (if (or (eq-obj? empty-obj (get $1 2 1)) (eq-direction? direction-1 direction-2)) forward-action left-action))),\n",
       "  4),\n",
       " ((lambda (lambda (if (eq-obj? (get $1 2 3) (get $1 3 2)) left-action forward-action))),\n",
       "  53),\n",
       " ((lambda (lambda (if (eq-obj? wall-obj (get $1 2 3)) left-action forward-action))),\n",
       "  0),\n",
       " ((lambda (lambda (if (eq-obj? (get $1 2 3) empty-obj) forward-action left-action))),\n",
       "  79),\n",
       " ((lambda (lambda (if (eq-obj? (if (eq-obj? (get $1 1 4) empty-obj) wall-obj (get $1 4 4)) empty-obj) forward-action left-action))),\n",
       "  4),\n",
       " ((lambda (lambda (if (eq-obj? (get $1 2 3) empty-obj) forward-action (if (not (not (eq-obj? empty-obj wall-obj))) forward-action left-action)))),\n",
       "  0),\n",
       " ((lambda (lambda (if (eq-obj? (get $1 2 3) empty-obj) forward-action left-action))),\n",
       "  47),\n",
       " ((lambda (lambda (if (eq-obj? (get $1 1 4) (get $1 4 1)) left-action forward-action))),\n",
       "  71),\n",
       " ((lambda (lambda (if (eq-obj? (get (if (eq-obj? empty-obj wall-obj) $1 $1) 2 3) empty-obj) (if (or (eq-direction? direction-1 direction-3) (eq-obj? empty-obj wall-obj)) left-action forward-action) left-action))),\n",
       "  5),\n",
       " ((lambda (lambda (if (eq-direction? $0 direction-3) forward-action left-action))),\n",
       "  0),\n",
       " ((lambda (lambda (if (eq-obj? wall-obj (get $1 (if (eq-obj? wall-obj empty-obj) 0 4) 3)) left-action forward-action))),\n",
       "  72),\n",
       " ((lambda (lambda (if (eq-obj? (get $1 2 3) wall-obj) left-action forward-action))),\n",
       "  13),\n",
       " ((lambda (lambda (if (eq-direction? direction-0 $0) left-action forward-action))),\n",
       "  9),\n",
       " ((lambda (lambda (if (not (eq-obj? (get $1 2 3) empty-obj)) left-action forward-action))),\n",
       "  2),\n",
       " ((lambda (lambda (if (or (eq-obj? empty-obj wall-obj) (eq-obj? empty-obj (get $1 2 3))) forward-action (if (eq-direction? direction-2 direction-3) right-action left-action)))),\n",
       "  1),\n",
       " ((lambda (lambda (if (eq-direction? direction-3 direction-1) left-action (if (eq-obj? (get $1 4 3) empty-obj) forward-action (if (and (eq-obj? wall-obj empty-obj) (eq-direction? direction-2 direction-1)) forward-action left-action))))),\n",
       "  17)]"
      ]
     },
     "execution_count": 33,
     "metadata": {},
     "output_type": "execute_result"
    }
   ],
   "source": [
    "solved"
   ]
  },
  {
   "cell_type": "code",
   "execution_count": null,
   "id": "b8d63ee0-679e-454c-ad3f-46bfab20fa8f",
   "metadata": {},
   "outputs": [],
   "source": []
  }
 ],
 "metadata": {
  "kernelspec": {
   "display_name": "Python 3 (ipykernel)",
   "language": "python",
   "name": "python3"
  },
  "language_info": {
   "codemirror_mode": {
    "name": "ipython",
    "version": 3
   },
   "file_extension": ".py",
   "mimetype": "text/x-python",
   "name": "python",
   "nbconvert_exporter": "python",
   "pygments_lexer": "ipython3",
   "version": "3.9.16"
  }
 },
 "nbformat": 4,
 "nbformat_minor": 5
}
