{
 "cells": [
  {
   "cell_type": "code",
   "execution_count": 6,
   "id": "a0b139b3-f99e-4b1c-a9ac-f288cd4a62d9",
   "metadata": {},
   "outputs": [],
   "source": [
    "import datetime\n",
    "import os\n",
    "import random\n",
    "import pandas as pd\n",
    "import numpy as np\n",
    "import operator\n",
    "import random\n",
    "from tqdm import tqdm\n",
    "\n",
    "try:\n",
    "    import binutil  # required to import from dreamcoder modules\n",
    "except ModuleNotFoundError:\n",
    "    import bin.binutil  # alt import if called as module\n",
    "\n",
    "from dreamcoder.task import Task\n",
    "from dreamcoder.dreamcoder import *\n",
    "from dreamcoder.domains.minigrid.primitives import basePrimitives, tmap, taction, idx_to_action, tdirection\n",
    "from dreamcoder.grammar import Grammar\n",
    "from dreamcoder.utilities import testTrainSplit, eprint, numberOfCPUs\n",
    "from dreamcoder.type import arrow\n",
    "from dreamcoder.domains.minigrid.nn_model_maze import *\n",
    "from dreamcoder.dreamcoder import commandlineArguments\n",
    "from dreamcoder.utilities import numberOfCPUs\n",
    "from bin.maze_T5 import *\n",
    "import transformers\n",
    "from transformers import RobertaTokenizer, T5ForConditionalGeneration, AutoTokenizer, TrainingArguments, Seq2SeqTrainer\n",
    "\n",
    "os.environ[\"WANDB_PROJECT\"] = \"T5-Minigrid-Maze\""
   ]
  },
  {
   "cell_type": "code",
   "execution_count": 2,
   "id": "5a7e3e19-028c-4853-9ef0-46e74161e325",
   "metadata": {
    "tags": []
   },
   "outputs": [
    {
     "name": "stdout",
     "output_type": "stream",
     "text": [
      "2022-12-10T15:06:51.671747.npy\t2022-12-15T13:34:56.249872.npy\n",
      "2022-12-10T15:17:43.619183.npy\t2022-12-15T14:34:20.172044.npy\n",
      "2022-12-10T15:26:33.798573.npy\t2022-12-15T15:35:54.775637.npy\n",
      "2022-12-10T15:32:12.354349.npy\t2022-12-15T16:35:33.902790.npy\n",
      "2022-12-13T09:08:03.259228.npy\t2022-12-15T17:38:16.683542.npy\n",
      "2022-12-13T09:19:32.229773.npy\t2022-12-15T18:40:13.670383.npy\n",
      "2022-12-13T09:34:56.104654.npy\t2022-12-15T19:43:07.999718.npy\n",
      "2022-12-13T09:50:53.655924.npy\t2022-12-15T20:45:27.107614.npy\n",
      "2022-12-13T10:46:55.811094.npy\t2022-12-15T21:48:05.989464.npy\n",
      "2022-12-13T11:26:44.661617.npy\t2022-12-15T22:48:08.643937.npy\n",
      "2022-12-13T12:12:33.991250.npy\t2022-12-15T23:50:12.515312.npy\n",
      "2022-12-13T12:57:34.743587.npy\t2022-12-16T00:50:54.471201.npy\n",
      "2022-12-13T13:43:45.232132.npy\t2022-12-16T01:52:20.899604.npy\n",
      "2022-12-13T14:37:17.039305.npy\t2022-12-16T02:52:11.339662.npy\n",
      "2022-12-13T15:34:09.283419.npy\t2022-12-16T03:50:00.437851.npy\n",
      "2022-12-13T16:30:44.111898.npy\t2022-12-16T04:48:05.552523.npy\n",
      "2022-12-13T17:27:48.764984.npy\t2022-12-16T05:47:53.969059.npy\n",
      "2022-12-13T18:27:15.422922.npy\t2022-12-16T06:46:53.958068.npy\n",
      "2022-12-13T19:28:18.327302.npy\t2022-12-16T07:44:35.268956.npy\n",
      "2022-12-13T20:29:02.373781.npy\t2022-12-16T08:43:07.895560.npy\n",
      "2022-12-13T21:30:32.208955.npy\t2022-12-16T09:49:34.346630.npy\n",
      "2022-12-13T22:32:09.480261.npy\t2022-12-16T10:55:23.243015.npy\n",
      "2022-12-13T23:33:22.715820.npy\t2022-12-16T11:59:50.013234.npy\n",
      "2022-12-14T00:33:28.202507.npy\t2022-12-16T13:05:19.544860.npy\n",
      "2022-12-14T01:34:20.423366.npy\t2022-12-16T14:10:11.218238.npy\n",
      "2022-12-14T02:35:35.336768.npy\t2022-12-16T15:16:26.349878.npy\n",
      "2022-12-14T03:39:01.386444.npy\t2022-12-16T16:22:24.396318.npy\n",
      "2022-12-14T04:42:04.170041.npy\t2022-12-17T07:10:38.108651.npy\n",
      "2022-12-14T05:46:05.941083.npy\t2022-12-17T08:11:42.608030.npy\n",
      "2022-12-14T06:48:17.922752.npy\t2022-12-17T09:12:54.032107.npy\n",
      "2022-12-14T07:49:40.332862.npy\t2022-12-17T10:13:14.046924.npy\n",
      "2022-12-14T08:48:03.647852.npy\t2022-12-17T11:14:46.209390.npy\n",
      "2022-12-14T09:36:40.275672.npy\t2022-12-17T12:18:13.448407.npy\n",
      "2022-12-14T09:45:08.711013.npy\t2022-12-17T13:22:23.025814.npy\n",
      "2022-12-14T10:19:31.108659.npy\t2022-12-17T16:18:50.250790.npy\n",
      "2022-12-14T10:46:14.704414.npy\t2022-12-17T17:22:19.337991.npy\n",
      "2022-12-14T11:47:34.616717.npy\t2022-12-17T18:25:02.115091.npy\n",
      "2022-12-14T12:08:33.124708.npy\t2022-12-17T19:25:11.822485.npy\n",
      "2022-12-14T12:50:22.695682.npy\t2022-12-17T20:28:38.678544.npy\n",
      "2022-12-14T13:05:16.342083.npy\t2022-12-17T21:31:07.023880.npy\n",
      "2022-12-14T13:14:58.099820.npy\t2022-12-17T22:34:24.915507.npy\n",
      "2022-12-14T13:26:44.689271.npy\t2022-12-17T23:40:12.444825.npy\n",
      "2022-12-14T13:42:20.519903.npy\t2022-12-18T00:41:04.588320.npy\n",
      "2022-12-14T13:52:46.392266.npy\t2022-12-18T01:43:00.731126.npy\n",
      "2022-12-14T14:13:55.448479.npy\t2022-12-18T02:44:00.412975.npy\n",
      "2022-12-14T14:38:53.458695.npy\t2022-12-18T03:46:46.019303.npy\n",
      "2022-12-14T14:54:31.498272.npy\t2022-12-18T04:48:37.384491.npy\n",
      "2022-12-14T15:09:26.615676.npy\t2022-12-18T05:50:33.694598.npy\n",
      "2022-12-14T15:36:30.893598.npy\t2022-12-18T06:52:09.949443.npy\n",
      "2022-12-14T15:56:12.481464.npy\t2022-12-18T07:54:28.543853.npy\n",
      "2022-12-14T16:16:04.003757.npy\t2022-12-18T08:57:33.952369.npy\n",
      "2022-12-14T16:56:38.513576.npy\t2022-12-18T10:01:20.781426.npy\n",
      "2022-12-14T17:58:50.526065.npy\t2022-12-18T11:01:54.889005.npy\n",
      "2022-12-14T18:58:49.370689.npy\t2022-12-18T12:05:22.832565.npy\n",
      "2022-12-14T19:36:37.058781.npy\t2022-12-18T13:08:13.073632.npy\n",
      "2022-12-14T19:58:26.898282.npy\t2022-12-18T14:10:11.826291.npy\n",
      "2022-12-14T20:57:11.740077.npy\t2022-12-18T15:15:35.596766.npy\n",
      "2022-12-14T21:57:58.014418.npy\t2022-12-18T16:20:00.044193.npy\n",
      "2022-12-14T22:59:26.248338.npy\t2022-12-18T17:23:44.309724.npy\n",
      "2022-12-14T23:59:55.576661.npy\t2022-12-18T18:28:08.803345.npy\n",
      "2022-12-15T00:57:06.202823.npy\t2022-12-18T19:30:52.781687.npy\n",
      "2022-12-15T01:53:52.976814.npy\t2022-12-18T20:32:13.574026.npy\n",
      "2022-12-15T02:52:04.886758.npy\t2022-12-18T21:39:25.644232.npy\n",
      "2022-12-15T03:49:02.731591.npy\t2022-12-18T22:45:50.089944.npy\n",
      "2022-12-15T04:46:50.048788.npy\t2022-12-18T23:49:43.659018.npy\n",
      "2022-12-15T05:45:16.682957.npy\t2022-12-19T00:53:58.091847.npy\n",
      "2022-12-15T06:42:12.236002.npy\t2022-12-19T01:57:04.058352.npy\n",
      "2022-12-15T07:39:12.202351.npy\t2022-12-19T03:01:30.918333.npy\n",
      "2022-12-15T08:36:53.096518.npy\t2022-12-19T04:06:47.529302.npy\n",
      "2022-12-15T09:36:20.847138.npy\t2022-12-19T05:11:03.554540.npy\n",
      "2022-12-15T10:33:41.019560.npy\t2022-12-19T06:18:26.679000.npy\n",
      "2022-12-15T11:33:41.501572.npy\t2022-12-19T06:22:49.890795.npy\n",
      "2022-12-15T12:34:52.365573.npy\n"
     ]
    }
   ],
   "source": [
    "! ls /home/ma/e/eberhardinger/workspaces/ec/dreamcoder/domains/perfect-maze-minigrid/collected_data/"
   ]
  },
  {
   "cell_type": "code",
   "execution_count": 12,
   "id": "00298175-2c0f-4b58-8278-e981be7f7d11",
   "metadata": {},
   "outputs": [
    {
     "name": "stdout",
     "output_type": "stream",
     "text": [
      "(1163, 6)\n",
      "loaded checkpoint from /home/ma/e/eberhardinger/workspaces/T5-experimens/flip-data/checkpoint-2000 and grammar from /home/ma/e/eberhardinger/workspaces/T5-experimens/flip-data/results.pkl after sequence length of 59\n"
     ]
    }
   ],
   "source": [
    "run_name = 'flip-data'\n",
    "no_spaces = True\n",
    "compress = False\n",
    "output_dir = f'/home/ma/e/eberhardinger/workspaces/T5-experimens/{run_name}/'\n",
    "data_file = \"/home/ma/e/eberhardinger/workspaces/ec/dreamcoder/domains/perfect-maze-minigrid/collected_data/2022-12-10T15:32:12.354349.npy\"\n",
    "data = np.load(data_file, allow_pickle=True)\n",
    "parsed_data = parseData(data)\n",
    "\n",
    "# we need to call this one time, as otherwise we get parsing errors\n",
    "grammar = Grammar.uniform(basePrimitives())\n",
    "checkpoint_dir = get_latest_checkpoint_path(output_dir)\n",
    "model = T5ForConditionalGeneration.from_pretrained(checkpoint_dir).to('cuda')\n",
    "tokenizer = RobertaTokenizer.from_pretrained(checkpoint_dir)\n",
    "collator = LookupTableCollator(tokenizer)\n",
    "grammar_file = os.path.join(output_dir, 'results.pkl')\n",
    "with open(grammar_file, 'rb') as handle:\n",
    "    result = dill.load(handle)\n",
    "grammar = [g['grammar'] for g in result.values()][-1]\n",
    "key = list(result.keys())[-1]\n",
    "print(f'loaded checkpoint from {checkpoint_dir} and grammar from {grammar_file} after sequence length of {key}')"
   ]
  },
  {
   "cell_type": "code",
   "execution_count": 31,
   "id": "90f0cb2a-27bd-408d-b099-942bf829e88f",
   "metadata": {},
   "outputs": [],
   "source": [
    "def makeCompleteSequenceTasks(data):\n",
    "    keys = data.groups.keys()\n",
    "    print('keys:', len(keys))\n",
    "    tasks = []\n",
    "    for key in keys:\n",
    "        to_imitate = data.get_group(key)\n",
    "        examples = []\n",
    "        part = 0\n",
    "        for _, row in to_imitate.iterrows():\n",
    "            input_ex = (row.obs.astype(int).tolist(), int(row['obs direction'],))\n",
    "            output_ex = int(row.action)\n",
    "            examples.append((input_ex, output_ex))\n",
    "\n",
    "        tasks.append(Task(f'perfect maze {key}',\n",
    "                                 arrow(tmap, tdirection, taction), examples))\n",
    "    print(f'Created {len(tasks)} tasks')\n",
    "    return tasks\n",
    "\n",
    "def makeTasks(data, randomChunkSize=False, fixedChunkSize=5):\n",
    "    assert randomChunkSize or (not randomChunkSize and fixedChunkSize)\n",
    "    keys = data.groups.keys()\n",
    "    print('keys:', len(keys))\n",
    "    tasks = []\n",
    "    for key in keys:\n",
    "        print(key)\n",
    "        to_imitate = data.get_group(key)\n",
    "        print(to_imitate)\n",
    "        if randomChunkSize:\n",
    "            chunkSize = random.randint(5, 25)\n",
    "        else:\n",
    "            chunkSize = fixedChunkSize\n",
    "        examples = []\n",
    "        part = 0\n",
    "        for _, row in to_imitate.iterrows():\n",
    "            print(row)\n",
    "            input_ex = ((row.obs[0] * 10).astype(int).tolist(), int(row['obs direction'],))\n",
    "            output_ex = int(row.action)\n",
    "            examples.append((input_ex, output_ex))\n",
    "\n",
    "            if chunkSize > 0 and chunkSize <= len(examples):\n",
    "                # we check that the chosen actions are not all the same\n",
    "                # otherwise it is too easy to find a program if all actions/output examples are the same\n",
    "                # this results in programs such as (lambda (lambda forward-action))\n",
    "                all_chosen_actions = list(zip(*examples))[1]\n",
    "                if not all_equal(all_chosen_actions):\n",
    "                    tasks.append(Task(f'perfect maze {key} size {chunkSize} part {part}', arrow(tmap, tdirection, taction), examples))\n",
    "                    part += 1\n",
    "                    # we reset examples and add new chunkSize taskss\n",
    "                    examples = []\n",
    "                    if randomChunkSize:\n",
    "                        chunkSize = random.randint(5, 25)\n",
    "                    else:\n",
    "                        chunkSize = fixedChunkSize\n",
    "        \n",
    "        if len(examples) > 3:\n",
    "            all_chosen_actions = list(zip(*examples))[1]\n",
    "            if not all_equal(all_chosen_actions):\n",
    "                tasks.append(Task(f'perfect maze {key} size {chunkSize} part {part}', arrow(tmap, tdirection, taction), examples))\n"
   ]
  },
  {
   "cell_type": "code",
   "execution_count": 36,
   "id": "953d6983-8f73-4357-b560-2b9bd1e85b73",
   "metadata": {},
   "outputs": [
    {
     "name": "stdout",
     "output_type": "stream",
     "text": [
      "keys: 14\n",
      "Created 14 tasks\n",
      "131\n",
      "75\n",
      "73\n",
      "61\n",
      "112\n",
      "63\n",
      "145\n",
      "80\n",
      "96\n",
      "80\n",
      "50\n",
      "92\n",
      "87\n",
      "18\n"
     ]
    },
    {
     "data": {
      "text/plain": [
       "229"
      ]
     },
     "execution_count": 36,
     "metadata": {},
     "output_type": "execute_result"
    }
   ],
   "source": [
    "tasks = makeCompleteSequenceTasks(parsed_data)\n",
    "sum_l = sum([int(len(t.examples) / 5) for t in tasks])\n",
    "for t in tasks:\n",
    "    print(len(t.examples))\n",
    "sum_l"
   ]
  },
  {
   "cell_type": "code",
   "execution_count": 4,
   "id": "826b3e1c-ed67-4b7b-97cd-9af8cac37402",
   "metadata": {},
   "outputs": [
    {
     "name": "stdout",
     "output_type": "stream",
     "text": [
      "loaded checkpoint from /home/ma/e/eberhardinger/workspaces/T5-experimens/flip-data/checkpoint-1500 and grammar from /home/ma/e/eberhardinger/workspaces/T5-experimens/flip-data/results.pkl after sequence length of 25\n"
     ]
    }
   ],
   "source": [
    "with open(grammar_file, 'rb') as handle:\n",
    "    result = dill.load(handle)\n",
    "grammar = [g['grammar'] for g in result.values()][-1]\n",
    "key = list(result.keys())[-1]\n",
    "print(f'loaded checkpoint from {checkpoint_dir} and grammar from {grammar_file} after sequence length of {key}')"
   ]
  },
  {
   "cell_type": "code",
   "execution_count": 4,
   "id": "038a1be2-afc1-4630-909d-468498cf9f88",
   "metadata": {},
   "outputs": [],
   "source": [
    "def make_task_dict(data, last_key):\n",
    "    keys = data.groups.keys()\n",
    "    print('keys:', len(keys))\n",
    "    tasks = {}\n",
    "    \n",
    "    for chunkSize in range(3, int(last_key)+1):\n",
    "        for key in keys:\n",
    "            to_imitate = data.get_group(key)\n",
    "            examples = []\n",
    "            part = 0\n",
    "            for _, row in to_imitate.iterrows():\n",
    "                input_ex = (row.obs.astype(int).tolist(), int(row['obs direction'],))\n",
    "                output_ex = int(row.action)\n",
    "                examples.append((input_ex, output_ex))\n",
    "\n",
    "                if chunkSize <= len(examples):\n",
    "                    # we check that the chosen actions are not all the same\n",
    "                    # otherwise it is too easy to find a program if all actions/output examples are the same\n",
    "                    # this results in programs such as (lambda (lambda forward-action))\n",
    "                    all_chosen_actions = list(zip(*examples))[1]\n",
    "                    if not all_equal(all_chosen_actions):\n",
    "                        task_name = f'perfect maze {key} size {chunkSize} part {part}'\n",
    "                        tasks[task_name] = Task(task_name,\n",
    "                                     arrow(tmap, tdirection, taction), examples)\n",
    "                        part += 1\n",
    "                        # we reset examples and add new chunkSize taskss\n",
    "                        examples = []\n",
    "                \n",
    "            if len(examples) > 3:\n",
    "                all_chosen_actions = list(zip(*examples))[1]\n",
    "                if not all_equal(all_chosen_actions):\n",
    "                        task_name = f'perfect maze {key} size {chunkSize} part {part}'\n",
    "                        tasks[task_name] = Task(task_name,\n",
    "                                     arrow(tmap, tdirection, taction), examples)\n",
    "\n",
    "    return tasks\n",
    "\n",
    "\n",
    "def create_dataset(solved_tasks, all_tasks, with_tasks=False, no_spaces=False, compress=False):\n",
    "    dataset = []\n",
    "    for task_name, program in solved_tasks:\n",
    "        task = all_tasks.get(task_name)\n",
    "        if task is None:\n",
    "            print(f'{task_name} not found')\n",
    "            continue\n",
    "            \n",
    "        inp_prompt = get_inp_prompt(task, no_spaces, compress)\n",
    "\n",
    "        if with_tasks:\n",
    "            dataset.append((inp_prompt, program, task))\n",
    "        else:\n",
    "            dataset.append((inp_prompt, program))\n",
    "\n",
    "    return dataset\n",
    "\n",
    "\n",
    "def generate_samples_with_temp(txt, n_samples, temp):\n",
    "    to_tokenizer = [txt for i in range(n_samples)]\n",
    "    outputs = model.generate(tokenizer(to_tokenizer, return_tensors='pt', padding=True).input_ids.to(\n",
    "        'cuda'), do_sample=True, max_length=128, temperature=temp)\n",
    "    results = tokenizer.batch_decode(outputs, skip_special_tokens=True)\n",
    "    return results\n",
    "\n",
    "def test_programs_on_task(task, grammar, n=5, temp=1.0, verbose=False):\n",
    "    progs = generate_samples_with_temp(task[0], n, temp)\n",
    "    found_progs = []\n",
    "    for i, prog in enumerate(progs):\n",
    "        if verbose:\n",
    "            eprint(prog)\n",
    "        log_prior = run_on_input_examples(task[1], prog, grammar, verbose=verbose)\n",
    "        if log_prior is not None:\n",
    "            found_progs.append((Program.parse(prog), log_prior))\n",
    "\n",
    "    if len(found_progs) == 0:\n",
    "        return None, -1\n",
    "\n",
    "    found_progs.sort(key=lambda x: x[1], reverse=True)\n",
    "\n",
    "    best = found_progs[0]\n",
    "    return best[0], best[1]\n",
    "\n",
    "def check_test_tasks(testTasks, grammar, n_sampling=100, verbose=False):\n",
    "    stats = []\n",
    "    solved = 0\n",
    "    processed = 0\n",
    "    for tt in (pbar := tqdm(testTasks)):\n",
    "        p, n = test_programs_on_task(tt, grammar, n=n_sampling, verbose=verbose)\n",
    "        stats.append((p, tt))\n",
    "        processed += 1\n",
    "        if p is not None:\n",
    "            solved += 1\n",
    "        pbar.set_description(f\"Rate {solved}/{processed}\")\n",
    "    return stats"
   ]
  },
  {
   "cell_type": "code",
   "execution_count": 10,
   "id": "ac1e6c55-4e4a-417c-9bbb-6866e67b1848",
   "metadata": {
    "tags": []
   },
   "outputs": [
    {
     "name": "stdout",
     "output_type": "stream",
     "text": [
      "keys: 14\n"
     ]
    }
   ],
   "source": [
    "solved_tasks = np.load(os.path.join(output_dir, 'all_solved_tasks.npy'))\n",
    "all_tasks = make_task_dict(parsed_data, key)\n",
    "dataset = create_dataset(solved_tasks, all_tasks, no_spaces=no_spaces, compress=compress)"
   ]
  },
  {
   "cell_type": "code",
   "execution_count": 11,
   "id": "ed984d1d-d8a7-4a4b-bff5-b77bb3880dfb",
   "metadata": {},
   "outputs": [
    {
     "data": {
      "text/plain": [
       "4022"
      ]
     },
     "execution_count": 11,
     "metadata": {},
     "output_type": "execute_result"
    }
   ],
   "source": [
    "len(dataset)"
   ]
  },
  {
   "cell_type": "code",
   "execution_count": 13,
   "id": "66f64550-e778-4106-bd09-361b6c99de32",
   "metadata": {},
   "outputs": [
    {
     "name": "stderr",
     "output_type": "stream",
     "text": [
      "PyTorch: setting up devices\n",
      "/opt/miniconda3/envs/jupyter/lib/python3.9/site-packages/transformers/optimization.py:306: FutureWarning: This implementation of AdamW is deprecated and will be removed in a future version. Use the PyTorch implementation torch.optim.AdamW instead, or set `no_deprecation_warning=True` to disable this warning\n",
      "  warnings.warn(\n",
      "***** Running training *****\n",
      "  Num examples = 4022\n",
      "  Num Epochs = 10\n",
      "  Instantaneous batch size per device = 12\n",
      "  Total train batch size (w. parallel, distributed & accumulation) = 120\n",
      "  Gradient Accumulation steps = 10\n",
      "  Total optimization steps = 330\n",
      "  Number of trainable parameters = 60492288\n",
      "Automatic Weights & Biases logging enabled, to disable set os.environ[\"WANDB_DISABLED\"] = \"true\"\n"
     ]
    },
    {
     "data": {
      "text/html": [
       "\n",
       "    <div>\n",
       "      \n",
       "      <progress value='330' max='330' style='width:300px; height:20px; vertical-align: middle;'></progress>\n",
       "      [330/330 10:03, Epoch 9/10]\n",
       "    </div>\n",
       "    <table border=\"1\" class=\"dataframe\">\n",
       "  <thead>\n",
       " <tr style=\"text-align: left;\">\n",
       "      <th>Step</th>\n",
       "      <th>Training Loss</th>\n",
       "    </tr>\n",
       "  </thead>\n",
       "  <tbody>\n",
       "  </tbody>\n",
       "</table><p>"
      ],
      "text/plain": [
       "<IPython.core.display.HTML object>"
      ]
     },
     "metadata": {},
     "output_type": "display_data"
    },
    {
     "name": "stderr",
     "output_type": "stream",
     "text": [
      "\n",
      "\n",
      "Training completed. Do not forget to share your model on huggingface.co/models =)\n",
      "\n",
      "\n"
     ]
    },
    {
     "data": {
      "text/plain": [
       "TrainOutput(global_step=330, training_loss=0.0714226347027403, metrics={'train_runtime': 605.2014, 'train_samples_per_second': 66.457, 'train_steps_per_second': 0.545, 'total_flos': 5435056063512576.0, 'train_loss': 0.0714226347027403, 'epoch': 9.98})"
      ]
     },
     "execution_count": 13,
     "metadata": {},
     "output_type": "execute_result"
    }
   ],
   "source": [
    "finetune_dir = f'{output_dir}finetuning'\n",
    "os.makedirs(finetune_dir, exist_ok=True)\n",
    "training_args = TrainingArguments(per_device_train_batch_size=12,\n",
    "                                  gradient_accumulation_steps=10,\n",
    "                                  save_steps=500,\n",
    "                                  save_total_limit=3,\n",
    "                                  num_train_epochs=10,\n",
    "                                  output_dir=finetune_dir,\n",
    "                                  report_to='wandb',\n",
    "                                  run_name=f'finetune-{run_name}')\n",
    "\n",
    "dataset = FactoringDataset(dataset)\n",
    "trainer = Seq2SeqTrainer(model=model, args=training_args, train_dataset=dataset,\n",
    "                         tokenizer=tokenizer, compute_metrics=None, data_collator=collator)\n",
    "trainer.train()"
   ]
  },
  {
   "cell_type": "code",
   "execution_count": 5,
   "id": "e5fe8b0f-1e3f-4245-bf6d-8ebe4285b44c",
   "metadata": {},
   "outputs": [],
   "source": [
    "def makeTasks(data, chunkSize):\n",
    "    keys = data.groups.keys()\n",
    "    print('keys:', len(keys))\n",
    "    tasks = []\n",
    "    for key in keys:\n",
    "        to_imitate = data.get_group(key)\n",
    "        examples = []\n",
    "        part = 0\n",
    "        for _, row in to_imitate.iterrows():\n",
    "            input_ex = (row.obs.astype(int).tolist(), int(row['obs direction'],))\n",
    "            output_ex = int(row.action)\n",
    "            examples.append((input_ex, output_ex))\n",
    "            if chunkSize > 0 and chunkSize <= len(examples):\n",
    "                # we check that the chosen actions are not all the same\n",
    "                # otherwise it is too easy to find a program if all actions/output examples are the same\n",
    "                # this results in programs such as (lambda (lambda forward-action))\n",
    "                all_chosen_actions = list(zip(*examples))[1]\n",
    "                if not all_equal(all_chosen_actions):\n",
    "                    tasks.append(Task(f'perfect maze {key} size {chunkSize} part {part}',\n",
    "                                 arrow(tmap, tdirection, taction), examples))\n",
    "                    part += 1\n",
    "                    # we reset examples and add new chunkSize taskss\n",
    "                    examples = []\n",
    "\n",
    "    print(f'Created {len(tasks)} tasks with {chunkSize} chunk size')\n",
    "    return tasks"
   ]
  },
  {
   "cell_type": "code",
   "execution_count": null,
   "id": "2707db8c-be93-40b5-853d-1f4798c54085",
   "metadata": {},
   "outputs": [
    {
     "name": "stdout",
     "output_type": "stream",
     "text": [
      "(1721, 6)\n",
      "keys: 18\n",
      "Created 34 tasks with 39 chunk size\n"
     ]
    },
    {
     "name": "stderr",
     "output_type": "stream",
     "text": [
      "Rate 0/34: 100%|██████████| 34/34 [04:32<00:00,  8.03s/it]\n"
     ]
    },
    {
     "name": "stdout",
     "output_type": "stream",
     "text": [
      "0/34 -> 0.0%\n",
      "keys: 18\n",
      "Created 34 tasks with 38 chunk size\n"
     ]
    },
    {
     "name": "stderr",
     "output_type": "stream",
     "text": [
      "Rate 0/34: 100%|██████████| 34/34 [04:32<00:00,  8.02s/it]\n"
     ]
    },
    {
     "name": "stdout",
     "output_type": "stream",
     "text": [
      "0/34 -> 0.0%\n",
      "keys: 18\n",
      "Created 36 tasks with 37 chunk size\n"
     ]
    },
    {
     "name": "stderr",
     "output_type": "stream",
     "text": [
      "Rate 0/36: 100%|██████████| 36/36 [04:42<00:00,  7.83s/it]\n"
     ]
    },
    {
     "name": "stdout",
     "output_type": "stream",
     "text": [
      "0/36 -> 0.0%\n",
      "keys: 18\n",
      "Created 39 tasks with 36 chunk size\n"
     ]
    },
    {
     "name": "stderr",
     "output_type": "stream",
     "text": [
      "Rate 0/39: 100%|██████████| 39/39 [04:59<00:00,  7.67s/it]\n"
     ]
    },
    {
     "name": "stdout",
     "output_type": "stream",
     "text": [
      "0/39 -> 0.0%\n",
      "keys: 18\n",
      "Created 41 tasks with 35 chunk size\n"
     ]
    },
    {
     "name": "stderr",
     "output_type": "stream",
     "text": [
      "Rate 0/41: 100%|██████████| 41/41 [05:16<00:00,  7.71s/it]\n"
     ]
    },
    {
     "name": "stdout",
     "output_type": "stream",
     "text": [
      "0/41 -> 0.0%\n",
      "keys: 18\n",
      "Created 42 tasks with 34 chunk size\n"
     ]
    },
    {
     "name": "stderr",
     "output_type": "stream",
     "text": [
      "Rate 0/42: 100%|██████████| 42/42 [05:11<00:00,  7.41s/it]\n"
     ]
    },
    {
     "name": "stdout",
     "output_type": "stream",
     "text": [
      "0/42 -> 0.0%\n",
      "keys: 18\n",
      "Created 45 tasks with 33 chunk size\n"
     ]
    },
    {
     "name": "stderr",
     "output_type": "stream",
     "text": [
      "Rate 0/45: 100%|██████████| 45/45 [05:37<00:00,  7.49s/it]\n"
     ]
    },
    {
     "name": "stdout",
     "output_type": "stream",
     "text": [
      "0/45 -> 0.0%\n",
      "keys: 18\n",
      "Created 47 tasks with 32 chunk size\n"
     ]
    },
    {
     "name": "stderr",
     "output_type": "stream",
     "text": [
      "Rate 0/47: 100%|██████████| 47/47 [05:40<00:00,  7.24s/it]\n"
     ]
    },
    {
     "name": "stdout",
     "output_type": "stream",
     "text": [
      "0/47 -> 0.0%\n",
      "keys: 18\n",
      "Created 47 tasks with 31 chunk size\n"
     ]
    },
    {
     "name": "stderr",
     "output_type": "stream",
     "text": [
      "Rate 0/47: 100%|██████████| 47/47 [05:45<00:00,  7.36s/it]\n"
     ]
    },
    {
     "name": "stdout",
     "output_type": "stream",
     "text": [
      "0/47 -> 0.0%\n",
      "keys: 18\n",
      "Created 48 tasks with 30 chunk size\n"
     ]
    },
    {
     "name": "stderr",
     "output_type": "stream",
     "text": [
      "Rate 0/48: 100%|██████████| 48/48 [05:48<00:00,  7.25s/it]\n"
     ]
    },
    {
     "name": "stdout",
     "output_type": "stream",
     "text": [
      "0/48 -> 0.0%\n",
      "keys: 18\n",
      "Created 51 tasks with 29 chunk size\n"
     ]
    },
    {
     "name": "stderr",
     "output_type": "stream",
     "text": [
      "Rate 1/51: 100%|██████████| 51/51 [06:09<00:00,  7.24s/it]\n",
      "/tmp/ipykernel_2217571/3109099845.py:18: VisibleDeprecationWarning: Creating an ndarray from ragged nested sequences (which is a list-or-tuple of lists-or-tuples-or ndarrays with different lengths or shapes) is deprecated. If you meant to do this, you must specify 'dtype=object' when creating the ndarray.\n",
      "  np.save(os.path.join(finetune_dir, 'all_solved_tasks_10epochs.npy'), np.array(solved_tasks))\n"
     ]
    },
    {
     "name": "stdout",
     "output_type": "stream",
     "text": [
      "1/51 -> 1.9607843137254901%\n",
      "keys: 18\n",
      "Created 52 tasks with 28 chunk size\n"
     ]
    },
    {
     "name": "stderr",
     "output_type": "stream",
     "text": [
      "Rate 0/52: 100%|██████████| 52/52 [06:10<00:00,  7.13s/it]\n"
     ]
    },
    {
     "name": "stdout",
     "output_type": "stream",
     "text": [
      "0/52 -> 0.0%\n",
      "keys: 18\n",
      "Created 54 tasks with 27 chunk size\n"
     ]
    },
    {
     "name": "stderr",
     "output_type": "stream",
     "text": [
      "Rate 1/54: 100%|██████████| 54/54 [06:20<00:00,  7.04s/it]\n"
     ]
    },
    {
     "name": "stdout",
     "output_type": "stream",
     "text": [
      "1/54 -> 1.8518518518518516%\n",
      "keys: 18\n",
      "Created 60 tasks with 26 chunk size\n"
     ]
    },
    {
     "name": "stderr",
     "output_type": "stream",
     "text": [
      "Rate 1/60: 100%|██████████| 60/60 [06:57<00:00,  6.95s/it]\n"
     ]
    },
    {
     "name": "stdout",
     "output_type": "stream",
     "text": [
      "1/60 -> 1.6666666666666667%\n",
      "keys: 18\n",
      "Created 61 tasks with 25 chunk size\n"
     ]
    },
    {
     "name": "stderr",
     "output_type": "stream",
     "text": [
      "Rate 1/61: 100%|██████████| 61/61 [06:58<00:00,  6.86s/it]\n"
     ]
    },
    {
     "name": "stdout",
     "output_type": "stream",
     "text": [
      "1/61 -> 1.639344262295082%\n",
      "keys: 18\n",
      "Created 63 tasks with 24 chunk size\n"
     ]
    },
    {
     "name": "stderr",
     "output_type": "stream",
     "text": [
      "Rate 1/63: 100%|██████████| 63/63 [07:11<00:00,  6.85s/it]\n"
     ]
    },
    {
     "name": "stdout",
     "output_type": "stream",
     "text": [
      "1/63 -> 1.5873015873015872%\n",
      "keys: 18\n",
      "Created 63 tasks with 23 chunk size\n"
     ]
    },
    {
     "name": "stderr",
     "output_type": "stream",
     "text": [
      "Rate 2/63: 100%|██████████| 63/63 [07:10<00:00,  6.83s/it]\n"
     ]
    },
    {
     "name": "stdout",
     "output_type": "stream",
     "text": [
      "2/63 -> 3.1746031746031744%\n",
      "keys: 18\n",
      "Created 70 tasks with 22 chunk size\n"
     ]
    },
    {
     "name": "stderr",
     "output_type": "stream",
     "text": [
      "Rate 2/70: 100%|██████████| 70/70 [07:47<00:00,  6.68s/it]\n"
     ]
    },
    {
     "name": "stdout",
     "output_type": "stream",
     "text": [
      "2/70 -> 2.857142857142857%\n",
      "keys: 18\n",
      "Created 76 tasks with 21 chunk size\n"
     ]
    },
    {
     "name": "stderr",
     "output_type": "stream",
     "text": [
      "Rate 12/100: 100%|██████████| 100/100 [10:26<00:00,  6.26s/it]\n"
     ]
    },
    {
     "name": "stdout",
     "output_type": "stream",
     "text": [
      "12/100 -> 12.0%\n",
      "keys: 18\n",
      "Created 106 tasks with 15 chunk size\n"
     ]
    },
    {
     "name": "stderr",
     "output_type": "stream",
     "text": [
      "Rate 15/100: 100%|██████████| 100/100 [10:30<00:00,  6.30s/it]\n"
     ]
    },
    {
     "name": "stdout",
     "output_type": "stream",
     "text": [
      "15/100 -> 15.0%\n",
      "keys: 18\n",
      "Created 114 tasks with 14 chunk size\n"
     ]
    },
    {
     "name": "stderr",
     "output_type": "stream",
     "text": [
      "Rate 19/100: 100%|██████████| 100/100 [10:22<00:00,  6.23s/it]\n"
     ]
    },
    {
     "name": "stdout",
     "output_type": "stream",
     "text": [
      "19/100 -> 19.0%\n",
      "keys: 18\n",
      "Created 125 tasks with 13 chunk size\n"
     ]
    },
    {
     "name": "stderr",
     "output_type": "stream",
     "text": [
      "Rate 21/100: 100%|██████████| 100/100 [10:18<00:00,  6.19s/it]\n"
     ]
    },
    {
     "name": "stdout",
     "output_type": "stream",
     "text": [
      "21/100 -> 21.0%\n",
      "keys: 18\n",
      "Created 135 tasks with 12 chunk size\n"
     ]
    },
    {
     "name": "stderr",
     "output_type": "stream",
     "text": [
      "Rate 11/71:  71%|███████   | 71/100 [07:12<03:07,  6.48s/it]#(lambda (lambda (#(lambda (if $0 left-action forward-action)) (eq-obj? (get $1 2 1) $0)))) Not in candidates\n",
      "Candidates is {#(lambda (lambda (#(lambda (#(lambda (if $0 left-action forward-action)) (eq-obj? wall-obj $0))) (get $0 $1 1)))): (-0.4274440148269396, int -> array(array(tobj)) -> taction, Context(next = 0, {})), #(lambda (lambda (#(lambda (lambda (lambda (#(lambda (lambda (#(lambda (if $0 left-action forward-action)) (eq-obj? (#(lambda (get $0 2 1)) $1) $0)))) $2 (get $0 $1 4))))) $0 1 $1))): (-0.4274440148269396, array(array(tobj)) -> array(array(tobj)) -> taction, Context(next = 0, {})), #(lambda (#(lambda (if (not (eq-obj? wall-obj ($0 #(lambda (get $0 2 1))))) forward-action left-action)) (lambda (get $1 2 1)))): (-0.4274440148269396, array(array(tobj)) -> taction, Context(next = 0, {})), #(lambda (#(lambda (lambda (#(lambda (lambda (if (not (eq-obj? $0 $1)) forward-action left-action))) (#(lambda (get $0 2 1)) $1) $0))) $0 wall-obj)): (-0.4274440148269396, array(array(tobj)) -> taction, Context(next = 0, {})), #(lambda (lambda (#(lambda (lambda (if (not (eq-obj? $0 $1)) forward-action left-action))) (#(lambda (get $0 2 1)) $1) $0))): (-0.4274440148269396, array(array(tobj)) -> tobj -> taction, Context(next = 0, {})), #(#(lambda (lambda (if (not (eq-obj? $1 (#(lambda (get $0 2 1)) $0))) forward-action left-action))) wall-obj): (-0.4274440148269396, array(array(tobj)) -> taction, Context(next = 0, {})), #(lambda (lambda (if (not (eq-obj? $1 (#(lambda (get $0 2 1)) $0))) forward-action left-action))): (-0.4274440148269396, tobj -> array(array(tobj)) -> taction, Context(next = 0, {})), #(lambda (lambda (#(lambda (lambda (if (not (eq-obj? $0 $1)) forward-action left-action))) (get $0 $1 1) wall-obj))): (-0.4274440148269396, int -> array(array(tobj)) -> taction, Context(next = 0, {})), #(lambda (lambda (#(lambda (#(lambda (if $0 forward-action left-action)) (eq-obj? $0 empty-obj))) (get $0 2 $1)))): (-0.4274440148269396, int -> array(array(tobj)) -> taction, Context(next = 0, {})), #(lambda (#(lambda (lambda (#(lambda (if $0 left-action forward-action)) (eq-obj? wall-obj (get $0 2 $1))))) 1 (if (#(lambda (eq-obj? (#(lambda (get $0 2 1)) $0) empty-obj)) $0) $0 $0))): (-0.4274440148269396, array(array(tobj)) -> taction, Context(next = 0, {})), #(lambda (#(lambda (lambda (#(lambda (#(lambda (if $0 left-action forward-action)) (eq-obj? wall-obj $0))) (get $1 2 $0)))) $0 1)): (-0.4274440148269396, array(array(tobj)) -> taction, Context(next = 0, {})), #(lambda (#(lambda (lambda (lambda (#(lambda (lambda (#(lambda (if $0 left-action forward-action)) (eq-obj? (#(lambda (get $0 2 1)) $1) $0)))) $2 (get $0 $1 4))))) $0 3)): (-0.4274440148269396, array(array(tobj)) -> array(array(tobj)) -> taction, Context(next = 0, {})), #(lambda (lambda (#(lambda (#(lambda (lambda (if (not (eq-obj? $0 $1)) forward-action left-action))) $0 wall-obj)) (get $0 2 $1)))): (-0.4274440148269396, int -> array(array(tobj)) -> taction, Context(next = 0, {})), #(lambda (lambda (#(lambda (#(lambda (if $0 left-action forward-action)) (eq-obj? wall-obj $0))) (get $1 2 $0)))): (-0.4274440148269396, array(array(tobj)) -> int -> taction, Context(next = 0, {})), #(lambda (#(lambda (if $0 left-action forward-action)) (not ($0 #(lambda (eq-obj? (#(lambda (get $0 2 1)) $0) empty-obj)))))): (-0.4274440148269396, ((array(array(tobj)) -> bool) -> bool) -> taction, Context(next = 0, {})), #(lambda (#(lambda (lambda (#(lambda (if $0 left-action forward-action)) (eq-obj? (#(lambda (get $0 2 1)) $1) $0)))) $0 (get $0 1 4))): (-0.4274440148269396, array(array(tobj)) -> taction, Context(next = 0, {})), #(lambda (lambda (if (eq-obj? (get $1 $0 1) empty-obj) forward-action left-action))): (-0.4274440148269396, array(array(tobj)) -> int -> taction, Context(next = 0, {})), #(lambda (if (not (eq-obj? (#(lambda (get $0 2 1)) $0) empty-obj)) left-action forward-action)): (-0.4274440148269396, array(array(tobj)) -> taction, Context(next = 0, {})), #(lambda (#(lambda (lambda (lambda (#(lambda (lambda (#(lambda (if $0 left-action forward-action)) (eq-obj? (#(lambda (get $0 2 1)) $1) $0)))) $2 (get $0 $1 4))))) $0 1 $0)): (-0.4274440148269396, array(array(tobj)) -> taction, Context(next = 0, {})), #(lambda (lambda (if (eq-obj? (get $1 2 1) $0) forward-action left-action))): (-0.4274440148269396, array(array(tobj)) -> tobj -> taction, Context(next = 0, {})), #(lambda (#(lambda (lambda (if (not (eq-obj? $0 (#(lambda (get $0 2 1)) $1))) forward-action left-action))) $0 wall-obj)): (-0.4274440148269396, array(array(tobj)) -> taction, Context(next = 0, {})), #(lambda (lambda (if (not (eq-obj? $0 (#(lambda (get $0 2 1)) $1))) forward-action left-action))): (-0.3946541920039488, array(array(tobj)) -> tobj -> taction, Context(next = 0, {})), #(lambda (#(lambda (lambda (if (eq-obj? (get $1 2 $0) empty-obj) forward-action left-action))) $0 1)): (-0.4274440148269396, array(array(tobj)) -> taction, Context(next = 0, {})), #(lambda (#(lambda (#(lambda (lambda (if (not (eq-obj? $0 $1)) forward-action left-action))) ($0 (lambda (#(lambda (get $0 2 1)) $0))) wall-obj)) (lambda (get $1 2 1)))): (-0.4274440148269396, array(array(tobj)) -> taction, Context(next = 0, {})), #(lambda (if (not (eq-obj? wall-obj ($0 #(lambda (get $0 2 1))))) forward-action left-action)): (-0.3946541920039488, ((array(array(tobj)) -> tobj) -> tobj) -> taction, Context(next = 0, {})), #(lambda (#(lambda (lambda (if (eq-obj? (#(lambda (get $0 2 1)) $1) $0) forward-action left-action))) $0 empty-obj)): (-0.4274440148269396, array(array(tobj)) -> taction, Context(next = 0, {})), #(lambda (lambda (if (eq-obj? (#(lambda (get $0 2 1)) $1) $0) forward-action left-action))): (-0.4274440148269396, array(array(tobj)) -> tobj -> taction, Context(next = 0, {})), #(lambda (#(lambda (lambda (lambda (#(lambda (lambda (#(lambda (if $0 left-action forward-action)) (eq-obj? (#(lambda (get $0 2 1)) $1) $0)))) $2 (get $0 $1 4))))) $0 1)): (-0.4274440148269396, array(array(tobj)) -> array(array(tobj)) -> taction, Context(next = 0, {})), #(lambda (#(lambda (lambda (lambda (#(lambda (lambda (#(lambda (if $0 left-action forward-action)) (eq-obj? (#(lambda (get $0 2 1)) $1) $0)))) $2 (get $0 $1 4))))) $0 3 $0)): (-0.4274440148269396, array(array(tobj)) -> taction, Context(next = 0, {})), #(lambda (lambda (#(lambda (lambda (if (not (eq-obj? $0 $1)) forward-action left-action))) (get $1 2 1) $0))): (-0.4274440148269396, array(array(tobj)) -> tobj -> taction, Context(next = 0, {})), #(lambda (lambda (if (eq-obj? (get $1 2 $0) empty-obj) forward-action left-action))): (-0.4274440148269396, array(array(tobj)) -> int -> taction, Context(next = 0, {})), #(lambda (#(lambda (lambda (if (not (eq-obj? $0 $1)) forward-action left-action))) (#(lambda (get $0 2 1)) $0) (get $0 1 4))): (-0.4274440148269396, array(array(tobj)) -> taction, Context(next = 0, {})), #(lambda (lambda (lambda (#(lambda (lambda (#(lambda (if $0 left-action forward-action)) (eq-obj? (#(lambda (get $0 2 1)) $1) $0)))) $2 (get $0 $1 4))))): (-0.3022808718729335, array(array(tobj)) -> int -> array(array(tobj)) -> taction, Context(next = 0, {})), #(lambda (#(lambda (lambda (if (not (eq-obj? $0 $1)) forward-action left-action))) (get $0 2 1) wall-obj)): (-0.4274440148269396, array(array(tobj)) -> taction, Context(next = 0, {})), #(lambda (lambda (#(lambda (lambda (lambda (#(lambda (lambda (if (not (eq-obj? $0 $1)) forward-action left-action))) (#(lambda (get $0 2 1)) $2) (get $2 $0 $1))))) $0 $1 1))): (-0.4274440148269396, int -> array(array(tobj)) -> taction, Context(next = 0, {})), #(lambda (#(lambda (lambda (if (not (eq-obj? $0 $1)) forward-action left-action))) ($0 (lambda (#(lambda (get $0 2 1)) $0))) wall-obj)): (-0.4274440148269396, ((array(array(tobj)) -> tobj) -> tobj) -> taction, Context(next = 0, {})), #(lambda (#(lambda (lambda (if (not (eq-obj? (get $1 2 $0) wall-obj)) forward-action left-action))) (if (#(lambda (eq-obj? (#(lambda (get $0 2 1)) $0) empty-obj)) $0) $0 $0) 1)): (-0.4274440148269396, array(array(tobj)) -> taction, Context(next = 0, {})), #(lambda (#(lambda (if (not $0) left-action forward-action)) (#(lambda (eq-obj? (#(lambda (get $0 2 1)) $0) empty-obj)) $0))): (-0.4274440148269396, array(array(tobj)) -> taction, Context(next = 0, {})), #(lambda (#(lambda (if (eq-obj? $0 empty-obj) forward-action left-action)) (get $0 2 1))): (-0.4274440148269396, array(array(tobj)) -> taction, Context(next = 0, {})), #(lambda (if (not $0) left-action forward-action)): (-0.4274440148269396, bool -> taction, Context(next = 0, {})), #(lambda (if (eq-obj? $0 empty-obj) forward-action left-action)): (-0.3946541920039488, tobj -> taction, Context(next = 0, {})), #(lambda (lambda (#(lambda (lambda (if (not (eq-obj? $0 $1)) forward-action left-action))) (#(lambda (get $0 2 1)) $1) (get $1 3 $0)))): (-0.4274440148269396, array(array(tobj)) -> int -> taction, Context(next = 0, {})), #(lambda (#(lambda (if $0 forward-action left-action)) (or (#(lambda (eq-obj? (#(lambda (get $0 2 1)) $0) empty-obj)) $0) (#(lambda (eq-obj? (#(lambda (get $0 2 1)) $0) empty-obj)) $0)))): (-0.4274440148269396, array(array(tobj)) -> taction, Context(next = 0, {})), #(lambda (#(lambda (lambda (#(lambda (if $0 left-action forward-action)) (eq-obj? (#(lambda (get $0 2 1)) $1) $0)))) $0 (if (#(lambda (eq-obj? (#(lambda (get $0 2 1)) $0) empty-obj)) $0) goal-obj wall-obj))): (-0.4274440148269396, array(array(tobj)) -> taction, Context(next = 0, {})), #(lambda (lambda (#(lambda (if $0 left-action forward-action)) (eq-obj? (#(lambda (get $0 2 1)) (if $0 $1 $1)) wall-obj)))): (-0.4274440148269396, array(array(tobj)) -> bool -> taction, Context(next = 0, {})), #(lambda (lambda (#(lambda (lambda (if (not (eq-obj? (get $1 2 $0) wall-obj)) forward-action left-action))) (if $1 $0 $0) 1))): (-0.4274440148269396, bool -> array(array(tobj)) -> taction, Context(next = 0, {})), #(#(lambda (lambda (#(lambda (if $0 left-action forward-action)) (eq-obj? wall-obj (get $0 2 $1))))) 1): (-0.4274440148269396, array(array(tobj)) -> taction, Context(next = 0, {})), #(lambda (#(lambda (lambda (lambda (#(lambda (lambda (if (not (eq-obj? $0 $1)) forward-action left-action))) (#(lambda (get $0 2 1)) $2) (get $2 $0 $1))))) $0 1 0)): (-0.4274440148269396, array(array(tobj)) -> taction, Context(next = 0, {})), #(lambda (lambda (#(lambda (lambda (lambda (#(lambda (lambda (if (not (eq-obj? $0 $1)) forward-action left-action))) (#(lambda (get $0 2 1)) $2) (get $2 $0 $1))))) $1 $0 1))): (-0.4274440148269396, array(array(tobj)) -> int -> taction, Context(next = 0, {})), #(lambda (#(lambda (lambda (#(lambda (#(lambda (if $0 forward-action left-action)) (eq-obj? $0 empty-obj))) (get $1 2 $0)))) $0 1)): (-0.4274440148269396, array(array(tobj)) -> taction, Context(next = 0, {})), #(lambda (lambda (#(lambda (lambda (if (not (eq-obj? $0 $1)) forward-action left-action))) (#(lambda (get $0 2 1)) $0) (get $0 3 $1)))): (-0.4274440148269396, int -> array(array(tobj)) -> taction, Context(next = 0, {})), #(lambda (lambda (#(lambda (if $0 left-action forward-action)) (eq-obj? (#(lambda (get $0 2 1)) $0) (get $0 $1 4))))): (-0.4274440148269396, int -> array(array(tobj)) -> taction, Context(next = 0, {})), #(lambda (#(lambda (lambda (if (not (eq-obj? $0 $1)) forward-action left-action))) ($0 #(lambda (get $0 2 1))) wall-obj)): (-0.4274440148269396, ((array(array(tobj)) -> tobj) -> tobj) -> taction, Context(next = 0, {})), #(lambda (#(lambda (#(lambda (if $0 left-action forward-action)) (not $0))) (#(lambda (eq-obj? (#(lambda (get $0 2 1)) $0) empty-obj)) $0))): (-0.4274440148269396, array(array(tobj)) -> taction, Context(next = 0, {})), #(lambda (lambda (#(lambda (if $0 left-action forward-action)) (eq-obj? wall-obj (get $0 2 $1))))): (-0.4274440148269396, int -> array(array(tobj)) -> taction, Context(next = 0, {})), #(lambda (lambda (#(lambda (#(lambda (if $0 forward-action left-action)) (eq-obj? $0 empty-obj))) (get $1 2 $0)))): (-0.4274440148269396, array(array(tobj)) -> int -> taction, Context(next = 0, {})), #(lambda (#(lambda (if $0 left-action forward-action)) (not $0))): (-0.4274440148269396, bool -> taction, Context(next = 0, {})), #(lambda (#(lambda (#(lambda (lambda (if (not (eq-obj? $0 $1)) forward-action left-action))) $0 wall-obj)) (get $0 2 1))): (-0.4274440148269396, array(array(tobj)) -> taction, Context(next = 0, {})), #(lambda (#(lambda (lambda (lambda (#(lambda (lambda (if (not (eq-obj? $0 $1)) forward-action left-action))) (#(lambda (get $0 2 1)) $2) (get $2 $0 $1))))) $0 3 1)): (-0.4274440148269396, array(array(tobj)) -> taction, Context(next = 0, {})), #(lambda (#(lambda (lambda (#(lambda (lambda (if (not (eq-obj? $0 $1)) forward-action left-action))) (#(lambda (get $0 2 1)) $1) (get $1 $0 4)))) $0 1)): (-0.4274440148269396, array(array(tobj)) -> taction, Context(next = 0, {})), #(lambda (#(lambda (lambda (if (not (eq-obj? $0 $1)) forward-action left-action))) $0 wall-obj)): (-0.3946541920039488, tobj -> taction, Context(next = 0, {})), #(lambda (#(lambda (lambda (lambda (#(lambda (lambda (if (not (eq-obj? $0 $1)) forward-action left-action))) (#(lambda (get $0 2 1)) $2) (get $2 $0 $1))))) $0 1 3)): (-0.4274440148269396, array(array(tobj)) -> taction, Context(next = 0, {})), #(lambda (#(lambda (lambda (lambda (#(lambda (lambda (if (not (eq-obj? $0 $1)) forward-action left-action))) (#(lambda (get $0 2 1)) $2) (get $2 $0 $1))))) $0 1 1)): (-0.4274440148269396, array(array(tobj)) -> taction, Context(next = 0, {})), #(lambda (if (not (eq-obj? (get $0 2 1) wall-obj)) forward-action left-action)): (-0.4274440148269396, array(array(tobj)) -> taction, Context(next = 0, {})), #(#(lambda (lambda (#(lambda (#(lambda (if $0 left-action forward-action)) (eq-obj? wall-obj $0))) (get $0 2 $1)))) 1): (-0.4274440148269396, array(array(tobj)) -> taction, Context(next = 0, {})), #(lambda (lambda (#(lambda (lambda (#(lambda (if $0 left-action forward-action)) (eq-obj? (#(lambda (get $0 2 1)) $1) $0)))) $0 (get $0 $1 4)))): (-0.3946541920039488, int -> array(array(tobj)) -> taction, Context(next = 0, {})), #(lambda (#(lambda (lambda (if (not (eq-obj? $0 $1)) forward-action left-action))) (#(lambda (get $0 2 1)) $0) (get $0 3 0))): (-0.4274440148269396, array(array(tobj)) -> taction, Context(next = 0, {})), #(lambda (lambda (#(lambda (lambda (if (not (eq-obj? $0 $1)) forward-action left-action))) (#(lambda (get $0 2 1)) $1) (get $1 $0 4)))): (-0.4274440148269396, array(array(tobj)) -> int -> taction, Context(next = 0, {})), #(lambda (#(lambda (#(lambda (if $0 forward-action left-action)) (eq-obj? ($0 #(lambda (get $0 2 1))) empty-obj))) (lambda (get $1 2 1)))): (-0.4274440148269396, array(array(tobj)) -> taction, Context(next = 0, {})), #(lambda (if (not (#(lambda (eq-obj? (#(lambda (get $0 2 1)) $0) empty-obj)) $0)) left-action forward-action)): (-0.4274440148269396, array(array(tobj)) -> taction, Context(next = 0, {})), #(lambda (lambda (#(lambda (#(lambda (if $0 left-action forward-action)) (eq-obj? wall-obj $0))) (get $0 2 $1)))): (-0.4274440148269396, int -> array(array(tobj)) -> taction, Context(next = 0, {})), #(lambda (if (eq-obj? (get $0 2 1) empty-obj) forward-action left-action)): (-0.4274440148269396, array(array(tobj)) -> taction, Context(next = 0, {})), #(lambda (lambda (#(lambda (if $0 left-action forward-action)) (eq-obj? (#(lambda (get $0 2 1)) $1) $0)))): (-0.3946541920039488, array(array(tobj)) -> tobj -> taction, Context(next = 0, {})), #(lambda (if (not (eq-obj? wall-obj (#(lambda (get $0 2 1)) $0))) forward-action left-action)): (-0.4274440148269396, array(array(tobj)) -> taction, Context(next = 0, {})), #(lambda (#(lambda (if $0 forward-action left-action)) (eq-obj? empty-obj (get $0 2 1)))): (-0.4274440148269396, array(array(tobj)) -> taction, Context(next = 0, {})), #(lambda (#(lambda (if $0 left-action forward-action)) (not (#(lambda (eq-obj? (#(lambda (get $0 2 1)) $0) empty-obj)) $0)))): (-0.4274440148269396, array(array(tobj)) -> taction, Context(next = 0, {})), #(lambda (#(lambda (if $0 forward-action left-action)) (eq-obj? ($0 #(lambda (get $0 2 1))) empty-obj))): (-0.3946541920039488, ((array(array(tobj)) -> tobj) -> tobj) -> taction, Context(next = 0, {})), #(lambda (lambda (#(lambda (lambda (lambda (#(lambda (lambda (if (not (eq-obj? $0 $1)) forward-action left-action))) (#(lambda (get $0 2 1)) $2) (get $2 $0 $1))))) $1 $0 3))): (-0.4274440148269396, array(array(tobj)) -> int -> taction, Context(next = 0, {})), #(lambda (lambda (#(lambda (lambda (if (not (eq-obj? $0 $1)) forward-action left-action))) (#(lambda (get $0 2 1)) $0) (get $0 1 $1)))): (-0.4274440148269396, int -> array(array(tobj)) -> taction, Context(next = 0, {})), #(lambda (#(lambda (#(lambda (if $0 forward-action left-action)) (eq-obj? $0 empty-obj))) (get $0 2 1))): (-0.4274440148269396, array(array(tobj)) -> taction, Context(next = 0, {})), #(lambda (#(lambda (#(lambda (if $0 left-action forward-action)) (eq-obj? wall-obj $0))) (get $0 2 1))): (-0.4274440148269396, array(array(tobj)) -> taction, Context(next = 0, {})), #(lambda (lambda (if (not (eq-obj? (get $1 2 $0) wall-obj)) forward-action left-action))): (-0.4274440148269396, array(array(tobj)) -> int -> taction, Context(next = 0, {})), #(lambda (#(lambda (if $0 left-action forward-action)) (eq-obj? wall-obj $0))): (-0.4274440148269396, tobj -> taction, Context(next = 0, {})), #(lambda (lambda (#(lambda (lambda (if (not (eq-obj? $0 $1)) forward-action left-action))) (get $0 1 $1) (#(lambda (get $0 2 1)) $0)))): (-0.4274440148269396, int -> array(array(tobj)) -> taction, Context(next = 0, {})), #(lambda (lambda (lambda (#(lambda (lambda (if (not (eq-obj? $0 $1)) forward-action left-action))) (#(lambda (get $0 2 1)) $2) (get $2 $0 $1))))): (-0.3946541920039488, array(array(tobj)) -> int -> int -> taction, Context(next = 0, {})), #(lambda (#(lambda (lambda (if (not (eq-obj? $0 $1)) forward-action left-action))) (#(lambda (get $0 2 1)) $0) wall-obj)): (-0.4274440148269396, array(array(tobj)) -> taction, Context(next = 0, {})), #(lambda (#(lambda (if $0 left-action forward-action)) (eq-obj? (#(lambda (get $0 2 1)) $0) wall-obj))): (-0.4274440148269396, array(array(tobj)) -> taction, Context(next = 0, {})), #(lambda (#(lambda (if $0 forward-action left-action)) (eq-obj? (get $0 2 1) empty-obj))): (-0.4274440148269396, array(array(tobj)) -> taction, Context(next = 0, {})), #(lambda (#(lambda (if $0 forward-action left-action)) (eq-obj? $0 empty-obj))): (-0.36290549368936853, tobj -> taction, Context(next = 0, {})), #(lambda (lambda (#(lambda (if $0 forward-action left-action)) (eq-obj? wall-obj (get $0 1 $1))))): (-0.4274440148269396, int -> array(array(tobj)) -> taction, Context(next = 0, {})), #(lambda (#(lambda (if $0 left-action forward-action)) (eq-obj? (get $0 2 1) wall-obj))): (-0.4274440148269396, array(array(tobj)) -> taction, Context(next = 0, {})), #(lambda (if (not (eq-obj? wall-obj (get $0 2 1))) forward-action left-action)): (-0.4274440148269396, array(array(tobj)) -> taction, Context(next = 0, {})), #(lambda (if (eq-obj? wall-obj (get $0 2 1)) left-action forward-action)): (-0.4274440148269396, array(array(tobj)) -> taction, Context(next = 0, {})), #(lambda (#(lambda (lambda (if (not (eq-obj? $0 $1)) forward-action left-action))) wall-obj (get $0 2 1))): (-0.4274440148269396, array(array(tobj)) -> taction, Context(next = 0, {})), #(lambda (if (eq-obj? empty-obj (#(lambda (get $0 2 1)) $0)) forward-action left-action)): (-0.4274440148269396, array(array(tobj)) -> taction, Context(next = 0, {})), #(lambda (#(lambda (if $0 left-action forward-action)) (eq-obj? wall-obj (get $0 2 1)))): (-0.4274440148269396, array(array(tobj)) -> taction, Context(next = 0, {})), #(lambda (if (eq-obj? (#(lambda (get $0 2 1)) $0) empty-obj) forward-action left-action)): (-0.4274440148269396, array(array(tobj)) -> taction, Context(next = 0, {})), #(lambda (lambda (if (not (eq-obj? $0 $1)) forward-action left-action))): (-0.3946541920039488, tobj -> tobj -> taction, Context(next = 0, {})), #(lambda (#(lambda (if $0 forward-action left-action)) (eq-obj? empty-obj (#(lambda (get $0 2 1)) $0)))): (-0.4274440148269396, array(array(tobj)) -> taction, Context(next = 0, {})), #(lambda (#(lambda (if $0 forward-action left-action)) (eq-obj? (#(lambda (get $0 2 1)) $0) empty-obj))): (-0.4274440148269396, array(array(tobj)) -> taction, Context(next = 0, {})), #(lambda (if (eq-obj? wall-obj (#(lambda (get $0 2 1)) $0)) left-action forward-action)): (-0.4274440148269396, array(array(tobj)) -> taction, Context(next = 0, {})), #(lambda (if (eq-obj? (#(lambda (get $0 2 1)) $0) wall-obj) left-action forward-action)): (-0.4274440148269396, array(array(tobj)) -> taction, Context(next = 0, {})), #(lambda (if $0 left-action forward-action)): (-0.3946541920039488, bool -> taction, Context(next = 0, {})), #(lambda (if $0 forward-action left-action)): (-0.4274440148269396, bool -> taction, Context(next = 0, {})), left-action: (-0.4274440148269396, taction, Context(next = 0, {})), right-action: (-0.4274440148269396, taction, Context(next = 0, {})), forward-action: (-0.4274440148269396, taction, Context(next = 0, {})), if: (-1.1186129553747794, bool -> taction -> taction -> taction, Context(next = 1, {t0 ||> taction}))}\n",
      "request is taction\n",
      "xs [$1, (if (#(lambda (eq-obj? (#(lambda (get $0 2 1)) $0) empty-obj)) $1) wall-obj wall-obj)]\n",
      "environment [tdirection, array(array(tobj))]\n",
      "Rate 19/100: 100%|██████████| 100/100 [10:11<00:00,  6.11s/it]\n"
     ]
    },
    {
     "name": "stdout",
     "output_type": "stream",
     "text": [
      "19/100 -> 19.0%\n",
      "keys: 18\n",
      "Created 150 tasks with 11 chunk size\n"
     ]
    },
    {
     "name": "stderr",
     "output_type": "stream",
     "text": [
      "Rate 28/100: 100%|██████████| 100/100 [10:01<00:00,  6.01s/it]\n"
     ]
    },
    {
     "name": "stdout",
     "output_type": "stream",
     "text": [
      "28/100 -> 28.000000000000004%\n",
      "keys: 18\n",
      "Created 163 tasks with 10 chunk size\n"
     ]
    },
    {
     "name": "stderr",
     "output_type": "stream",
     "text": [
      "Rate 14/51:  51%|█████     | 51/100 [05:05<04:53,  5.99s/it]#(lambda (#(lambda (if $0 forward-action left-action)) (eq-obj? wall-obj (get $0 2 1)))) Not in candidates\n",
      "Candidates is {#(lambda (lambda (#(lambda (#(lambda (if $0 left-action forward-action)) (eq-obj? wall-obj $0))) (get $0 $1 1)))): (-0.4274440148269396, int -> array(array(tobj)) -> taction, Context(next = 1, {t0 ||> taction})), #(lambda (lambda (#(lambda (lambda (lambda (#(lambda (lambda (#(lambda (if $0 left-action forward-action)) (eq-obj? (#(lambda (get $0 2 1)) $1) $0)))) $2 (get $0 $1 4))))) $0 1 $1))): (-0.4274440148269396, array(array(tobj)) -> array(array(tobj)) -> taction, Context(next = 1, {t0 ||> taction})), #(lambda (#(lambda (if (not (eq-obj? wall-obj ($0 #(lambda (get $0 2 1))))) forward-action left-action)) (lambda (get $1 2 1)))): (-0.4274440148269396, array(array(tobj)) -> taction, Context(next = 1, {t0 ||> taction})), #(lambda (#(lambda (lambda (#(lambda (lambda (if (not (eq-obj? $0 $1)) forward-action left-action))) (#(lambda (get $0 2 1)) $1) $0))) $0 wall-obj)): (-0.4274440148269396, array(array(tobj)) -> taction, Context(next = 1, {t0 ||> taction})), #(lambda (lambda (#(lambda (lambda (if (not (eq-obj? $0 $1)) forward-action left-action))) (#(lambda (get $0 2 1)) $1) $0))): (-0.4274440148269396, array(array(tobj)) -> tobj -> taction, Context(next = 1, {t0 ||> taction})), #(#(lambda (lambda (if (not (eq-obj? $1 (#(lambda (get $0 2 1)) $0))) forward-action left-action))) wall-obj): (-0.4274440148269396, array(array(tobj)) -> taction, Context(next = 1, {t0 ||> taction})), #(lambda (lambda (if (not (eq-obj? $1 (#(lambda (get $0 2 1)) $0))) forward-action left-action))): (-0.4274440148269396, tobj -> array(array(tobj)) -> taction, Context(next = 1, {t0 ||> taction})), #(lambda (lambda (#(lambda (lambda (if (not (eq-obj? $0 $1)) forward-action left-action))) (get $0 $1 1) wall-obj))): (-0.4274440148269396, int -> array(array(tobj)) -> taction, Context(next = 1, {t0 ||> taction})), #(lambda (lambda (#(lambda (#(lambda (if $0 forward-action left-action)) (eq-obj? $0 empty-obj))) (get $0 2 $1)))): (-0.4274440148269396, int -> array(array(tobj)) -> taction, Context(next = 1, {t0 ||> taction})), #(lambda (#(lambda (lambda (#(lambda (if $0 left-action forward-action)) (eq-obj? wall-obj (get $0 2 $1))))) 1 (if (#(lambda (eq-obj? (#(lambda (get $0 2 1)) $0) empty-obj)) $0) $0 $0))): (-0.4274440148269396, array(array(tobj)) -> taction, Context(next = 1, {t0 ||> taction})), #(lambda (#(lambda (lambda (#(lambda (#(lambda (if $0 left-action forward-action)) (eq-obj? wall-obj $0))) (get $1 2 $0)))) $0 1)): (-0.4274440148269396, array(array(tobj)) -> taction, Context(next = 1, {t0 ||> taction})), #(lambda (#(lambda (lambda (lambda (#(lambda (lambda (#(lambda (if $0 left-action forward-action)) (eq-obj? (#(lambda (get $0 2 1)) $1) $0)))) $2 (get $0 $1 4))))) $0 3)): (-0.4274440148269396, array(array(tobj)) -> array(array(tobj)) -> taction, Context(next = 1, {t0 ||> taction})), #(lambda (lambda (#(lambda (#(lambda (lambda (if (not (eq-obj? $0 $1)) forward-action left-action))) $0 wall-obj)) (get $0 2 $1)))): (-0.4274440148269396, int -> array(array(tobj)) -> taction, Context(next = 1, {t0 ||> taction})), #(lambda (lambda (#(lambda (#(lambda (if $0 left-action forward-action)) (eq-obj? wall-obj $0))) (get $1 2 $0)))): (-0.4274440148269396, array(array(tobj)) -> int -> taction, Context(next = 1, {t0 ||> taction})), #(lambda (#(lambda (if $0 left-action forward-action)) (not ($0 #(lambda (eq-obj? (#(lambda (get $0 2 1)) $0) empty-obj)))))): (-0.4274440148269396, ((array(array(tobj)) -> bool) -> bool) -> taction, Context(next = 1, {t0 ||> taction})), #(lambda (#(lambda (lambda (#(lambda (if $0 left-action forward-action)) (eq-obj? (#(lambda (get $0 2 1)) $1) $0)))) $0 (get $0 1 4))): (-0.4274440148269396, array(array(tobj)) -> taction, Context(next = 1, {t0 ||> taction})), #(lambda (lambda (if (eq-obj? (get $1 $0 1) empty-obj) forward-action left-action))): (-0.4274440148269396, array(array(tobj)) -> int -> taction, Context(next = 1, {t0 ||> taction})), #(lambda (if (not (eq-obj? (#(lambda (get $0 2 1)) $0) empty-obj)) left-action forward-action)): (-0.4274440148269396, array(array(tobj)) -> taction, Context(next = 1, {t0 ||> taction})), #(lambda (#(lambda (lambda (lambda (#(lambda (lambda (#(lambda (if $0 left-action forward-action)) (eq-obj? (#(lambda (get $0 2 1)) $1) $0)))) $2 (get $0 $1 4))))) $0 1 $0)): (-0.4274440148269396, array(array(tobj)) -> taction, Context(next = 1, {t0 ||> taction})), #(lambda (lambda (if (eq-obj? (get $1 2 1) $0) forward-action left-action))): (-0.4274440148269396, array(array(tobj)) -> tobj -> taction, Context(next = 1, {t0 ||> taction})), #(lambda (#(lambda (lambda (if (not (eq-obj? $0 (#(lambda (get $0 2 1)) $1))) forward-action left-action))) $0 wall-obj)): (-0.4274440148269396, array(array(tobj)) -> taction, Context(next = 1, {t0 ||> taction})), #(lambda (lambda (if (not (eq-obj? $0 (#(lambda (get $0 2 1)) $1))) forward-action left-action))): (-0.3946541920039488, array(array(tobj)) -> tobj -> taction, Context(next = 1, {t0 ||> taction})), #(lambda (#(lambda (lambda (if (eq-obj? (get $1 2 $0) empty-obj) forward-action left-action))) $0 1)): (-0.4274440148269396, array(array(tobj)) -> taction, Context(next = 1, {t0 ||> taction})), #(lambda (#(lambda (#(lambda (lambda (if (not (eq-obj? $0 $1)) forward-action left-action))) ($0 (lambda (#(lambda (get $0 2 1)) $0))) wall-obj)) (lambda (get $1 2 1)))): (-0.4274440148269396, array(array(tobj)) -> taction, Context(next = 1, {t0 ||> taction})), #(lambda (if (not (eq-obj? wall-obj ($0 #(lambda (get $0 2 1))))) forward-action left-action)): (-0.3946541920039488, ((array(array(tobj)) -> tobj) -> tobj) -> taction, Context(next = 1, {t0 ||> taction})), #(lambda (#(lambda (lambda (if (eq-obj? (#(lambda (get $0 2 1)) $1) $0) forward-action left-action))) $0 empty-obj)): (-0.4274440148269396, array(array(tobj)) -> taction, Context(next = 1, {t0 ||> taction})), #(lambda (lambda (if (eq-obj? (#(lambda (get $0 2 1)) $1) $0) forward-action left-action))): (-0.4274440148269396, array(array(tobj)) -> tobj -> taction, Context(next = 1, {t0 ||> taction})), #(lambda (#(lambda (lambda (lambda (#(lambda (lambda (#(lambda (if $0 left-action forward-action)) (eq-obj? (#(lambda (get $0 2 1)) $1) $0)))) $2 (get $0 $1 4))))) $0 1)): (-0.4274440148269396, array(array(tobj)) -> array(array(tobj)) -> taction, Context(next = 1, {t0 ||> taction})), #(lambda (#(lambda (lambda (lambda (#(lambda (lambda (#(lambda (if $0 left-action forward-action)) (eq-obj? (#(lambda (get $0 2 1)) $1) $0)))) $2 (get $0 $1 4))))) $0 3 $0)): (-0.4274440148269396, array(array(tobj)) -> taction, Context(next = 1, {t0 ||> taction})), #(lambda (lambda (#(lambda (lambda (if (not (eq-obj? $0 $1)) forward-action left-action))) (get $1 2 1) $0))): (-0.4274440148269396, array(array(tobj)) -> tobj -> taction, Context(next = 1, {t0 ||> taction})), #(lambda (lambda (if (eq-obj? (get $1 2 $0) empty-obj) forward-action left-action))): (-0.4274440148269396, array(array(tobj)) -> int -> taction, Context(next = 1, {t0 ||> taction})), #(lambda (#(lambda (lambda (if (not (eq-obj? $0 $1)) forward-action left-action))) (#(lambda (get $0 2 1)) $0) (get $0 1 4))): (-0.4274440148269396, array(array(tobj)) -> taction, Context(next = 1, {t0 ||> taction})), #(lambda (lambda (lambda (#(lambda (lambda (#(lambda (if $0 left-action forward-action)) (eq-obj? (#(lambda (get $0 2 1)) $1) $0)))) $2 (get $0 $1 4))))): (-0.3022808718729335, array(array(tobj)) -> int -> array(array(tobj)) -> taction, Context(next = 1, {t0 ||> taction})), #(lambda (#(lambda (lambda (if (not (eq-obj? $0 $1)) forward-action left-action))) (get $0 2 1) wall-obj)): (-0.4274440148269396, array(array(tobj)) -> taction, Context(next = 1, {t0 ||> taction})), #(lambda (lambda (#(lambda (lambda (lambda (#(lambda (lambda (if (not (eq-obj? $0 $1)) forward-action left-action))) (#(lambda (get $0 2 1)) $2) (get $2 $0 $1))))) $0 $1 1))): (-0.4274440148269396, int -> array(array(tobj)) -> taction, Context(next = 1, {t0 ||> taction})), #(lambda (#(lambda (lambda (if (not (eq-obj? $0 $1)) forward-action left-action))) ($0 (lambda (#(lambda (get $0 2 1)) $0))) wall-obj)): (-0.4274440148269396, ((array(array(tobj)) -> tobj) -> tobj) -> taction, Context(next = 1, {t0 ||> taction})), #(lambda (#(lambda (lambda (if (not (eq-obj? (get $1 2 $0) wall-obj)) forward-action left-action))) (if (#(lambda (eq-obj? (#(lambda (get $0 2 1)) $0) empty-obj)) $0) $0 $0) 1)): (-0.4274440148269396, array(array(tobj)) -> taction, Context(next = 1, {t0 ||> taction})), #(lambda (#(lambda (if (not $0) left-action forward-action)) (#(lambda (eq-obj? (#(lambda (get $0 2 1)) $0) empty-obj)) $0))): (-0.4274440148269396, array(array(tobj)) -> taction, Context(next = 1, {t0 ||> taction})), #(lambda (#(lambda (if (eq-obj? $0 empty-obj) forward-action left-action)) (get $0 2 1))): (-0.4274440148269396, array(array(tobj)) -> taction, Context(next = 1, {t0 ||> taction})), #(lambda (if (not $0) left-action forward-action)): (-0.4274440148269396, bool -> taction, Context(next = 1, {t0 ||> taction})), #(lambda (if (eq-obj? $0 empty-obj) forward-action left-action)): (-0.3946541920039488, tobj -> taction, Context(next = 1, {t0 ||> taction})), #(lambda (lambda (#(lambda (lambda (if (not (eq-obj? $0 $1)) forward-action left-action))) (#(lambda (get $0 2 1)) $1) (get $1 3 $0)))): (-0.4274440148269396, array(array(tobj)) -> int -> taction, Context(next = 1, {t0 ||> taction})), #(lambda (#(lambda (if $0 forward-action left-action)) (or (#(lambda (eq-obj? (#(lambda (get $0 2 1)) $0) empty-obj)) $0) (#(lambda (eq-obj? (#(lambda (get $0 2 1)) $0) empty-obj)) $0)))): (-0.4274440148269396, array(array(tobj)) -> taction, Context(next = 1, {t0 ||> taction})), #(lambda (#(lambda (lambda (#(lambda (if $0 left-action forward-action)) (eq-obj? (#(lambda (get $0 2 1)) $1) $0)))) $0 (if (#(lambda (eq-obj? (#(lambda (get $0 2 1)) $0) empty-obj)) $0) goal-obj wall-obj))): (-0.4274440148269396, array(array(tobj)) -> taction, Context(next = 1, {t0 ||> taction})), #(lambda (lambda (#(lambda (if $0 left-action forward-action)) (eq-obj? (#(lambda (get $0 2 1)) (if $0 $1 $1)) wall-obj)))): (-0.4274440148269396, array(array(tobj)) -> bool -> taction, Context(next = 1, {t0 ||> taction})), #(lambda (lambda (#(lambda (lambda (if (not (eq-obj? (get $1 2 $0) wall-obj)) forward-action left-action))) (if $1 $0 $0) 1))): (-0.4274440148269396, bool -> array(array(tobj)) -> taction, Context(next = 1, {t0 ||> taction})), #(#(lambda (lambda (#(lambda (if $0 left-action forward-action)) (eq-obj? wall-obj (get $0 2 $1))))) 1): (-0.4274440148269396, array(array(tobj)) -> taction, Context(next = 1, {t0 ||> taction})), #(lambda (#(lambda (lambda (lambda (#(lambda (lambda (if (not (eq-obj? $0 $1)) forward-action left-action))) (#(lambda (get $0 2 1)) $2) (get $2 $0 $1))))) $0 1 0)): (-0.4274440148269396, array(array(tobj)) -> taction, Context(next = 1, {t0 ||> taction})), #(lambda (lambda (#(lambda (lambda (lambda (#(lambda (lambda (if (not (eq-obj? $0 $1)) forward-action left-action))) (#(lambda (get $0 2 1)) $2) (get $2 $0 $1))))) $1 $0 1))): (-0.4274440148269396, array(array(tobj)) -> int -> taction, Context(next = 1, {t0 ||> taction})), #(lambda (#(lambda (lambda (#(lambda (#(lambda (if $0 forward-action left-action)) (eq-obj? $0 empty-obj))) (get $1 2 $0)))) $0 1)): (-0.4274440148269396, array(array(tobj)) -> taction, Context(next = 1, {t0 ||> taction})), #(lambda (lambda (#(lambda (lambda (if (not (eq-obj? $0 $1)) forward-action left-action))) (#(lambda (get $0 2 1)) $0) (get $0 3 $1)))): (-0.4274440148269396, int -> array(array(tobj)) -> taction, Context(next = 1, {t0 ||> taction})), #(lambda (lambda (#(lambda (if $0 left-action forward-action)) (eq-obj? (#(lambda (get $0 2 1)) $0) (get $0 $1 4))))): (-0.4274440148269396, int -> array(array(tobj)) -> taction, Context(next = 1, {t0 ||> taction})), #(lambda (#(lambda (lambda (if (not (eq-obj? $0 $1)) forward-action left-action))) ($0 #(lambda (get $0 2 1))) wall-obj)): (-0.4274440148269396, ((array(array(tobj)) -> tobj) -> tobj) -> taction, Context(next = 1, {t0 ||> taction})), #(lambda (#(lambda (#(lambda (if $0 left-action forward-action)) (not $0))) (#(lambda (eq-obj? (#(lambda (get $0 2 1)) $0) empty-obj)) $0))): (-0.4274440148269396, array(array(tobj)) -> taction, Context(next = 1, {t0 ||> taction})), #(lambda (lambda (#(lambda (if $0 left-action forward-action)) (eq-obj? wall-obj (get $0 2 $1))))): (-0.4274440148269396, int -> array(array(tobj)) -> taction, Context(next = 1, {t0 ||> taction})), #(lambda (lambda (#(lambda (#(lambda (if $0 forward-action left-action)) (eq-obj? $0 empty-obj))) (get $1 2 $0)))): (-0.4274440148269396, array(array(tobj)) -> int -> taction, Context(next = 1, {t0 ||> taction})), #(lambda (#(lambda (if $0 left-action forward-action)) (not $0))): (-0.4274440148269396, bool -> taction, Context(next = 1, {t0 ||> taction})), #(lambda (#(lambda (#(lambda (lambda (if (not (eq-obj? $0 $1)) forward-action left-action))) $0 wall-obj)) (get $0 2 1))): (-0.4274440148269396, array(array(tobj)) -> taction, Context(next = 1, {t0 ||> taction})), #(lambda (#(lambda (lambda (lambda (#(lambda (lambda (if (not (eq-obj? $0 $1)) forward-action left-action))) (#(lambda (get $0 2 1)) $2) (get $2 $0 $1))))) $0 3 1)): (-0.4274440148269396, array(array(tobj)) -> taction, Context(next = 1, {t0 ||> taction})), #(lambda (#(lambda (lambda (#(lambda (lambda (if (not (eq-obj? $0 $1)) forward-action left-action))) (#(lambda (get $0 2 1)) $1) (get $1 $0 4)))) $0 1)): (-0.4274440148269396, array(array(tobj)) -> taction, Context(next = 1, {t0 ||> taction})), #(lambda (#(lambda (lambda (if (not (eq-obj? $0 $1)) forward-action left-action))) $0 wall-obj)): (-0.3946541920039488, tobj -> taction, Context(next = 1, {t0 ||> taction})), #(lambda (#(lambda (lambda (lambda (#(lambda (lambda (if (not (eq-obj? $0 $1)) forward-action left-action))) (#(lambda (get $0 2 1)) $2) (get $2 $0 $1))))) $0 1 3)): (-0.4274440148269396, array(array(tobj)) -> taction, Context(next = 1, {t0 ||> taction})), #(lambda (#(lambda (lambda (lambda (#(lambda (lambda (if (not (eq-obj? $0 $1)) forward-action left-action))) (#(lambda (get $0 2 1)) $2) (get $2 $0 $1))))) $0 1 1)): (-0.4274440148269396, array(array(tobj)) -> taction, Context(next = 1, {t0 ||> taction})), #(lambda (if (not (eq-obj? (get $0 2 1) wall-obj)) forward-action left-action)): (-0.4274440148269396, array(array(tobj)) -> taction, Context(next = 1, {t0 ||> taction})), #(#(lambda (lambda (#(lambda (#(lambda (if $0 left-action forward-action)) (eq-obj? wall-obj $0))) (get $0 2 $1)))) 1): (-0.4274440148269396, array(array(tobj)) -> taction, Context(next = 1, {t0 ||> taction})), #(lambda (lambda (#(lambda (lambda (#(lambda (if $0 left-action forward-action)) (eq-obj? (#(lambda (get $0 2 1)) $1) $0)))) $0 (get $0 $1 4)))): (-0.3946541920039488, int -> array(array(tobj)) -> taction, Context(next = 1, {t0 ||> taction})), #(lambda (#(lambda (lambda (if (not (eq-obj? $0 $1)) forward-action left-action))) (#(lambda (get $0 2 1)) $0) (get $0 3 0))): (-0.4274440148269396, array(array(tobj)) -> taction, Context(next = 1, {t0 ||> taction})), #(lambda (lambda (#(lambda (lambda (if (not (eq-obj? $0 $1)) forward-action left-action))) (#(lambda (get $0 2 1)) $1) (get $1 $0 4)))): (-0.4274440148269396, array(array(tobj)) -> int -> taction, Context(next = 1, {t0 ||> taction})), #(lambda (#(lambda (#(lambda (if $0 forward-action left-action)) (eq-obj? ($0 #(lambda (get $0 2 1))) empty-obj))) (lambda (get $1 2 1)))): (-0.4274440148269396, array(array(tobj)) -> taction, Context(next = 1, {t0 ||> taction})), #(lambda (if (not (#(lambda (eq-obj? (#(lambda (get $0 2 1)) $0) empty-obj)) $0)) left-action forward-action)): (-0.4274440148269396, array(array(tobj)) -> taction, Context(next = 1, {t0 ||> taction})), #(lambda (lambda (#(lambda (#(lambda (if $0 left-action forward-action)) (eq-obj? wall-obj $0))) (get $0 2 $1)))): (-0.4274440148269396, int -> array(array(tobj)) -> taction, Context(next = 1, {t0 ||> taction})), #(lambda (if (eq-obj? (get $0 2 1) empty-obj) forward-action left-action)): (-0.4274440148269396, array(array(tobj)) -> taction, Context(next = 1, {t0 ||> taction})), #(lambda (lambda (#(lambda (if $0 left-action forward-action)) (eq-obj? (#(lambda (get $0 2 1)) $1) $0)))): (-0.3946541920039488, array(array(tobj)) -> tobj -> taction, Context(next = 1, {t0 ||> taction})), #(lambda (if (not (eq-obj? wall-obj (#(lambda (get $0 2 1)) $0))) forward-action left-action)): (-0.4274440148269396, array(array(tobj)) -> taction, Context(next = 1, {t0 ||> taction})), #(lambda (#(lambda (if $0 forward-action left-action)) (eq-obj? empty-obj (get $0 2 1)))): (-0.4274440148269396, array(array(tobj)) -> taction, Context(next = 1, {t0 ||> taction})), #(lambda (#(lambda (if $0 left-action forward-action)) (not (#(lambda (eq-obj? (#(lambda (get $0 2 1)) $0) empty-obj)) $0)))): (-0.4274440148269396, array(array(tobj)) -> taction, Context(next = 1, {t0 ||> taction})), #(lambda (#(lambda (if $0 forward-action left-action)) (eq-obj? ($0 #(lambda (get $0 2 1))) empty-obj))): (-0.3946541920039488, ((array(array(tobj)) -> tobj) -> tobj) -> taction, Context(next = 1, {t0 ||> taction})), #(lambda (lambda (#(lambda (lambda (lambda (#(lambda (lambda (if (not (eq-obj? $0 $1)) forward-action left-action))) (#(lambda (get $0 2 1)) $2) (get $2 $0 $1))))) $1 $0 3))): (-0.4274440148269396, array(array(tobj)) -> int -> taction, Context(next = 1, {t0 ||> taction})), #(lambda (lambda (#(lambda (lambda (if (not (eq-obj? $0 $1)) forward-action left-action))) (#(lambda (get $0 2 1)) $0) (get $0 1 $1)))): (-0.4274440148269396, int -> array(array(tobj)) -> taction, Context(next = 1, {t0 ||> taction})), #(lambda (#(lambda (#(lambda (if $0 forward-action left-action)) (eq-obj? $0 empty-obj))) (get $0 2 1))): (-0.4274440148269396, array(array(tobj)) -> taction, Context(next = 1, {t0 ||> taction})), #(lambda (#(lambda (#(lambda (if $0 left-action forward-action)) (eq-obj? wall-obj $0))) (get $0 2 1))): (-0.4274440148269396, array(array(tobj)) -> taction, Context(next = 1, {t0 ||> taction})), #(lambda (lambda (if (not (eq-obj? (get $1 2 $0) wall-obj)) forward-action left-action))): (-0.4274440148269396, array(array(tobj)) -> int -> taction, Context(next = 1, {t0 ||> taction})), #(lambda (#(lambda (if $0 left-action forward-action)) (eq-obj? wall-obj $0))): (-0.4274440148269396, tobj -> taction, Context(next = 1, {t0 ||> taction})), #(lambda (lambda (#(lambda (lambda (if (not (eq-obj? $0 $1)) forward-action left-action))) (get $0 1 $1) (#(lambda (get $0 2 1)) $0)))): (-0.4274440148269396, int -> array(array(tobj)) -> taction, Context(next = 1, {t0 ||> taction})), #(lambda (lambda (lambda (#(lambda (lambda (if (not (eq-obj? $0 $1)) forward-action left-action))) (#(lambda (get $0 2 1)) $2) (get $2 $0 $1))))): (-0.3946541920039488, array(array(tobj)) -> int -> int -> taction, Context(next = 1, {t0 ||> taction})), #(lambda (#(lambda (lambda (if (not (eq-obj? $0 $1)) forward-action left-action))) (#(lambda (get $0 2 1)) $0) wall-obj)): (-0.4274440148269396, array(array(tobj)) -> taction, Context(next = 1, {t0 ||> taction})), #(lambda (#(lambda (if $0 left-action forward-action)) (eq-obj? (#(lambda (get $0 2 1)) $0) wall-obj))): (-0.4274440148269396, array(array(tobj)) -> taction, Context(next = 1, {t0 ||> taction})), #(lambda (#(lambda (if $0 forward-action left-action)) (eq-obj? (get $0 2 1) empty-obj))): (-0.4274440148269396, array(array(tobj)) -> taction, Context(next = 1, {t0 ||> taction})), #(lambda (#(lambda (if $0 forward-action left-action)) (eq-obj? $0 empty-obj))): (-0.36290549368936853, tobj -> taction, Context(next = 1, {t0 ||> taction})), #(lambda (lambda (#(lambda (if $0 forward-action left-action)) (eq-obj? wall-obj (get $0 1 $1))))): (-0.4274440148269396, int -> array(array(tobj)) -> taction, Context(next = 1, {t0 ||> taction})), #(lambda (#(lambda (if $0 left-action forward-action)) (eq-obj? (get $0 2 1) wall-obj))): (-0.4274440148269396, array(array(tobj)) -> taction, Context(next = 1, {t0 ||> taction})), #(lambda (if (not (eq-obj? wall-obj (get $0 2 1))) forward-action left-action)): (-0.4274440148269396, array(array(tobj)) -> taction, Context(next = 1, {t0 ||> taction})), #(lambda (if (eq-obj? wall-obj (get $0 2 1)) left-action forward-action)): (-0.4274440148269396, array(array(tobj)) -> taction, Context(next = 1, {t0 ||> taction})), #(lambda (#(lambda (lambda (if (not (eq-obj? $0 $1)) forward-action left-action))) wall-obj (get $0 2 1))): (-0.4274440148269396, array(array(tobj)) -> taction, Context(next = 1, {t0 ||> taction})), #(lambda (if (eq-obj? empty-obj (#(lambda (get $0 2 1)) $0)) forward-action left-action)): (-0.4274440148269396, array(array(tobj)) -> taction, Context(next = 1, {t0 ||> taction})), #(lambda (#(lambda (if $0 left-action forward-action)) (eq-obj? wall-obj (get $0 2 1)))): (-0.4274440148269396, array(array(tobj)) -> taction, Context(next = 1, {t0 ||> taction})), #(lambda (if (eq-obj? (#(lambda (get $0 2 1)) $0) empty-obj) forward-action left-action)): (-0.4274440148269396, array(array(tobj)) -> taction, Context(next = 1, {t0 ||> taction})), #(lambda (lambda (if (not (eq-obj? $0 $1)) forward-action left-action))): (-0.3946541920039488, tobj -> tobj -> taction, Context(next = 1, {t0 ||> taction})), #(lambda (#(lambda (if $0 forward-action left-action)) (eq-obj? empty-obj (#(lambda (get $0 2 1)) $0)))): (-0.4274440148269396, array(array(tobj)) -> taction, Context(next = 1, {t0 ||> taction})), #(lambda (#(lambda (if $0 forward-action left-action)) (eq-obj? (#(lambda (get $0 2 1)) $0) empty-obj))): (-0.4274440148269396, array(array(tobj)) -> taction, Context(next = 1, {t0 ||> taction})), #(lambda (if (eq-obj? wall-obj (#(lambda (get $0 2 1)) $0)) left-action forward-action)): (-0.4274440148269396, array(array(tobj)) -> taction, Context(next = 1, {t0 ||> taction})), #(lambda (if (eq-obj? (#(lambda (get $0 2 1)) $0) wall-obj) left-action forward-action)): (-0.4274440148269396, array(array(tobj)) -> taction, Context(next = 1, {t0 ||> taction})), #(lambda (if $0 left-action forward-action)): (-0.3946541920039488, bool -> taction, Context(next = 1, {t0 ||> taction})), #(lambda (if $0 forward-action left-action)): (-0.4274440148269396, bool -> taction, Context(next = 1, {t0 ||> taction})), left-action: (-0.4274440148269396, taction, Context(next = 1, {t0 ||> taction})), right-action: (-0.4274440148269396, taction, Context(next = 1, {t0 ||> taction})), forward-action: (-0.4274440148269396, taction, Context(next = 1, {t0 ||> taction})), if: (-1.1186129553747794, bool -> taction -> taction -> taction, Context(next = 2, {t1 ||> taction, t0 ||> taction}))}\n",
      "request is taction\n",
      "xs [$1]\n",
      "environment [tdirection, array(array(tobj))]\n",
      "Rate 30/94:  93%|█████████▎| 93/100 [09:30<00:43,  6.23s/it]"
     ]
    }
   ],
   "source": [
    "transformers.logging.set_verbosity_error()\n",
    "\n",
    "data_file = \"/home/ma/e/eberhardinger/workspaces/ec/dreamcoder/domains/perfect-maze-minigrid/collected_data/2022-12-10T15:26:33.798573.npy\"\n",
    "data = np.load(data_file, allow_pickle=True)\n",
    "parsed_data = parseData(data)\n",
    "\n",
    "model.eval()\n",
    "sequence_lengths = reversed(range(5, 40))\n",
    "solved_tasks = []\n",
    "for i in sequence_lengths:\n",
    "    tasks = makeTasks(parsed_data, i)\n",
    "    testTasks = createTestDataFromTasks(tasks[:100], True, no_spaces=no_spaces, compress=compress)\n",
    "    stats = check_test_tasks(testTasks, grammar, n_sampling=100, verbose=False)\n",
    "    solved = [x for x in stats if x[0] is not None]\n",
    "    solved_tasks += solved\n",
    "    rate = len(solved)/len(stats) * 100\n",
    "    print(f'{len(solved)}/{len(stats)} -> {rate}%')\n",
    "    np.save(os.path.join(finetune_dir, 'all_solved_tasks_10epochs.npy'), np.array(solved_tasks))"
   ]
  },
  {
   "cell_type": "code",
   "execution_count": 3,
   "id": "44c0104c-f208-4b29-930c-b520942c4442",
   "metadata": {},
   "outputs": [],
   "source": [
    "run_name = 'flip-data'\n",
    "no_spaces = True\n",
    "compress = False\n",
    "output_dir = f'/home/ma/e/eberhardinger/workspaces/T5-experimens/{run_name}/'\n",
    "finetune_dir = f'{output_dir}finetuning'\n",
    "solved_stats = np.load(os.path.join(finetune_dir, 'all_solved_tasks_10epochs.npy'), allow_pickle=True)"
   ]
  },
  {
   "cell_type": "code",
   "execution_count": 4,
   "id": "95158848-ffa9-4d94-9df8-ecf37c3a1de7",
   "metadata": {},
   "outputs": [],
   "source": [
    "def map_stats_to_len(stats):\n",
    "    mapping = {}\n",
    "    for stat in solved_stats:\n",
    "        l = len(stat[1][1].examples)\n",
    "        if l not in mapping:\n",
    "            mapping[l] = []\n",
    "        mapping[l].append(stat)\n",
    "    return mapping\n",
    "\n",
    "solved_stats_dict = map_stats_to_len(solved_stats)"
   ]
  },
  {
   "cell_type": "code",
   "execution_count": 25,
   "id": "88590aa0-fd1f-4bf4-a9b4-abc008ef6ad1",
   "metadata": {},
   "outputs": [
    {
     "name": "stdout",
     "output_type": "stream",
     "text": [
      "(1721, 6)\n",
      "keys: 18\n",
      "Created 320 tasks with 5 chunk size\n",
      "78/100 -> 78.0%\n",
      "keys: 18\n",
      "Created 274 tasks with 6 chunk size\n",
      "73/100 -> 73.0%\n",
      "keys: 18\n",
      "Created 237 tasks with 7 chunk size\n",
      "64/100 -> 64.0%\n",
      "keys: 18\n",
      "Created 206 tasks with 8 chunk size\n",
      "50/100 -> 50.0%\n",
      "keys: 18\n",
      "Created 181 tasks with 9 chunk size\n",
      "42/100 -> 42.0%\n",
      "keys: 18\n",
      "Created 163 tasks with 10 chunk size\n",
      "36/100 -> 36.0%\n",
      "keys: 18\n",
      "Created 150 tasks with 11 chunk size\n",
      "30/100 -> 30.0%\n",
      "keys: 18\n",
      "Created 135 tasks with 12 chunk size\n",
      "20/100 -> 20.0%\n",
      "keys: 18\n",
      "Created 125 tasks with 13 chunk size\n",
      "23/100 -> 23.0%\n",
      "keys: 18\n",
      "Created 114 tasks with 14 chunk size\n",
      "20/100 -> 20.0%\n",
      "keys: 18\n",
      "Created 106 tasks with 15 chunk size\n",
      "16/100 -> 16.0%\n",
      "keys: 18\n",
      "Created 100 tasks with 16 chunk size\n",
      "12/100 -> 12.0%\n",
      "keys: 18\n",
      "Created 92 tasks with 17 chunk size\n",
      "7/92 -> 7.608695652173914%\n",
      "keys: 18\n",
      "Created 87 tasks with 18 chunk size\n",
      "7/87 -> 8.045977011494253%\n",
      "keys: 18\n",
      "Created 80 tasks with 19 chunk size\n",
      "8/80 -> 10.0%\n",
      "keys: 18\n",
      "Created 78 tasks with 20 chunk size\n",
      "4/78 -> 5.128205128205128%\n",
      "keys: 18\n",
      "Created 76 tasks with 21 chunk size\n",
      "2/76 -> 2.631578947368421%\n",
      "keys: 18\n",
      "Created 70 tasks with 22 chunk size\n",
      "2/70 -> 2.857142857142857%\n",
      "keys: 18\n",
      "Created 63 tasks with 23 chunk size\n",
      "2/63 -> 3.1746031746031744%\n",
      "keys: 18\n",
      "Created 63 tasks with 24 chunk size\n",
      "1/63 -> 1.5873015873015872%\n",
      "keys: 18\n",
      "Created 61 tasks with 25 chunk size\n",
      "1/61 -> 1.639344262295082%\n",
      "keys: 18\n",
      "Created 60 tasks with 26 chunk size\n",
      "1/60 -> 1.6666666666666667%\n",
      "keys: 18\n",
      "Created 54 tasks with 27 chunk size\n",
      "1/54 -> 1.8518518518518516%\n",
      "keys: 18\n",
      "Created 52 tasks with 28 chunk size\n",
      "0/52 -> 0.0%\n",
      "keys: 18\n",
      "Created 51 tasks with 29 chunk size\n",
      "1/51 -> 1.9607843137254901%\n",
      "keys: 18\n",
      "Created 48 tasks with 30 chunk size\n",
      "0/48 -> 0.0%\n"
     ]
    }
   ],
   "source": [
    "transformers.logging.set_verbosity_error()\n",
    "\n",
    "data_file = \"/home/ma/e/eberhardinger/workspaces/ec/dreamcoder/domains/perfect-maze-minigrid/collected_data/2022-12-10T15:26:33.798573.npy\"\n",
    "data = np.load(data_file, allow_pickle=True)\n",
    "parsed_data = parseData(data)\n",
    "\n",
    "sequence_lengths = range(5, 31)\n",
    "solved_tasks = []\n",
    "for i in sequence_lengths:\n",
    "    tasks = makeTasks(parsed_data, i)\n",
    "    testTasks = createTestDataFromTasks(tasks, True, no_spaces=no_spaces, compress=compress)\n",
    "    num_tasks = len(testTasks)\n",
    "    solved = len(solved_stats_dict.get(i, []))\n",
    "    rate = solved/len(testTasks) * 100\n",
    "    print(f'{solved}/{len(testTasks)} -> {rate}%')\n",
    "    solved_tasks.append({\n",
    "        'solved': solved,\n",
    "        'tasks': len(testTasks),\n",
    "        'rate': rate\n",
    "    })\n",
    "df = pd.DataFrame(solved_tasks, index=sequence_lengths)"
   ]
  },
  {
   "cell_type": "code",
   "execution_count": 26,
   "id": "1c3b5ff2-e281-4e56-bc1d-b563a84aef7b",
   "metadata": {},
   "outputs": [
    {
     "data": {
      "image/png": "[encoded data removed]",
      "text/plain": [
       "<Figure size 640x480 with 1 Axes>"
      ]
     },
     "metadata": {},
     "output_type": "display_data"
    }
   ],
   "source": [
    "import matplotlib.pyplot as plt\n",
    "%matplotlib inline\n",
    "df[['solved', 'tasks']].plot(kind='line')\n",
    "plt.show()\n"
   ]
  },
  {
   "cell_type": "code",
   "execution_count": 9,
   "id": "6276a860-e218-48bc-83f1-eec5a351b017",
   "metadata": {},
   "outputs": [],
   "source": [
    "obs = eval('[(([[2, 2, 2, 2, 2], [2, 2, 2, 2, 2], [1, 2, 2, 2, 2], [1, 2, 2, 2, 2], [1, 2, 2, 2, 2]], 0), 0), (([[1, 2, 2, 2, 2], [2, 2, 2, 2, 2], [1, 2, 2, 2, 2], [2, 2, 2, 2, 2], [2, 2, 2, 2, 2]], 3), 0), (([[1, 1, 1, 2, 1], [1, 2, 1, 2, 2], [1, 2, 1, 1, 1], [2, 2, 2, 2, 2], [2, 2, 2, 2, 2]], 2), 0), (([[2, 2, 2, 2, 2], [2, 2, 2, 2, 2], [1, 1, 1, 1, 1], [2, 2, 1, 2, 2], [1, 1, 1, 2, 1]], 1), 2), (([[2, 2, 2, 2, 2], [2, 2, 2, 2, 2], [1, 1, 1, 1, 1], [2, 1, 2, 2, 2], [1, 1, 2, 1, 1]], 1), 2), (([[2, 2, 2, 2, 2], [2, 2, 2, 2, 2], [1, 1, 1, 1, 1], [1, 2, 2, 2, 1], [1, 2, 1, 1, 1]], 1), 2), (([[2, 2, 2, 2, 2], [2, 2, 2, 2, 2], [1, 1, 1, 1, 1], [2, 2, 2, 1, 2], [2, 1, 1, 1, 2]], 1), 2), (([[2, 2, 2, 2, 2], [2, 2, 2, 2, 2], [1, 1, 1, 1, 1], [2, 2, 1, 2, 1], [1, 1, 1, 2, 1]], 1), 2), (([[2, 2, 2, 2, 2], [2, 2, 2, 2, 2], [1, 1, 1, 1, 1], [2, 1, 2, 1, 2], [1, 1, 2, 1, 1]], 1), 2), (([[2, 2, 2, 2, 2], [2, 2, 2, 2, 2], [1, 1, 1, 1, 1], [1, 2, 1, 2, 2], [1, 2, 1, 1, 1]], 1), 2), (([[2, 2, 2, 2, 2], [2, 2, 2, 2, 2], [1, 1, 1, 1, 1], [2, 1, 2, 2, 2], [2, 1, 1, 1, 2]], 1), 2), (([[2, 2, 2, 2, 2], [2, 2, 2, 2, 2], [1, 1, 1, 1, 1], [1, 2, 2, 2, 1], [1, 1, 1, 2, 1]], 1), 2), (([[2, 2, 2, 2, 2], [2, 2, 2, 2, 2], [1, 1, 1, 1, 1], [2, 2, 2, 1, 2], [1, 1, 2, 1, 2]], 1), 2), (([[2, 2, 2, 2, 2], [2, 2, 2, 2, 2], [1, 1, 1, 1, 1], [2, 2, 1, 2, 1], [1, 2, 1, 2, 1]], 1), 2), (([[2, 2, 2, 2, 2], [2, 2, 2, 2, 2], [1, 1, 1, 1, 1], [2, 1, 2, 1, 2], [2, 1, 2, 1, 1]], 1), 2), (([[2, 2, 2, 2, 2], [2, 2, 2, 2, 2], [1, 1, 1, 1, 1], [1, 2, 1, 2, 2], [1, 2, 1, 1, 1]], 1), 2), (([[2, 2, 2, 2, 2], [2, 2, 2, 2, 2], [1, 1, 1, 1, 2], [2, 1, 2, 2, 2], [2, 1, 1, 1, 1]], 1), 2), (([[2, 2, 2, 2, 2], [2, 2, 2, 2, 2], [1, 1, 1, 2, 8], [1, 2, 2, 2, 1], [1, 1, 1, 1, 1]], 1), 2), (([[2, 2, 2, 2, 2], [2, 2, 2, 2, 2], [1, 1, 2, 8, 2], [2, 2, 2, 1, 2], [1, 1, 1, 1, 2]], 1), 2), (([[2, 2, 2, 2, 2], [2, 2, 2, 2, 2], [1, 2, 8, 2, 2], [2, 2, 1, 2, 2], [1, 1, 1, 2, 2]], 1), 0)]')"
   ]
  },
  {
   "cell_type": "code",
   "execution_count": null,
   "id": "d0826378-12ea-4736-b882-8e2485c533b8",
   "metadata": {},
   "outputs": [],
   "source": []
  },
  {
   "cell_type": "code",
   "execution_count": 25,
   "id": "02ef68a8-17dc-4653-8cdc-006655d68413",
   "metadata": {},
   "outputs": [
    {
     "data": {
      "text/plain": [
       "[array([(lambda (lambda (#(lambda (lambda (if (not (eq-obj? (get $1 2 $0) wall-obj)) forward-action left-action))) $1 1))),\n",
       "        ('22222222221222212222122220 a 12222222221222222222222223 a 11121121221211122222222222 a 22222222221111122122111211 c 22222222221111121222112111 c 22222222221111112221121111 c 22222222221111122212211121 c 22222222221111122121111211 c 22222222221111121212112111 c 22222222221111112122121111 c 22222222221111121222211121 c 22222222221111112221111211 c 22222222221111122212112121 c 22222222221111122121121211 c 22222222221111121212212111 c 22222222221111112122121111 c 22222222221111221222211111 c 22222222221112812221111111 c 22222222221128222212111121 c 22222222221282222122111221 a', Task(name=perfect maze 12 size 20 part 0, request=array(array(tobj)) -> tdirection -> taction, examples=[(([[2, 2, 2, 2, 2], [2, 2, 2, 2, 2], [1, 2, 2, 2, 2], [1, 2, 2, 2, 2], [1, 2, 2, 2, 2]], 0), 0), (([[1, 2, 2, 2, 2], [2, 2, 2, 2, 2], [1, 2, 2, 2, 2], [2, 2, 2, 2, 2], [2, 2, 2, 2, 2]], 3), 0), (([[1, 1, 1, 2, 1], [1, 2, 1, 2, 2], [1, 2, 1, 1, 1], [2, 2, 2, 2, 2], [2, 2, 2, 2, 2]], 2), 0), (([[2, 2, 2, 2, 2], [2, 2, 2, 2, 2], [1, 1, 1, 1, 1], [2, 2, 1, 2, 2], [1, 1, 1, 2, 1]], 1), 2), (([[2, 2, 2, 2, 2], [2, 2, 2, 2, 2], [1, 1, 1, 1, 1], [2, 1, 2, 2, 2], [1, 1, 2, 1, 1]], 1), 2), (([[2, 2, 2, 2, 2], [2, 2, 2, 2, 2], [1, 1, 1, 1, 1], [1, 2, 2, 2, 1], [1, 2, 1, 1, 1]], 1), 2), (([[2, 2, 2, 2, 2], [2, 2, 2, 2, 2], [1, 1, 1, 1, 1], [2, 2, 2, 1, 2], [2, 1, 1, 1, 2]], 1), 2), (([[2, 2, 2, 2, 2], [2, 2, 2, 2, 2], [1, 1, 1, 1, 1], [2, 2, 1, 2, 1], [1, 1, 1, 2, 1]], 1), 2), (([[2, 2, 2, 2, 2], [2, 2, 2, 2, 2], [1, 1, 1, 1, 1], [2, 1, 2, 1, 2], [1, 1, 2, 1, 1]], 1), 2), (([[2, 2, 2, 2, 2], [2, 2, 2, 2, 2], [1, 1, 1, 1, 1], [1, 2, 1, 2, 2], [1, 2, 1, 1, 1]], 1), 2), (([[2, 2, 2, 2, 2], [2, 2, 2, 2, 2], [1, 1, 1, 1, 1], [2, 1, 2, 2, 2], [2, 1, 1, 1, 2]], 1), 2), (([[2, 2, 2, 2, 2], [2, 2, 2, 2, 2], [1, 1, 1, 1, 1], [1, 2, 2, 2, 1], [1, 1, 1, 2, 1]], 1), 2), (([[2, 2, 2, 2, 2], [2, 2, 2, 2, 2], [1, 1, 1, 1, 1], [2, 2, 2, 1, 2], [1, 1, 2, 1, 2]], 1), 2), (([[2, 2, 2, 2, 2], [2, 2, 2, 2, 2], [1, 1, 1, 1, 1], [2, 2, 1, 2, 1], [1, 2, 1, 2, 1]], 1), 2), (([[2, 2, 2, 2, 2], [2, 2, 2, 2, 2], [1, 1, 1, 1, 1], [2, 1, 2, 1, 2], [2, 1, 2, 1, 1]], 1), 2), (([[2, 2, 2, 2, 2], [2, 2, 2, 2, 2], [1, 1, 1, 1, 1], [1, 2, 1, 2, 2], [1, 2, 1, 1, 1]], 1), 2), (([[2, 2, 2, 2, 2], [2, 2, 2, 2, 2], [1, 1, 1, 1, 2], [2, 1, 2, 2, 2], [2, 1, 1, 1, 1]], 1), 2), (([[2, 2, 2, 2, 2], [2, 2, 2, 2, 2], [1, 1, 1, 2, 8], [1, 2, 2, 2, 1], [1, 1, 1, 1, 1]], 1), 2), (([[2, 2, 2, 2, 2], [2, 2, 2, 2, 2], [1, 1, 2, 8, 2], [2, 2, 2, 1, 2], [1, 1, 1, 1, 2]], 1), 2), (([[2, 2, 2, 2, 2], [2, 2, 2, 2, 2], [1, 2, 8, 2, 2], [2, 2, 1, 2, 2], [1, 1, 1, 2, 2]], 1), 0)])],\n",
       "       dtype=object),\n",
       " array([(lambda (lambda (if (eq-direction? $0 direction-3) (#(lambda (if $0 forward-action left-action)) (eq-direction? direction-0 direction-2)) (#(lambda (if (eq-obj? (#(lambda (get $0 2 1)) $0) wall-obj) left-action forward-action)) $1)))),\n",
       "        ('11112222121121221222112121 c 11122221221212212222121221 a 11121121211212122121111110 a 11111122221111122122111113 a 12111222221111112121121212 c 21111222221111121212212122 c 11111222211111112121121212 c 11111222121111221212212112 c 11111221221112112121121112 c 11112212221121121212211122 c 11121122211211112121111212 a 12122121221112222122121221 c 21222212221122221222212221 c 12222122221222212222122221 a 11111122221111122222222220 c 11111222221111222222222220 c 11111222221112122222222220 c 11112222221121122222222220 c 11121222211211122222222220 a 12111121221211122122121113 a', Task(name=perfect maze 71 size 20 part 1, request=array(array(tobj)) -> tdirection -> taction, examples=[(([[1, 1, 1, 1, 2], [2, 2, 2, 1, 2], [1, 1, 2, 1, 2], [2, 1, 2, 2, 2], [1, 1, 2, 1, 2]], 1), 2), (([[1, 1, 1, 2, 2], [2, 2, 1, 2, 2], [1, 2, 1, 2, 2], [1, 2, 2, 2, 2], [1, 2, 1, 2, 2]], 1), 0), (([[1, 1, 1, 2, 1], [1, 2, 1, 2, 1], [1, 2, 1, 2, 1], [2, 2, 1, 2, 1], [1, 1, 1, 1, 1]], 0), 0), (([[1, 1, 1, 1, 1], [1, 2, 2, 2, 2], [1, 1, 1, 1, 1], [2, 2, 1, 2, 2], [1, 1, 1, 1, 1]], 3), 0), (([[1, 2, 1, 1, 1], [2, 2, 2, 2, 2], [1, 1, 1, 1, 1], [1, 2, 1, 2, 1], [1, 2, 1, 2, 1]], 2), 2), (([[2, 1, 1, 1, 1], [2, 2, 2, 2, 2], [1, 1, 1, 1, 1], [2, 1, 2, 1, 2], [2, 1, 2, 1, 2]], 2), 2), (([[1, 1, 1, 1, 1], [2, 2, 2, 2, 1], [1, 1, 1, 1, 1], [1, 2, 1, 2, 1], [1, 2, 1, 2, 1]], 2), 2), (([[1, 1, 1, 1, 1], [2, 2, 2, 1, 2], [1, 1, 1, 1, 2], [2, 1, 2, 1, 2], [2, 1, 2, 1, 1]], 2), 2), (([[1, 1, 1, 1, 1], [2, 2, 1, 2, 2], [1, 1, 1, 2, 1], [1, 2, 1, 2, 1], [1, 2, 1, 1, 1]], 2), 2), (([[1, 1, 1, 1, 2], [2, 1, 2, 2, 2], [1, 1, 2, 1, 1], [2, 1, 2, 1, 2], [2, 1, 1, 1, 2]], 2), 2), (([[1, 1, 1, 2, 1], [1, 2, 2, 2, 1], [1, 2, 1, 1, 1], [1, 2, 1, 2, 1], [1, 1, 1, 2, 1]], 2), 0), (([[1, 2, 1, 2, 2], [1, 2, 1, 2, 2], [1, 1, 1, 2, 2], [2, 2, 1, 2, 2], [1, 2, 1, 2, 2]], 1), 2), (([[2, 1, 2, 2, 2], [2, 1, 2, 2, 2], [1, 1, 2, 2, 2], [2, 1, 2, 2, 2], [2, 1, 2, 2, 2]], 1), 2), (([[1, 2, 2, 2, 2], [1, 2, 2, 2, 2], [1, 2, 2, 2, 2], [1, 2, 2, 2, 2], [1, 2, 2, 2, 2]], 1), 0), (([[1, 1, 1, 1, 1], [1, 2, 2, 2, 2], [1, 1, 1, 1, 1], [2, 2, 2, 2, 2], [2, 2, 2, 2, 2]], 0), 2), (([[1, 1, 1, 1, 1], [2, 2, 2, 2, 2], [1, 1, 1, 1, 2], [2, 2, 2, 2, 2], [2, 2, 2, 2, 2]], 0), 2), (([[1, 1, 1, 1, 1], [2, 2, 2, 2, 2], [1, 1, 1, 2, 1], [2, 2, 2, 2, 2], [2, 2, 2, 2, 2]], 0), 2), (([[1, 1, 1, 1, 2], [2, 2, 2, 2, 2], [1, 1, 2, 1, 1], [2, 2, 2, 2, 2], [2, 2, 2, 2, 2]], 0), 2), (([[1, 1, 1, 2, 1], [2, 2, 2, 2, 1], [1, 2, 1, 1, 1], [2, 2, 2, 2, 2], [2, 2, 2, 2, 2]], 0), 0), (([[1, 2, 1, 1, 1], [1, 2, 1, 2, 2], [1, 2, 1, 1, 1], [2, 2, 1, 2, 2], [1, 2, 1, 1, 1]], 3), 0)])],\n",
       "       dtype=object),\n",
       " array([(lambda (lambda (#(lambda (lambda (#(lambda (lambda (if (not (eq-obj? $0 $1)) forward-action left-action))) (#(lambda (get $0 2 1)) $1) $0))) $1 wall-obj))),\n",
       "        ('12121121211211112121121212 a 12111122211111122221111211 c 21111222121111222212112121 c 11111221211112122121121211 c 11111212121121221212212111 c 11111121221212112121121111 a 12122121221112222122111220 c 21222212221122221222112220 c 12222122221222212222122220 a 11111122211112122222222223 c 11111222121121222222222223 c 11111221211212122222222223 a 11111121221212122121111212 a 22222222221111122121111211 c 22222222221111121212112121 c 22222222221111112122121211 c 22222222221111221222212111 c 22222222221112112221121111 c 22222222221121222212211111 c 22222222221212122121111111 a', Task(name=perfect maze 79 size 20 part 1, request=array(array(tobj)) -> tdirection -> taction, examples=[(([[1, 2, 1, 2, 1], [1, 2, 1, 2, 1], [1, 2, 1, 1, 1], [1, 2, 1, 2, 1], [1, 2, 1, 2, 1]], 2), 0), (([[1, 2, 1, 1, 1], [1, 2, 2, 2, 1], [1, 1, 1, 1, 1], [2, 2, 2, 2, 1], [1, 1, 1, 2, 1]], 1), 2), (([[2, 1, 1, 1, 1], [2, 2, 2, 1, 2], [1, 1, 1, 1, 2], [2, 2, 2, 1, 2], [1, 1, 2, 1, 2]], 1), 2), (([[1, 1, 1, 1, 1], [2, 2, 1, 2, 1], [1, 1, 1, 2, 1], [2, 2, 1, 2, 1], [1, 2, 1, 2, 1]], 1), 2), (([[1, 1, 1, 1, 1], [2, 1, 2, 1, 2], [1, 1, 2, 1, 2], [2, 1, 2, 1, 2], [2, 1, 2, 1, 1]], 1), 2), (([[1, 1, 1, 1, 1], [1, 2, 1, 2, 2], [1, 2, 1, 2, 1], [1, 2, 1, 2, 1], [1, 2, 1, 1, 1]], 1), 0), (([[1, 2, 1, 2, 2], [1, 2, 1, 2, 2], [1, 1, 1, 2, 2], [2, 2, 1, 2, 2], [1, 1, 1, 2, 2]], 0), 2), (([[2, 1, 2, 2, 2], [2, 1, 2, 2, 2], [1, 1, 2, 2, 2], [2, 1, 2, 2, 2], [1, 1, 2, 2, 2]], 0), 2), (([[1, 2, 2, 2, 2], [1, 2, 2, 2, 2], [1, 2, 2, 2, 2], [1, 2, 2, 2, 2], [1, 2, 2, 2, 2]], 0), 0), (([[1, 1, 1, 1, 1], [1, 2, 2, 2, 1], [1, 1, 1, 2, 1], [2, 2, 2, 2, 2], [2, 2, 2, 2, 2]], 3), 2), (([[1, 1, 1, 1, 1], [2, 2, 2, 1, 2], [1, 1, 2, 1, 2], [2, 2, 2, 2, 2], [2, 2, 2, 2, 2]], 3), 2), (([[1, 1, 1, 1, 1], [2, 2, 1, 2, 1], [1, 2, 1, 2, 1], [2, 2, 2, 2, 2], [2, 2, 2, 2, 2]], 3), 0), (([[1, 1, 1, 1, 1], [1, 2, 1, 2, 2], [1, 2, 1, 2, 1], [2, 2, 1, 2, 1], [1, 1, 1, 2, 1]], 2), 0), (([[2, 2, 2, 2, 2], [2, 2, 2, 2, 2], [1, 1, 1, 1, 1], [2, 2, 1, 2, 1], [1, 1, 1, 2, 1]], 1), 2), (([[2, 2, 2, 2, 2], [2, 2, 2, 2, 2], [1, 1, 1, 1, 1], [2, 1, 2, 1, 2], [1, 1, 2, 1, 2]], 1), 2), (([[2, 2, 2, 2, 2], [2, 2, 2, 2, 2], [1, 1, 1, 1, 1], [1, 2, 1, 2, 2], [1, 2, 1, 2, 1]], 1), 2), (([[2, 2, 2, 2, 2], [2, 2, 2, 2, 2], [1, 1, 1, 1, 2], [2, 1, 2, 2, 2], [2, 1, 2, 1, 1]], 1), 2), (([[2, 2, 2, 2, 2], [2, 2, 2, 2, 2], [1, 1, 1, 2, 1], [1, 2, 2, 2, 1], [1, 2, 1, 1, 1]], 1), 2), (([[2, 2, 2, 2, 2], [2, 2, 2, 2, 2], [1, 1, 2, 1, 2], [2, 2, 2, 1, 2], [2, 1, 1, 1, 1]], 1), 2), (([[2, 2, 2, 2, 2], [2, 2, 2, 2, 2], [1, 2, 1, 2, 1], [2, 2, 1, 2, 1], [1, 1, 1, 1, 1]], 1), 0)])],\n",
       "       dtype=object),\n",
       " array([(lambda (lambda (#(lambda (#(lambda (if $0 forward-action left-action)) (eq-obj? $0 empty-obj))) (if (eq-direction? $0 direction-3) wall-obj (#(lambda (get $0 2 1)) $1))))),\n",
       "        ('11211222221111222212111121 c 12111222211112122121111211 c 21111222121121121212112121 c 11111221221211112121121211 a 12121122221212122121111110 a 11111122221111122222121113 a 11121222211111112122121212 c 11212222121111221222212112 c 12121221211112112222121112 c 21211212121121222222211112 c 12111121211212122221111112 a 12121122221111122222111211 c 21212222221111122222112111 c 12121222211111122222121111 c 21211222121111222222211121 c 12111221221112122222111211 c 21111212221121122222112121 c 11111122221211122221121211 a 12111122211112122121121110 c 21112222121121121212211120 c', Task(name=perfect maze 81 size 20 part 1, request=array(array(tobj)) -> tdirection -> taction, examples=[(([[1, 1, 2, 1, 1], [2, 2, 2, 2, 2], [1, 1, 1, 1, 2], [2, 2, 2, 1, 2], [1, 1, 1, 1, 2]], 1), 2), (([[1, 2, 1, 1, 1], [2, 2, 2, 2, 1], [1, 1, 1, 2, 1], [2, 2, 1, 2, 1], [1, 1, 1, 2, 1]], 1), 2), (([[2, 1, 1, 1, 1], [2, 2, 2, 1, 2], [1, 1, 2, 1, 1], [2, 1, 2, 1, 2], [1, 1, 2, 1, 2]], 1), 2), (([[1, 1, 1, 1, 1], [2, 2, 1, 2, 2], [1, 2, 1, 1, 1], [1, 2, 1, 2, 1], [1, 2, 1, 2, 1]], 1), 0), (([[1, 2, 1, 2, 1], [1, 2, 2, 2, 2], [1, 2, 1, 2, 1], [2, 2, 1, 2, 1], [1, 1, 1, 1, 1]], 0), 0), (([[1, 1, 1, 1, 1], [1, 2, 2, 2, 2], [1, 1, 1, 1, 1], [2, 2, 2, 2, 2], [1, 2, 1, 1, 1]], 3), 0), (([[1, 1, 1, 2, 1], [2, 2, 2, 2, 1], [1, 1, 1, 1, 1], [1, 2, 1, 2, 2], [1, 2, 1, 2, 1]], 2), 2), (([[1, 1, 2, 1, 2], [2, 2, 2, 1, 2], [1, 1, 1, 1, 2], [2, 1, 2, 2, 2], [2, 1, 2, 1, 1]], 2), 2), (([[1, 2, 1, 2, 1], [2, 2, 1, 2, 1], [1, 1, 1, 2, 1], [1, 2, 2, 2, 2], [1, 2, 1, 1, 1]], 2), 2), (([[2, 1, 2, 1, 1], [2, 1, 2, 1, 2], [1, 1, 2, 1, 2], [2, 2, 2, 2, 2], [2, 1, 1, 1, 1]], 2), 2), (([[1, 2, 1, 1, 1], [1, 2, 1, 2, 1], [1, 2, 1, 2, 1], [2, 2, 2, 2, 1], [1, 1, 1, 1, 1]], 2), 0), (([[1, 2, 1, 2, 1], [1, 2, 2, 2, 2], [1, 1, 1, 1, 1], [2, 2, 2, 2, 2], [1, 1, 1, 2, 1]], 1), 2), (([[2, 1, 2, 1, 2], [2, 2, 2, 2, 2], [1, 1, 1, 1, 1], [2, 2, 2, 2, 2], [1, 1, 2, 1, 1]], 1), 2), (([[1, 2, 1, 2, 1], [2, 2, 2, 2, 1], [1, 1, 1, 1, 1], [2, 2, 2, 2, 2], [1, 2, 1, 1, 1]], 1), 2), (([[2, 1, 2, 1, 1], [2, 2, 2, 1, 2], [1, 1, 1, 1, 2], [2, 2, 2, 2, 2], [2, 1, 1, 1, 2]], 1), 2), (([[1, 2, 1, 1, 1], [2, 2, 1, 2, 2], [1, 1, 1, 2, 1], [2, 2, 2, 2, 2], [1, 1, 1, 2, 1]], 1), 2), (([[2, 1, 1, 1, 1], [2, 1, 2, 2, 2], [1, 1, 2, 1, 1], [2, 2, 2, 2, 2], [1, 1, 2, 1, 2]], 1), 2), (([[1, 1, 1, 1, 1], [1, 2, 2, 2, 2], [1, 2, 1, 1, 1], [2, 2, 2, 2, 1], [1, 2, 1, 2, 1]], 1), 0), (([[1, 2, 1, 1, 1], [1, 2, 2, 2, 1], [1, 1, 1, 2, 1], [2, 2, 1, 2, 1], [1, 2, 1, 1, 1]], 0), 2), (([[2, 1, 1, 1, 2], [2, 2, 2, 1, 2], [1, 1, 2, 1, 1], [2, 1, 2, 1, 2], [2, 1, 1, 1, 2]], 0), 2)])],\n",
       "       dtype=object)]"
      ]
     },
     "execution_count": 25,
     "metadata": {},
     "output_type": "execute_result"
    }
   ],
   "source": [
    "solved_stats_dict.get(20)"
   ]
  },
  {
   "cell_type": "code",
   "execution_count": 2,
   "id": "856b430e-cb13-4d99-898e-229a20e0a832",
   "metadata": {},
   "outputs": [
    {
     "data": {
      "text/html": [
       "<div>\n",
       "<style scoped>\n",
       "    .dataframe tbody tr th:only-of-type {\n",
       "        vertical-align: middle;\n",
       "    }\n",
       "\n",
       "    .dataframe tbody tr th {\n",
       "        vertical-align: top;\n",
       "    }\n",
       "\n",
       "    .dataframe thead th {\n",
       "        text-align: right;\n",
       "    }\n",
       "</style>\n",
       "<table border=\"1\" class=\"dataframe\">\n",
       "  <thead>\n",
       "    <tr style=\"text-align: right;\">\n",
       "      <th></th>\n",
       "      <th>DreamCoder</th>\n",
       "      <th>Enumerative Search</th>\n",
       "      <th>CodeT5</th>\n",
       "      <th>LibT5</th>\n",
       "      <th>Fixed</th>\n",
       "    </tr>\n",
       "  </thead>\n",
       "  <tbody>\n",
       "    <tr>\n",
       "      <th>5</th>\n",
       "      <td>0.225000</td>\n",
       "      <td>0.225000</td>\n",
       "      <td>0.590625</td>\n",
       "      <td>0.850000</td>\n",
       "      <td>0.696875</td>\n",
       "    </tr>\n",
       "    <tr>\n",
       "      <th>6</th>\n",
       "      <td>0.145985</td>\n",
       "      <td>0.145985</td>\n",
       "      <td>0.474453</td>\n",
       "      <td>0.788321</td>\n",
       "      <td>0.664234</td>\n",
       "    </tr>\n",
       "    <tr>\n",
       "      <th>7</th>\n",
       "      <td>0.101266</td>\n",
       "      <td>0.101266</td>\n",
       "      <td>0.396624</td>\n",
       "      <td>0.713080</td>\n",
       "      <td>0.594937</td>\n",
       "    </tr>\n",
       "    <tr>\n",
       "      <th>8</th>\n",
       "      <td>0.033981</td>\n",
       "      <td>0.033981</td>\n",
       "      <td>0.315534</td>\n",
       "      <td>0.626214</td>\n",
       "      <td>0.509709</td>\n",
       "    </tr>\n",
       "    <tr>\n",
       "      <th>9</th>\n",
       "      <td>0.055249</td>\n",
       "      <td>0.055249</td>\n",
       "      <td>0.325967</td>\n",
       "      <td>0.580110</td>\n",
       "      <td>0.491713</td>\n",
       "    </tr>\n",
       "    <tr>\n",
       "      <th>10</th>\n",
       "      <td>0.030675</td>\n",
       "      <td>0.030675</td>\n",
       "      <td>0.245399</td>\n",
       "      <td>0.478528</td>\n",
       "      <td>0.368098</td>\n",
       "    </tr>\n",
       "    <tr>\n",
       "      <th>11</th>\n",
       "      <td>0.026667</td>\n",
       "      <td>0.026667</td>\n",
       "      <td>0.213333</td>\n",
       "      <td>0.460000</td>\n",
       "      <td>0.306667</td>\n",
       "    </tr>\n",
       "    <tr>\n",
       "      <th>12</th>\n",
       "      <td>0.007407</td>\n",
       "      <td>0.007407</td>\n",
       "      <td>0.148148</td>\n",
       "      <td>0.333333</td>\n",
       "      <td>0.296296</td>\n",
       "    </tr>\n",
       "    <tr>\n",
       "      <th>13</th>\n",
       "      <td>0.016000</td>\n",
       "      <td>0.016000</td>\n",
       "      <td>0.160000</td>\n",
       "      <td>0.304000</td>\n",
       "      <td>0.256000</td>\n",
       "    </tr>\n",
       "    <tr>\n",
       "      <th>14</th>\n",
       "      <td>0.008772</td>\n",
       "      <td>0.008772</td>\n",
       "      <td>0.149123</td>\n",
       "      <td>0.236842</td>\n",
       "      <td>0.210526</td>\n",
       "    </tr>\n",
       "    <tr>\n",
       "      <th>15</th>\n",
       "      <td>0.018868</td>\n",
       "      <td>0.018868</td>\n",
       "      <td>0.113208</td>\n",
       "      <td>0.226415</td>\n",
       "      <td>0.169811</td>\n",
       "    </tr>\n",
       "    <tr>\n",
       "      <th>16</th>\n",
       "      <td>0.010000</td>\n",
       "      <td>0.010000</td>\n",
       "      <td>0.100000</td>\n",
       "      <td>0.210000</td>\n",
       "      <td>0.150000</td>\n",
       "    </tr>\n",
       "    <tr>\n",
       "      <th>17</th>\n",
       "      <td>0.010870</td>\n",
       "      <td>0.010870</td>\n",
       "      <td>0.065217</td>\n",
       "      <td>0.119565</td>\n",
       "      <td>0.097826</td>\n",
       "    </tr>\n",
       "    <tr>\n",
       "      <th>18</th>\n",
       "      <td>0.011494</td>\n",
       "      <td>0.011494</td>\n",
       "      <td>0.068966</td>\n",
       "      <td>0.149425</td>\n",
       "      <td>0.091954</td>\n",
       "    </tr>\n",
       "    <tr>\n",
       "      <th>19</th>\n",
       "      <td>0.012500</td>\n",
       "      <td>0.012500</td>\n",
       "      <td>0.087500</td>\n",
       "      <td>0.137500</td>\n",
       "      <td>0.075000</td>\n",
       "    </tr>\n",
       "    <tr>\n",
       "      <th>20</th>\n",
       "      <td>0.000000</td>\n",
       "      <td>0.000000</td>\n",
       "      <td>0.025641</td>\n",
       "      <td>0.038462</td>\n",
       "      <td>0.064103</td>\n",
       "    </tr>\n",
       "    <tr>\n",
       "      <th>21</th>\n",
       "      <td>0.000000</td>\n",
       "      <td>0.000000</td>\n",
       "      <td>0.026316</td>\n",
       "      <td>0.078947</td>\n",
       "      <td>0.052632</td>\n",
       "    </tr>\n",
       "    <tr>\n",
       "      <th>22</th>\n",
       "      <td>0.000000</td>\n",
       "      <td>0.000000</td>\n",
       "      <td>0.014286</td>\n",
       "      <td>0.057143</td>\n",
       "      <td>0.028571</td>\n",
       "    </tr>\n",
       "    <tr>\n",
       "      <th>23</th>\n",
       "      <td>0.000000</td>\n",
       "      <td>0.000000</td>\n",
       "      <td>0.031746</td>\n",
       "      <td>0.015873</td>\n",
       "      <td>0.047619</td>\n",
       "    </tr>\n",
       "    <tr>\n",
       "      <th>24</th>\n",
       "      <td>0.000000</td>\n",
       "      <td>0.000000</td>\n",
       "      <td>0.015873</td>\n",
       "      <td>0.063492</td>\n",
       "      <td>0.047619</td>\n",
       "    </tr>\n",
       "    <tr>\n",
       "      <th>25</th>\n",
       "      <td>0.000000</td>\n",
       "      <td>0.000000</td>\n",
       "      <td>0.016393</td>\n",
       "      <td>0.032787</td>\n",
       "      <td>0.032787</td>\n",
       "    </tr>\n",
       "    <tr>\n",
       "      <th>26</th>\n",
       "      <td>0.000000</td>\n",
       "      <td>0.000000</td>\n",
       "      <td>0.016667</td>\n",
       "      <td>0.016667</td>\n",
       "      <td>0.033333</td>\n",
       "    </tr>\n",
       "    <tr>\n",
       "      <th>27</th>\n",
       "      <td>0.000000</td>\n",
       "      <td>0.000000</td>\n",
       "      <td>0.018519</td>\n",
       "      <td>0.018519</td>\n",
       "      <td>0.018519</td>\n",
       "    </tr>\n",
       "    <tr>\n",
       "      <th>28</th>\n",
       "      <td>0.000000</td>\n",
       "      <td>0.000000</td>\n",
       "      <td>0.000000</td>\n",
       "      <td>0.000000</td>\n",
       "      <td>0.000000</td>\n",
       "    </tr>\n",
       "    <tr>\n",
       "      <th>29</th>\n",
       "      <td>0.000000</td>\n",
       "      <td>0.000000</td>\n",
       "      <td>0.019608</td>\n",
       "      <td>0.019608</td>\n",
       "      <td>0.019608</td>\n",
       "    </tr>\n",
       "    <tr>\n",
       "      <th>30</th>\n",
       "      <td>0.000000</td>\n",
       "      <td>0.000000</td>\n",
       "      <td>0.000000</td>\n",
       "      <td>0.000000</td>\n",
       "      <td>0.000000</td>\n",
       "    </tr>\n",
       "  </tbody>\n",
       "</table>\n",
       "</div>"
      ],
      "text/plain": [
       "    DreamCoder  Enumerative Search    CodeT5     LibT5     Fixed\n",
       "5     0.225000            0.225000  0.590625  0.850000  0.696875\n",
       "6     0.145985            0.145985  0.474453  0.788321  0.664234\n",
       "7     0.101266            0.101266  0.396624  0.713080  0.594937\n",
       "8     0.033981            0.033981  0.315534  0.626214  0.509709\n",
       "9     0.055249            0.055249  0.325967  0.580110  0.491713\n",
       "10    0.030675            0.030675  0.245399  0.478528  0.368098\n",
       "11    0.026667            0.026667  0.213333  0.460000  0.306667\n",
       "12    0.007407            0.007407  0.148148  0.333333  0.296296\n",
       "13    0.016000            0.016000  0.160000  0.304000  0.256000\n",
       "14    0.008772            0.008772  0.149123  0.236842  0.210526\n",
       "15    0.018868            0.018868  0.113208  0.226415  0.169811\n",
       "16    0.010000            0.010000  0.100000  0.210000  0.150000\n",
       "17    0.010870            0.010870  0.065217  0.119565  0.097826\n",
       "18    0.011494            0.011494  0.068966  0.149425  0.091954\n",
       "19    0.012500            0.012500  0.087500  0.137500  0.075000\n",
       "20    0.000000            0.000000  0.025641  0.038462  0.064103\n",
       "21    0.000000            0.000000  0.026316  0.078947  0.052632\n",
       "22    0.000000            0.000000  0.014286  0.057143  0.028571\n",
       "23    0.000000            0.000000  0.031746  0.015873  0.047619\n",
       "24    0.000000            0.000000  0.015873  0.063492  0.047619\n",
       "25    0.000000            0.000000  0.016393  0.032787  0.032787\n",
       "26    0.000000            0.000000  0.016667  0.016667  0.033333\n",
       "27    0.000000            0.000000  0.018519  0.018519  0.018519\n",
       "28    0.000000            0.000000  0.000000  0.000000  0.000000\n",
       "29    0.000000            0.000000  0.019608  0.019608  0.019608\n",
       "30    0.000000            0.000000  0.000000  0.000000  0.000000"
      ]
     },
     "execution_count": 2,
     "metadata": {},
     "output_type": "execute_result"
    }
   ],
   "source": [
    "import pandas as pd\n",
    "import matplotlib.pyplot as plt\n",
    "%matplotlib inline\n",
    "enum = pd.read_csv('/home/ma/e/eberhardinger/workspaces/ec/eval_enum_search.csv', index_col=0)\n",
    "libt5= pd.read_csv('/home/ma/e/eberhardinger/workspaces/T5-experimens/flip-data/eval.csv', index_col=0)\n",
    "nolib=pd.read_csv('/home/ma/e/eberhardinger/workspaces/T5-experimens/no-lib-learning/eval.csv', index_col=0)\n",
    "nnsearch=pd.read_csv('/home/ma/e/eberhardinger/workspaces/ec/eval_neural-guided_search.csv', index_col=0)\n",
    "libfixed = pd.read_csv('/home/ma/e/eberhardinger/workspaces/T5-experimens/fix-test-collator-less-tasks/eval.csv', index_col=0)\n",
    "normed = pd.DataFrame(enum.solved/ enum.tasks, columns=[\"DreamCoder\"])\n",
    "normed['Enumerative Search'] = nnsearch.solved / enum.tasks\n",
    "normed['CodeT5'] = nolib.solved / enum.tasks\n",
    "normed['LibT5'] = libt5.solved / enum.tasks\n",
    "normed['Fixed'] = libfixed.solved / enum.tasks\n",
    "normed = normed.fillna(0.0)\n",
    "normed"
   ]
  },
  {
   "cell_type": "code",
   "execution_count": 3,
   "id": "ddaff36d-35ee-43fc-91ae-5722414cf829",
   "metadata": {},
   "outputs": [
    {
     "data": {
      "image/png": "[encoded data removed]",
      "text/plain": [
       "<Figure size 2000x750 with 1 Axes>"
      ]
     },
     "metadata": {},
     "output_type": "display_data"
    }
   ],
   "source": [
    "font = {'size'   : 22}\n",
    "\n",
    "plt.rc('font', **font)\n",
    "normed.plot(kind='line', figsize=(20,7.5), xlabel=\"Sequence Length\", ylabel=\"Accuracy\", title=\"Evaluation of the different methods on new data\", style=['-','--','-', '-'], linewidth=3)\n",
    "plt.savefig(\"eval.pdf\", format=\"pdf\")"
   ]
  },
  {
   "cell_type": "code",
   "execution_count": 9,
   "id": "eaa1a8a9-b37b-408c-a13b-7676f49aba24",
   "metadata": {},
   "outputs": [
    {
     "data": {
      "text/html": [
       "<div>\n",
       "<style scoped>\n",
       "    .dataframe tbody tr th:only-of-type {\n",
       "        vertical-align: middle;\n",
       "    }\n",
       "\n",
       "    .dataframe tbody tr th {\n",
       "        vertical-align: top;\n",
       "    }\n",
       "\n",
       "    .dataframe thead th {\n",
       "        text-align: right;\n",
       "    }\n",
       "</style>\n",
       "<table border=\"1\" class=\"dataframe\">\n",
       "  <thead>\n",
       "    <tr style=\"text-align: right;\">\n",
       "      <th></th>\n",
       "      <th>solved</th>\n",
       "      <th>tasks</th>\n",
       "    </tr>\n",
       "  </thead>\n",
       "  <tbody>\n",
       "    <tr>\n",
       "      <th>5</th>\n",
       "      <td>189</td>\n",
       "      <td>320</td>\n",
       "    </tr>\n",
       "    <tr>\n",
       "      <th>6</th>\n",
       "      <td>130</td>\n",
       "      <td>274</td>\n",
       "    </tr>\n",
       "    <tr>\n",
       "      <th>7</th>\n",
       "      <td>94</td>\n",
       "      <td>237</td>\n",
       "    </tr>\n",
       "    <tr>\n",
       "      <th>8</th>\n",
       "      <td>65</td>\n",
       "      <td>206</td>\n",
       "    </tr>\n",
       "    <tr>\n",
       "      <th>9</th>\n",
       "      <td>59</td>\n",
       "      <td>181</td>\n",
       "    </tr>\n",
       "    <tr>\n",
       "      <th>10</th>\n",
       "      <td>40</td>\n",
       "      <td>163</td>\n",
       "    </tr>\n",
       "    <tr>\n",
       "      <th>11</th>\n",
       "      <td>32</td>\n",
       "      <td>150</td>\n",
       "    </tr>\n",
       "    <tr>\n",
       "      <th>12</th>\n",
       "      <td>20</td>\n",
       "      <td>135</td>\n",
       "    </tr>\n",
       "    <tr>\n",
       "      <th>13</th>\n",
       "      <td>20</td>\n",
       "      <td>125</td>\n",
       "    </tr>\n",
       "    <tr>\n",
       "      <th>14</th>\n",
       "      <td>17</td>\n",
       "      <td>114</td>\n",
       "    </tr>\n",
       "    <tr>\n",
       "      <th>15</th>\n",
       "      <td>12</td>\n",
       "      <td>106</td>\n",
       "    </tr>\n",
       "    <tr>\n",
       "      <th>16</th>\n",
       "      <td>10</td>\n",
       "      <td>100</td>\n",
       "    </tr>\n",
       "    <tr>\n",
       "      <th>17</th>\n",
       "      <td>6</td>\n",
       "      <td>92</td>\n",
       "    </tr>\n",
       "    <tr>\n",
       "      <th>18</th>\n",
       "      <td>6</td>\n",
       "      <td>87</td>\n",
       "    </tr>\n",
       "    <tr>\n",
       "      <th>19</th>\n",
       "      <td>7</td>\n",
       "      <td>80</td>\n",
       "    </tr>\n",
       "    <tr>\n",
       "      <th>20</th>\n",
       "      <td>2</td>\n",
       "      <td>78</td>\n",
       "    </tr>\n",
       "    <tr>\n",
       "      <th>21</th>\n",
       "      <td>2</td>\n",
       "      <td>76</td>\n",
       "    </tr>\n",
       "    <tr>\n",
       "      <th>22</th>\n",
       "      <td>1</td>\n",
       "      <td>70</td>\n",
       "    </tr>\n",
       "    <tr>\n",
       "      <th>23</th>\n",
       "      <td>2</td>\n",
       "      <td>63</td>\n",
       "    </tr>\n",
       "    <tr>\n",
       "      <th>24</th>\n",
       "      <td>1</td>\n",
       "      <td>63</td>\n",
       "    </tr>\n",
       "    <tr>\n",
       "      <th>25</th>\n",
       "      <td>1</td>\n",
       "      <td>61</td>\n",
       "    </tr>\n",
       "    <tr>\n",
       "      <th>26</th>\n",
       "      <td>1</td>\n",
       "      <td>60</td>\n",
       "    </tr>\n",
       "    <tr>\n",
       "      <th>27</th>\n",
       "      <td>1</td>\n",
       "      <td>54</td>\n",
       "    </tr>\n",
       "    <tr>\n",
       "      <th>28</th>\n",
       "      <td>0</td>\n",
       "      <td>52</td>\n",
       "    </tr>\n",
       "    <tr>\n",
       "      <th>29</th>\n",
       "      <td>1</td>\n",
       "      <td>51</td>\n",
       "    </tr>\n",
       "    <tr>\n",
       "      <th>30</th>\n",
       "      <td>0</td>\n",
       "      <td>48</td>\n",
       "    </tr>\n",
       "  </tbody>\n",
       "</table>\n",
       "</div>"
      ],
      "text/plain": [
       "    solved  tasks\n",
       "5      189    320\n",
       "6      130    274\n",
       "7       94    237\n",
       "8       65    206\n",
       "9       59    181\n",
       "10      40    163\n",
       "11      32    150\n",
       "12      20    135\n",
       "13      20    125\n",
       "14      17    114\n",
       "15      12    106\n",
       "16      10    100\n",
       "17       6     92\n",
       "18       6     87\n",
       "19       7     80\n",
       "20       2     78\n",
       "21       2     76\n",
       "22       1     70\n",
       "23       2     63\n",
       "24       1     63\n",
       "25       1     61\n",
       "26       1     60\n",
       "27       1     54\n",
       "28       0     52\n",
       "29       1     51\n",
       "30       0     48"
      ]
     },
     "execution_count": 9,
     "metadata": {},
     "output_type": "execute_result"
    }
   ],
   "source": [
    "pd.read_csv('/home/ma/e/eberhardinger/workspaces/T5-experimens/no-lib-learning/eval.csv', index_col=0)"
   ]
  },
  {
   "cell_type": "code",
   "execution_count": 6,
   "id": "3c7a2afa-7fe2-4075-8870-1323c3213e78",
   "metadata": {},
   "outputs": [
    {
     "data": {
      "text/html": [
       "<div>\n",
       "<style scoped>\n",
       "    .dataframe tbody tr th:only-of-type {\n",
       "        vertical-align: middle;\n",
       "    }\n",
       "\n",
       "    .dataframe tbody tr th {\n",
       "        vertical-align: top;\n",
       "    }\n",
       "\n",
       "    .dataframe thead th {\n",
       "        text-align: right;\n",
       "    }\n",
       "</style>\n",
       "<table border=\"1\" class=\"dataframe\">\n",
       "  <thead>\n",
       "    <tr style=\"text-align: right;\">\n",
       "      <th></th>\n",
       "      <th>solved</th>\n",
       "      <th>tasks</th>\n",
       "    </tr>\n",
       "  </thead>\n",
       "  <tbody>\n",
       "    <tr>\n",
       "      <th>5</th>\n",
       "      <td>72</td>\n",
       "      <td>320</td>\n",
       "    </tr>\n",
       "    <tr>\n",
       "      <th>6</th>\n",
       "      <td>40</td>\n",
       "      <td>274</td>\n",
       "    </tr>\n",
       "    <tr>\n",
       "      <th>7</th>\n",
       "      <td>24</td>\n",
       "      <td>237</td>\n",
       "    </tr>\n",
       "    <tr>\n",
       "      <th>8</th>\n",
       "      <td>7</td>\n",
       "      <td>206</td>\n",
       "    </tr>\n",
       "    <tr>\n",
       "      <th>9</th>\n",
       "      <td>10</td>\n",
       "      <td>181</td>\n",
       "    </tr>\n",
       "    <tr>\n",
       "      <th>10</th>\n",
       "      <td>5</td>\n",
       "      <td>163</td>\n",
       "    </tr>\n",
       "    <tr>\n",
       "      <th>11</th>\n",
       "      <td>4</td>\n",
       "      <td>150</td>\n",
       "    </tr>\n",
       "    <tr>\n",
       "      <th>12</th>\n",
       "      <td>1</td>\n",
       "      <td>135</td>\n",
       "    </tr>\n",
       "    <tr>\n",
       "      <th>13</th>\n",
       "      <td>2</td>\n",
       "      <td>125</td>\n",
       "    </tr>\n",
       "    <tr>\n",
       "      <th>14</th>\n",
       "      <td>1</td>\n",
       "      <td>114</td>\n",
       "    </tr>\n",
       "    <tr>\n",
       "      <th>15</th>\n",
       "      <td>2</td>\n",
       "      <td>106</td>\n",
       "    </tr>\n",
       "    <tr>\n",
       "      <th>16</th>\n",
       "      <td>1</td>\n",
       "      <td>100</td>\n",
       "    </tr>\n",
       "    <tr>\n",
       "      <th>17</th>\n",
       "      <td>1</td>\n",
       "      <td>92</td>\n",
       "    </tr>\n",
       "    <tr>\n",
       "      <th>18</th>\n",
       "      <td>1</td>\n",
       "      <td>87</td>\n",
       "    </tr>\n",
       "    <tr>\n",
       "      <th>19</th>\n",
       "      <td>1</td>\n",
       "      <td>80</td>\n",
       "    </tr>\n",
       "    <tr>\n",
       "      <th>20</th>\n",
       "      <td>0</td>\n",
       "      <td>78</td>\n",
       "    </tr>\n",
       "    <tr>\n",
       "      <th>21</th>\n",
       "      <td>0</td>\n",
       "      <td>76</td>\n",
       "    </tr>\n",
       "    <tr>\n",
       "      <th>22</th>\n",
       "      <td>0</td>\n",
       "      <td>70</td>\n",
       "    </tr>\n",
       "    <tr>\n",
       "      <th>23</th>\n",
       "      <td>0</td>\n",
       "      <td>63</td>\n",
       "    </tr>\n",
       "    <tr>\n",
       "      <th>24</th>\n",
       "      <td>0</td>\n",
       "      <td>63</td>\n",
       "    </tr>\n",
       "    <tr>\n",
       "      <th>25</th>\n",
       "      <td>0</td>\n",
       "      <td>61</td>\n",
       "    </tr>\n",
       "    <tr>\n",
       "      <th>26</th>\n",
       "      <td>0</td>\n",
       "      <td>60</td>\n",
       "    </tr>\n",
       "    <tr>\n",
       "      <th>27</th>\n",
       "      <td>0</td>\n",
       "      <td>54</td>\n",
       "    </tr>\n",
       "    <tr>\n",
       "      <th>28</th>\n",
       "      <td>0</td>\n",
       "      <td>52</td>\n",
       "    </tr>\n",
       "    <tr>\n",
       "      <th>29</th>\n",
       "      <td>0</td>\n",
       "      <td>51</td>\n",
       "    </tr>\n",
       "    <tr>\n",
       "      <th>30</th>\n",
       "      <td>0</td>\n",
       "      <td>48</td>\n",
       "    </tr>\n",
       "  </tbody>\n",
       "</table>\n",
       "</div>"
      ],
      "text/plain": [
       "    solved  tasks\n",
       "5       72    320\n",
       "6       40    274\n",
       "7       24    237\n",
       "8        7    206\n",
       "9       10    181\n",
       "10       5    163\n",
       "11       4    150\n",
       "12       1    135\n",
       "13       2    125\n",
       "14       1    114\n",
       "15       2    106\n",
       "16       1    100\n",
       "17       1     92\n",
       "18       1     87\n",
       "19       1     80\n",
       "20       0     78\n",
       "21       0     76\n",
       "22       0     70\n",
       "23       0     63\n",
       "24       0     63\n",
       "25       0     61\n",
       "26       0     60\n",
       "27       0     54\n",
       "28       0     52\n",
       "29       0     51\n",
       "30       0     48"
      ]
     },
     "execution_count": 6,
     "metadata": {},
     "output_type": "execute_result"
    }
   ],
   "source": [
    "nnsearch"
   ]
  },
  {
   "cell_type": "code",
   "execution_count": null,
   "id": "1e40a5c3-da2d-47f0-8d24-a72f096d5867",
   "metadata": {},
   "outputs": [],
   "source": []
  }
 ],
 "metadata": {
  "kernelspec": {
   "display_name": "Python 3 (ipykernel)",
   "language": "python",
   "name": "python3"
  },
  "language_info": {
   "codemirror_mode": {
    "name": "ipython",
    "version": 3
   },
   "file_extension": ".py",
   "mimetype": "text/x-python",
   "name": "python",
   "nbconvert_exporter": "python",
   "pygments_lexer": "ipython3",
   "version": "3.9.16"
  }
 },
 "nbformat": 4,
 "nbformat_minor": 5
}
